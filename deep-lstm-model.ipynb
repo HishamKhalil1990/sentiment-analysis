{
  "cells": [
    {
      "cell_type": "markdown",
      "metadata": {
        "id": "2O6XY9vtwcTm"
      },
      "source": [
        "# Packages"
      ]
    },
    {
      "cell_type": "markdown",
      "metadata": {
        "id": "RRklYmlbwhHv"
      },
      "source": [
        "### install packages"
      ]
    },
    {
      "cell_type": "code",
      "execution_count": 1,
      "metadata": {
        "colab": {
          "base_uri": "https://localhost:8080/"
        },
        "id": "82rMP4L-wowT",
        "outputId": "01e84aef-a21a-4bf6-9705-9a4e7ec758fe"
      },
      "outputs": [
        {
          "name": "stdout",
          "output_type": "stream",
          "text": [
            "Looking in indexes: https://pypi.org/simple, https://us-python.pkg.dev/colab-wheels/public/simple/\n",
            "Requirement already satisfied: matplotlib in /usr/local/lib/python3.7/dist-packages (3.2.2)\n",
            "Requirement already satisfied: kiwisolver>=1.0.1 in /usr/local/lib/python3.7/dist-packages (from matplotlib) (1.4.4)\n",
            "Requirement already satisfied: python-dateutil>=2.1 in /usr/local/lib/python3.7/dist-packages (from matplotlib) (2.8.2)\n",
            "Requirement already satisfied: pyparsing!=2.0.4,!=2.1.2,!=2.1.6,>=2.0.1 in /usr/local/lib/python3.7/dist-packages (from matplotlib) (3.0.9)\n",
            "Requirement already satisfied: numpy>=1.11 in /usr/local/lib/python3.7/dist-packages (from matplotlib) (1.21.6)\n",
            "Requirement already satisfied: cycler>=0.10 in /usr/local/lib/python3.7/dist-packages (from matplotlib) (0.11.0)\n",
            "Requirement already satisfied: typing-extensions in /usr/local/lib/python3.7/dist-packages (from kiwisolver>=1.0.1->matplotlib) (4.1.1)\n",
            "Requirement already satisfied: six>=1.5 in /usr/local/lib/python3.7/dist-packages (from python-dateutil>=2.1->matplotlib) (1.15.0)\n",
            "Looking in indexes: https://pypi.org/simple, https://us-python.pkg.dev/colab-wheels/public/simple/\n",
            "Requirement already satisfied: torch in /usr/local/lib/python3.7/dist-packages (1.12.1+cu113)\n",
            "Requirement already satisfied: typing-extensions in /usr/local/lib/python3.7/dist-packages (from torch) (4.1.1)\n",
            "Looking in indexes: https://pypi.org/simple, https://us-python.pkg.dev/colab-wheels/public/simple/\n",
            "Requirement already satisfied: torchmetrics in /usr/local/lib/python3.7/dist-packages (0.10.2)\n",
            "Requirement already satisfied: torch>=1.3.1 in /usr/local/lib/python3.7/dist-packages (from torchmetrics) (1.12.1+cu113)\n",
            "Requirement already satisfied: packaging in /usr/local/lib/python3.7/dist-packages (from torchmetrics) (21.3)\n",
            "Requirement already satisfied: numpy>=1.17.2 in /usr/local/lib/python3.7/dist-packages (from torchmetrics) (1.21.6)\n",
            "Requirement already satisfied: typing-extensions in /usr/local/lib/python3.7/dist-packages (from torchmetrics) (4.1.1)\n",
            "Requirement already satisfied: pyparsing!=3.0.5,>=2.0.2 in /usr/local/lib/python3.7/dist-packages (from packaging->torchmetrics) (3.0.9)\n"
          ]
        }
      ],
      "source": [
        "# !pip install matplotlib\n",
        "# !pip install torch\n",
        "# !pip install torchmetrics"
      ]
    },
    {
      "cell_type": "markdown",
      "metadata": {
        "id": "_RFmD_HowlIj"
      },
      "source": [
        "### import packages"
      ]
    },
    {
      "cell_type": "code",
      "execution_count": 2,
      "metadata": {
        "id": "PaEGw9qyxmY1"
      },
      "outputs": [],
      "source": [
        "import os\n",
        "import json\n",
        "from dataclasses import dataclass\n",
        "\n",
        "import torch\n",
        "from torch import nn\n",
        "import torchmetrics\n",
        "\n",
        "from matplotlib import pyplot as plt\n",
        "\n",
        "%matplotlib inline"
      ]
    },
    {
      "cell_type": "markdown",
      "metadata": {
        "id": "a16XPWJm0l1Z"
      },
      "source": [
        "# Prepare Dataset"
      ]
    },
    {
      "cell_type": "markdown",
      "metadata": {
        "id": "HVrqxWVZ0JBd"
      },
      "source": [
        "### Upload Tokenized tweets and labels"
      ]
    },
    {
      "cell_type": "code",
      "execution_count": 3,
      "metadata": {
        "id": "D5yaZSNYyqWc"
      },
      "outputs": [],
      "source": [
        "data_folder = 'sample_data'\n",
        "data_folder = os.path.join(os.curdir,data_folder)\n",
        "stemmed_tweets_path = os.path.join(data_folder,'stemmed_tweets.json')\n",
        "vocab_path = os.path.join(data_folder,'vocabs.json')\n",
        "tokenization_path = os.path.join(data_folder,'tokenization_matrix.json')\n",
        "stemmed_tweets = {}\n",
        "vocabs = {}\n",
        "tokenization_list = {}\n",
        "\n",
        "with open(stemmed_tweets_path,encoding='utf-8') as f:\n",
        "  stemmed_tweets = json.load(f)\n",
        "\n",
        "with open(vocab_path,encoding='utf-8') as f:\n",
        "  vocabs = json.load(f)\n",
        "\n",
        "with open(tokenization_path, 'r') as f:\n",
        "  tokenization_list = json.load(f)\n",
        "\n",
        "vocab_to_index = vocabs[\"vocab_to_index\"]\n",
        "\n",
        "y_train = stemmed_tweets[\"train_output\"]\n",
        "y_test = stemmed_tweets[\"test_output\"]\n",
        "\n",
        "tokenization_matrix = tokenization_list['tokenization_matrix']\n",
        "x_test = tokenization_list['test_data_tokenization_matrix']\n",
        "x_train = tokenization_list['train_data_tokenization_matrix']"
      ]
    },
    {
      "cell_type": "markdown",
      "metadata": {
        "id": "cQ_vy_Wz0MlU"
      },
      "source": [
        "### prepare torch dataloader"
      ]
    },
    {
      "cell_type": "code",
      "execution_count": 4,
      "metadata": {
        "id": "K8phhcg90rML"
      },
      "outputs": [],
      "source": [
        "batch_size = 16\n",
        "# convert 'pos' to [0,1] and 'neg' to [1,0] \n",
        "y_train = [[1,0] if word == 'neg' else [0,1] for word in y_train]\n",
        "y_test = [[1,0] if word == 'neg' else [0,1] for word in y_test]\n",
        "# datasets\n",
        "train_dataset = torch.utils.data.TensorDataset(torch.tensor(x_train),torch.tensor(y_train))\n",
        "test_dataset = torch.utils.data.TensorDataset(torch.tensor(x_test),torch.tensor(y_test))\n",
        "# dataloader\n",
        "train_dataloader = torch.utils.data.DataLoader(dataset=train_dataset, batch_size=batch_size, shuffle=True)\n",
        "test_dataloader = torch.utils.data.DataLoader(dataset=test_dataset, batch_size=batch_size, shuffle=True)"
      ]
    },
    {
      "cell_type": "markdown",
      "metadata": {
        "id": "xz5rWEJD3POF"
      },
      "source": [
        "# Model"
      ]
    },
    {
      "cell_type": "code",
      "execution_count": 5,
      "metadata": {
        "id": "d-7MZamy3YIp"
      },
      "outputs": [],
      "source": [
        "class SentimentAnalyzer(nn.Module):\n",
        "\n",
        "  def __init__(\n",
        "      self, \n",
        "      embedding_size:int, \n",
        "      embedding_dim:int, \n",
        "      padding_idx:int, \n",
        "      OOV_idx:int,\n",
        "      hidden_size:int, \n",
        "      num_layers:int,\n",
        "      dropout:float,\n",
        "      output_dim:int, \n",
        "  ):\n",
        "\n",
        "    super().__init__()\n",
        "\n",
        "    self.embeddings = nn.Embedding(\n",
        "        num_embeddings=embedding_size, \n",
        "        embedding_dim=embedding_dim,\n",
        "        padding_idx=padding_idx,\n",
        "        max_norm=1.0,\n",
        "    )\n",
        "\n",
        "    self.embeddings.weight.data[OOV_idx] = torch.zeros(embedding_dim)\n",
        "    \n",
        "    self.rnn = nn.LSTM(\n",
        "        input_size=embedding_dim,\n",
        "        hidden_size=hidden_size,\n",
        "        num_layers=num_layers,\n",
        "        batch_first=True,\n",
        "        bidirectional=True,\n",
        "        dropout=dropout\n",
        "    )\n",
        "\n",
        "    self.dropout_layer = nn.Dropout(dropout)\n",
        "\n",
        "    self.fc1 = nn.Linear(in_features=hidden_size * 2,out_features=hidden_size)\n",
        "\n",
        "    self.fc2 = nn.Linear(in_features=hidden_size,out_features=output_dim)\n",
        "\n",
        "  def forward(self,x):\n",
        "    embeddings = self.embeddings(x)\n",
        "    embeddings = self.dropout_layer(embeddings)\n",
        "    output_states,(last_hidden_state,last_cell_state) = self.rnn(embeddings)\n",
        "    output = self.dropout_layer(torch.cat([last_hidden_state[-2],last_hidden_state[-1]],dim=1))\n",
        "    output = torch.relu(self.fc1(output))\n",
        "    output = self.fc2(output)\n",
        "    return output"
      ]
    },
    {
      "cell_type": "markdown",
      "metadata": {
        "id": "hHhSRYBgOHd0"
      },
      "source": [
        "# Training"
      ]
    },
    {
      "cell_type": "markdown",
      "metadata": {
        "id": "m_EAyGK-PN2D"
      },
      "source": [
        "### training setup"
      ]
    },
    {
      "cell_type": "markdown",
      "metadata": {
        "id": "iBi2U5ZgRfro"
      },
      "source": [
        "##### variables defintion"
      ]
    },
    {
      "cell_type": "code",
      "execution_count": 6,
      "metadata": {
        "id": "yY9AkmaPONpi"
      },
      "outputs": [],
      "source": [
        "device = torch.device('cuda' if torch.cuda.is_available() else 'cpu')\n",
        "embedding_size = len(vocab_to_index)\n",
        "embedding_dim = 100\n",
        "padding_idx = 0\n",
        "OOV_idx = 1\n",
        "hidden_size = 32\n",
        "num_layers = 1\n",
        "dropout = 0.5\n",
        "output_dim = 2\n",
        "epochs = 15"
      ]
    },
    {
      "cell_type": "markdown",
      "metadata": {
        "id": "uOXxl1p8RBzp"
      },
      "source": [
        "##### model"
      ]
    },
    {
      "cell_type": "code",
      "execution_count": 7,
      "metadata": {
        "colab": {
          "base_uri": "https://localhost:8080/"
        },
        "id": "CYGqHJ6aRE1Y",
        "outputId": "5bfcd8a7-ed31-4ca4-fefe-0c1957b4233e"
      },
      "outputs": [
        {
          "name": "stderr",
          "output_type": "stream",
          "text": [
            "/usr/local/lib/python3.7/dist-packages/torch/nn/modules/rnn.py:65: UserWarning: dropout option adds dropout after all but last recurrent layer, so non-zero dropout expects num_layers greater than 1, but got dropout=0.5 and num_layers=1\n",
            "  \"num_layers={}\".format(dropout, num_layers))\n"
          ]
        }
      ],
      "source": [
        "model = SentimentAnalyzer(\n",
        "      embedding_size=embedding_size, \n",
        "      embedding_dim=embedding_dim, \n",
        "      padding_idx=padding_idx, \n",
        "      OOV_idx=OOV_idx,\n",
        "      hidden_size=hidden_size, \n",
        "      num_layers=num_layers,\n",
        "      dropout=dropout,\n",
        "      output_dim=output_dim, \n",
        ").to(device)"
      ]
    },
    {
      "cell_type": "markdown",
      "metadata": {
        "id": "lOKi2zrLRkkd"
      },
      "source": [
        "##### optim, loss and metric functions"
      ]
    },
    {
      "cell_type": "code",
      "execution_count": 8,
      "metadata": {
        "id": "gPuRlZkXR1ca"
      },
      "outputs": [],
      "source": [
        "# optim function\n",
        "optim = torch.optim.Adam(params=model.parameters(), lr=1e-4)\n",
        "# loss function\n",
        "criterion = nn.CrossEntropyLoss()\n",
        "# metric functions\n",
        "train_metric = torchmetrics.F1Score(num_classes=2).to(device)\n",
        "val_metric = torchmetrics.F1Score(num_classes=2).to(device)"
      ]
    },
    {
      "cell_type": "markdown",
      "metadata": {
        "id": "iAwiXg3VTFFk"
      },
      "source": [
        "##### epoch class"
      ]
    },
    {
      "cell_type": "code",
      "execution_count": 10,
      "metadata": {
        "id": "iz9pH5zpTI9T"
      },
      "outputs": [],
      "source": [
        "@dataclass\n",
        "class Epoch:\n",
        "    epoch: int\n",
        "    training_loss: float\n",
        "    validation_loss: float\n",
        "    training_acc: float\n",
        "    validation_acc: float\n",
        "    \n",
        "    def log(self) -> None:\n",
        "        print(f\"Epoch {self.epoch + 1}: Training Loss: {self.training_loss}\\tValidation Loss: {self.validation_loss} || Training F1: {self.training_acc}\\tValidation F1: {self.validation_acc}\")"
      ]
    },
    {
      "cell_type": "markdown",
      "metadata": {
        "id": "gVUeA0UdUBv6"
      },
      "source": [
        "### trainnig "
      ]
    },
    {
      "cell_type": "code",
      "execution_count": 11,
      "metadata": {
        "colab": {
          "base_uri": "https://localhost:8080/"
        },
        "id": "KiDk9zywUIOq",
        "outputId": "ec61237e-1237-4f23-a415-e81edbb29e33"
      },
      "outputs": [
        {
          "name": "stdout",
          "output_type": "stream",
          "text": [
            "Epoch 1: Training Loss: 0.498\tValidation Loss: 0.289 || Training F1: 0.511\tValidation F1: 0.84\n",
            "Epoch 2: Training Loss: 0.289\tValidation Loss: 0.238 || Training F1: 0.844\tValidation F1: 0.883\n",
            "Epoch 3: Training Loss: 0.242\tValidation Loss: 0.212 || Training F1: 0.882\tValidation F1: 0.903\n",
            "Epoch 4: Training Loss: 0.217\tValidation Loss: 0.202 || Training F1: 0.899\tValidation F1: 0.909\n",
            "Epoch 5: Training Loss: 0.2\tValidation Loss: 0.196 || Training F1: 0.908\tValidation F1: 0.916\n",
            "Epoch 6: Training Loss: 0.186\tValidation Loss: 0.196 || Training F1: 0.917\tValidation F1: 0.917\n",
            "Epoch 7: Training Loss: 0.175\tValidation Loss: 0.194 || Training F1: 0.922\tValidation F1: 0.921\n",
            "Epoch 8: Training Loss: 0.169\tValidation Loss: 0.191 || Training F1: 0.926\tValidation F1: 0.921\n",
            "Epoch 9: Training Loss: 0.161\tValidation Loss: 0.194 || Training F1: 0.929\tValidation F1: 0.923\n",
            "Epoch 10: Training Loss: 0.155\tValidation Loss: 0.189 || Training F1: 0.933\tValidation F1: 0.923\n",
            "Epoch 11: Training Loss: 0.15\tValidation Loss: 0.191 || Training F1: 0.933\tValidation F1: 0.925\n",
            "Epoch 12: Training Loss: 0.145\tValidation Loss: 0.19 || Training F1: 0.936\tValidation F1: 0.924\n",
            "Epoch 13: Training Loss: 0.139\tValidation Loss: 0.198 || Training F1: 0.939\tValidation F1: 0.923\n",
            "Epoch 14: Training Loss: 0.134\tValidation Loss: 0.191 || Training F1: 0.941\tValidation F1: 0.925\n",
            "Epoch 15: Training Loss: 0.131\tValidation Loss: 0.194 || Training F1: 0.942\tValidation F1: 0.926\n"
          ]
        }
      ],
      "source": [
        "history = []\n",
        "for epoch in range(epochs):\n",
        "  train_loss = 0\n",
        "  val_loss = 0\n",
        "  train_f1 = 0\n",
        "  val_f1 = 0\n",
        "  train_metric.reset()\n",
        "  val_metric.reset()\n",
        "  model.train()\n",
        "  for batch in train_dataloader:\n",
        "    optim.zero_grad()\n",
        "    input, target = batch\n",
        "    input, target = input.to(device), target.to(device)\n",
        "    pred = model(input)\n",
        "    loss = criterion(pred,target.float())\n",
        "    train_metric(pred,target)\n",
        "    loss.backward()\n",
        "    optim.step()\n",
        "    train_loss += loss.item()\n",
        "  train_f1 = round(train_metric.compute().item(),3)\n",
        "  model.eval()\n",
        "  with torch.no_grad():\n",
        "    for batch in test_dataloader:\n",
        "      input, target = batch\n",
        "      input, target = input.to(device), target.to(device)\n",
        "      pred = model(input)\n",
        "      loss = criterion(pred,target.float())\n",
        "      val_metric(pred,target)\n",
        "      val_loss += loss.item()\n",
        "    val_f1 = round(val_metric.compute().item(),3) \n",
        "  train_loss = round(train_loss/len(train_dataloader),3)\n",
        "  val_loss = round(val_loss/len(test_dataloader),3)\n",
        "  epoch_result = Epoch(\n",
        "    epoch=epoch,\n",
        "    training_loss=train_loss,\n",
        "    validation_loss=val_loss,\n",
        "    training_acc=train_f1,\n",
        "    validation_acc=val_f1,\n",
        "  )\n",
        "  history.append(epoch_result)\n",
        "  epoch_result.log()"
      ]
    },
    {
      "cell_type": "markdown",
      "metadata": {
        "id": "DMstBaQtwq95"
      },
      "source": [
        "### visualization"
      ]
    },
    {
      "cell_type": "code",
      "execution_count": 12,
      "metadata": {
        "colab": {
          "base_uri": "https://localhost:8080/",
          "height": 741
        },
        "id": "k6o0ccX_wwYZ",
        "outputId": "b83fbd26-124e-4b4f-e838-10e451faa8b8"
      },
      "outputs": [
        {
          "data": {
            "image/png": "[encoded data removed]",
            "text/plain": [
              "<Figure size 1080x864 with 2 Axes>"
            ]
          },
          "metadata": {
            "needs_background": "light"
          },
          "output_type": "display_data"
        }
      ],
      "source": [
        "train_loss = list(map(lambda x: x.training_loss ,history))\n",
        "val_loss = list(map(lambda x: x.validation_loss ,history))\n",
        "train_acc = list(map(lambda x: x.training_acc, history))\n",
        "val_acc = list(map(lambda x: x.validation_acc, history))\n",
        "\n",
        "\n",
        "fig, (ax1, ax2) = plt.subplots(figsize=(15, 12), ncols=2)\n",
        "\n",
        "ax1.plot(range(epochs), train_loss, label=\"Training\")\n",
        "ax1.plot(range(epochs), val_loss, label=\"Validation\")\n",
        "\n",
        "ax2.plot(range(epochs), train_acc, label=\"Training\")\n",
        "ax2.plot(range(epochs), val_acc, label=\"Validation\")\n",
        "\n",
        "ax1.set_title(\"Loss\", fontdict=dict(size=15), pad=15)\n",
        "ax2.set_title(\"F1\", fontdict=dict(size=15), pad=15)\n",
        "\n",
        "ax1.set_xticks(range(epochs))\n",
        "ax2.set_xticks(range(epochs))\n",
        "\n",
        "ax1.set_xlabel(\"Epoch\")\n",
        "ax2.set_xlabel(\"Epoch\")\n",
        "\n",
        "plt.legend()\n",
        "plt.show()"
      ]
    }
  ],
  "metadata": {
    "colab": {
      "collapsed_sections": [
        "RRklYmlbwhHv",
        "_RFmD_HowlIj",
        "HVrqxWVZ0JBd",
        "cQ_vy_Wz0MlU",
        "xz5rWEJD3POF",
        "iBi2U5ZgRfro",
        "uOXxl1p8RBzp",
        "lOKi2zrLRkkd",
        "iAwiXg3VTFFk",
        "gVUeA0UdUBv6",
        "DMstBaQtwq95"
      ],
      "provenance": []
    },
    "kernelspec": {
      "display_name": "Python 3",
      "name": "python3"
    },
    "language_info": {
      "name": "python"
    }
  },
  "nbformat": 4,
  "nbformat_minor": 0
}
