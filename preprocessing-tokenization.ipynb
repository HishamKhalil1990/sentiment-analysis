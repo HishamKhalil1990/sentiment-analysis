{
 "cells": [
  {
   "cell_type": "markdown",
   "metadata": {
    "id": "11ddttEH6Ft8"
   },
   "source": [
    "# Packages"
   ]
  },
  {
   "cell_type": "markdown",
   "metadata": {
    "id": "CcLK-WbLP_1r"
   },
   "source": [
    "### install packges"
   ]
  },
  {
   "cell_type": "code",
   "execution_count": null,
   "metadata": {
    "id": "jo9Cn65t6JYm"
   },
   "outputs": [],
   "source": []
  },
  {
   "cell_type": "code",
   "execution_count": 1,
   "metadata": {
    "colab": {
     "base_uri": "https://localhost:8080/"
    },
    "id": "Dh5YDg1GYLnH",
    "outputId": "f6584655-f12d-4b0e-a160-fe106b1f43f6"
   },
   "outputs": [
    {
     "name": "stdout",
     "output_type": "stream",
     "text": [
      "Looking in indexes: https://pypi.org/simple, https://us-python.pkg.dev/colab-wheels/public/simple/\n",
      "Requirement already satisfied: pandas in /usr/local/lib/python3.7/dist-packages (1.3.5)\n",
      "Requirement already satisfied: numpy>=1.17.3 in /usr/local/lib/python3.7/dist-packages (from pandas) (1.21.6)\n",
      "Requirement already satisfied: pytz>=2017.3 in /usr/local/lib/python3.7/dist-packages (from pandas) (2022.5)\n",
      "Requirement already satisfied: python-dateutil>=2.7.3 in /usr/local/lib/python3.7/dist-packages (from pandas) (2.8.2)\n",
      "Requirement already satisfied: six>=1.5 in /usr/local/lib/python3.7/dist-packages (from python-dateutil>=2.7.3->pandas) (1.15.0)\n",
      "Looking in indexes: https://pypi.org/simple, https://us-python.pkg.dev/colab-wheels/public/simple/\n",
      "Requirement already satisfied: numpy in /usr/local/lib/python3.7/dist-packages (1.21.6)\n",
      "Looking in indexes: https://pypi.org/simple, https://us-python.pkg.dev/colab-wheels/public/simple/\n",
      "Requirement already satisfied: sklearn in /usr/local/lib/python3.7/dist-packages (0.0)\n",
      "Requirement already satisfied: scikit-learn in /usr/local/lib/python3.7/dist-packages (from sklearn) (1.0.2)\n",
      "Requirement already satisfied: threadpoolctl>=2.0.0 in /usr/local/lib/python3.7/dist-packages (from scikit-learn->sklearn) (3.1.0)\n",
      "Requirement already satisfied: scipy>=1.1.0 in /usr/local/lib/python3.7/dist-packages (from scikit-learn->sklearn) (1.7.3)\n",
      "Requirement already satisfied: numpy>=1.14.6 in /usr/local/lib/python3.7/dist-packages (from scikit-learn->sklearn) (1.21.6)\n",
      "Requirement already satisfied: joblib>=0.11 in /usr/local/lib/python3.7/dist-packages (from scikit-learn->sklearn) (1.2.0)\n",
      "Looking in indexes: https://pypi.org/simple, https://us-python.pkg.dev/colab-wheels/public/simple/\n",
      "Requirement already satisfied: seaborn in /usr/local/lib/python3.7/dist-packages (0.11.2)\n",
      "Requirement already satisfied: pandas>=0.23 in /usr/local/lib/python3.7/dist-packages (from seaborn) (1.3.5)\n",
      "Requirement already satisfied: matplotlib>=2.2 in /usr/local/lib/python3.7/dist-packages (from seaborn) (3.2.2)\n",
      "Requirement already satisfied: scipy>=1.0 in /usr/local/lib/python3.7/dist-packages (from seaborn) (1.7.3)\n",
      "Requirement already satisfied: numpy>=1.15 in /usr/local/lib/python3.7/dist-packages (from seaborn) (1.21.6)\n",
      "Requirement already satisfied: python-dateutil>=2.1 in /usr/local/lib/python3.7/dist-packages (from matplotlib>=2.2->seaborn) (2.8.2)\n",
      "Requirement already satisfied: pyparsing!=2.0.4,!=2.1.2,!=2.1.6,>=2.0.1 in /usr/local/lib/python3.7/dist-packages (from matplotlib>=2.2->seaborn) (3.0.9)\n",
      "Requirement already satisfied: kiwisolver>=1.0.1 in /usr/local/lib/python3.7/dist-packages (from matplotlib>=2.2->seaborn) (1.4.4)\n",
      "Requirement already satisfied: cycler>=0.10 in /usr/local/lib/python3.7/dist-packages (from matplotlib>=2.2->seaborn) (0.11.0)\n",
      "Requirement already satisfied: typing-extensions in /usr/local/lib/python3.7/dist-packages (from kiwisolver>=1.0.1->matplotlib>=2.2->seaborn) (3.10.0.2)\n",
      "Requirement already satisfied: pytz>=2017.3 in /usr/local/lib/python3.7/dist-packages (from pandas>=0.23->seaborn) (2022.5)\n",
      "Requirement already satisfied: six>=1.5 in /usr/local/lib/python3.7/dist-packages (from python-dateutil>=2.1->matplotlib>=2.2->seaborn) (1.15.0)\n",
      "Looking in indexes: https://pypi.org/simple, https://us-python.pkg.dev/colab-wheels/public/simple/\n",
      "Requirement already satisfied: nltk in /usr/local/lib/python3.7/dist-packages (3.7)\n",
      "Requirement already satisfied: regex>=2021.8.3 in /usr/local/lib/python3.7/dist-packages (from nltk) (2021.11.10)\n",
      "Requirement already satisfied: tqdm in /usr/local/lib/python3.7/dist-packages (from nltk) (4.64.1)\n",
      "Requirement already satisfied: joblib in /usr/local/lib/python3.7/dist-packages (from nltk) (1.2.0)\n",
      "Requirement already satisfied: click in /usr/local/lib/python3.7/dist-packages (from nltk) (7.1.2)\n",
      "Looking in indexes: https://pypi.org/simple, https://us-python.pkg.dev/colab-wheels/public/simple/\n",
      "Requirement already satisfied: matplotlib in /usr/local/lib/python3.7/dist-packages (3.2.2)\n",
      "Requirement already satisfied: kiwisolver>=1.0.1 in /usr/local/lib/python3.7/dist-packages (from matplotlib) (1.4.4)\n",
      "Requirement already satisfied: pyparsing!=2.0.4,!=2.1.2,!=2.1.6,>=2.0.1 in /usr/local/lib/python3.7/dist-packages (from matplotlib) (3.0.9)\n",
      "Requirement already satisfied: python-dateutil>=2.1 in /usr/local/lib/python3.7/dist-packages (from matplotlib) (2.8.2)\n",
      "Requirement already satisfied: numpy>=1.11 in /usr/local/lib/python3.7/dist-packages (from matplotlib) (1.21.6)\n",
      "Requirement already satisfied: cycler>=0.10 in /usr/local/lib/python3.7/dist-packages (from matplotlib) (0.11.0)\n",
      "Requirement already satisfied: typing-extensions in /usr/local/lib/python3.7/dist-packages (from kiwisolver>=1.0.1->matplotlib) (3.10.0.2)\n",
      "Requirement already satisfied: six>=1.5 in /usr/local/lib/python3.7/dist-packages (from python-dateutil>=2.1->matplotlib) (1.15.0)\n",
      "Looking in indexes: https://pypi.org/simple, https://us-python.pkg.dev/colab-wheels/public/simple/\n",
      "Requirement already satisfied: mahad in /usr/local/lib/python3.7/dist-packages (0.3.0)\n",
      "Requirement already satisfied: hijri-converter<3.0.0,>=2.2.3 in /usr/local/lib/python3.7/dist-packages (from mahad) (2.2.4)\n",
      "Requirement already satisfied: python-dateutil<3.0.0,>=2.8.2 in /usr/local/lib/python3.7/dist-packages (from mahad) (2.8.2)\n",
      "Requirement already satisfied: regex<2022.0.0,>=2021.8.28 in /usr/local/lib/python3.7/dist-packages (from mahad) (2021.11.10)\n",
      "Requirement already satisfied: typing-extensions<4.0.0,>=3.10.0 in /usr/local/lib/python3.7/dist-packages (from mahad) (3.10.0.2)\n",
      "Requirement already satisfied: tqdm<5.0.0,>=4.61.1 in /usr/local/lib/python3.7/dist-packages (from mahad) (4.64.1)\n",
      "Requirement already satisfied: six>=1.5 in /usr/local/lib/python3.7/dist-packages (from python-dateutil<3.0.0,>=2.8.2->mahad) (1.15.0)\n",
      "Looking in indexes: https://pypi.org/simple, https://us-python.pkg.dev/colab-wheels/public/simple/\n",
      "Requirement already satisfied: tokenizers in /usr/local/lib/python3.7/dist-packages (0.13.1)\n"
     ]
    }
   ],
   "source": [
    "# !pip install pandas\n",
    "# !pip install numpy\n",
    "# !pip install sklearn\n",
    "# !pip install seaborn\n",
    "# !pip install nltk\n",
    "# !pip install matplotlib\n",
    "# !pip install mahad\n",
    "# !pip install tokenizers"
   ]
  },
  {
   "cell_type": "markdown",
   "metadata": {
    "id": "ceJTKAc7QLdr"
   },
   "source": [
    "### import packges"
   ]
  },
  {
   "cell_type": "code",
   "execution_count": 2,
   "metadata": {
    "id": "jf_YL151Y8ab"
   },
   "outputs": [],
   "source": [
    "import os\n",
    "import re\n",
    "from collections import Counter\n",
    "import json\n",
    "\n",
    "import pandas as pd\n",
    "import numpy as np\n",
    "import sklearn\n",
    "import seaborn as sns\n",
    "import nltk\n",
    "from nltk.corpus import stopwords\n",
    "from nltk.stem.isri import ISRIStemmer\n",
    "from nltk.stem import WordNetLemmatizer\n",
    "from maha.cleaners.functions import remove,normalize,reduce_repeated_substring\n",
    "from maha.expressions.general import EXPRESSION_EMOJIS\n",
    "from matplotlib import pyplot as plt\n",
    "\n",
    "from tokenizers import Tokenizer\n",
    "from tokenizers.models import WordLevel\n",
    "from tokenizers.trainers import WordLevelTrainer\n",
    "\n",
    "%matplotlib inline"
   ]
  },
  {
   "cell_type": "code",
   "execution_count": 3,
   "metadata": {
    "colab": {
     "base_uri": "https://localhost:8080/"
    },
    "id": "yRZFZ21h2uEM",
    "outputId": "903f7b8a-7c91-4589-e2e1-e88098ba811e"
   },
   "outputs": [
    {
     "name": "stderr",
     "output_type": "stream",
     "text": [
      "[nltk_data] Downloading collection 'popular'\n",
      "[nltk_data]    | \n",
      "[nltk_data]    | Downloading package cmudict to /root/nltk_data...\n",
      "[nltk_data]    |   Package cmudict is already up-to-date!\n",
      "[nltk_data]    | Downloading package gazetteers to /root/nltk_data...\n",
      "[nltk_data]    |   Package gazetteers is already up-to-date!\n",
      "[nltk_data]    | Downloading package genesis to /root/nltk_data...\n",
      "[nltk_data]    |   Package genesis is already up-to-date!\n",
      "[nltk_data]    | Downloading package gutenberg to /root/nltk_data...\n",
      "[nltk_data]    |   Package gutenberg is already up-to-date!\n",
      "[nltk_data]    | Downloading package inaugural to /root/nltk_data...\n",
      "[nltk_data]    |   Package inaugural is already up-to-date!\n",
      "[nltk_data]    | Downloading package movie_reviews to\n",
      "[nltk_data]    |     /root/nltk_data...\n",
      "[nltk_data]    |   Package movie_reviews is already up-to-date!\n",
      "[nltk_data]    | Downloading package names to /root/nltk_data...\n",
      "[nltk_data]    |   Package names is already up-to-date!\n",
      "[nltk_data]    | Downloading package shakespeare to /root/nltk_data...\n",
      "[nltk_data]    |   Package shakespeare is already up-to-date!\n",
      "[nltk_data]    | Downloading package stopwords to /root/nltk_data...\n",
      "[nltk_data]    |   Package stopwords is already up-to-date!\n",
      "[nltk_data]    | Downloading package treebank to /root/nltk_data...\n",
      "[nltk_data]    |   Package treebank is already up-to-date!\n",
      "[nltk_data]    | Downloading package twitter_samples to\n",
      "[nltk_data]    |     /root/nltk_data...\n",
      "[nltk_data]    |   Package twitter_samples is already up-to-date!\n",
      "[nltk_data]    | Downloading package omw to /root/nltk_data...\n",
      "[nltk_data]    |   Package omw is already up-to-date!\n",
      "[nltk_data]    | Downloading package omw-1.4 to /root/nltk_data...\n",
      "[nltk_data]    |   Package omw-1.4 is already up-to-date!\n",
      "[nltk_data]    | Downloading package wordnet to /root/nltk_data...\n",
      "[nltk_data]    |   Package wordnet is already up-to-date!\n",
      "[nltk_data]    | Downloading package wordnet2021 to /root/nltk_data...\n",
      "[nltk_data]    |   Package wordnet2021 is already up-to-date!\n",
      "[nltk_data]    | Downloading package wordnet31 to /root/nltk_data...\n",
      "[nltk_data]    |   Package wordnet31 is already up-to-date!\n",
      "[nltk_data]    | Downloading package wordnet_ic to /root/nltk_data...\n",
      "[nltk_data]    |   Package wordnet_ic is already up-to-date!\n",
      "[nltk_data]    | Downloading package words to /root/nltk_data...\n",
      "[nltk_data]    |   Package words is already up-to-date!\n",
      "[nltk_data]    | Downloading package maxent_ne_chunker to\n",
      "[nltk_data]    |     /root/nltk_data...\n",
      "[nltk_data]    |   Package maxent_ne_chunker is already up-to-date!\n",
      "[nltk_data]    | Downloading package punkt to /root/nltk_data...\n",
      "[nltk_data]    |   Package punkt is already up-to-date!\n",
      "[nltk_data]    | Downloading package snowball_data to\n",
      "[nltk_data]    |     /root/nltk_data...\n",
      "[nltk_data]    |   Package snowball_data is already up-to-date!\n",
      "[nltk_data]    | Downloading package averaged_perceptron_tagger to\n",
      "[nltk_data]    |     /root/nltk_data...\n",
      "[nltk_data]    |   Package averaged_perceptron_tagger is already up-\n",
      "[nltk_data]    |       to-date!\n",
      "[nltk_data]    | \n",
      "[nltk_data]  Done downloading collection popular\n"
     ]
    },
    {
     "data": {
      "text/plain": [
       "True"
      ]
     },
     "execution_count": 3,
     "metadata": {},
     "output_type": "execute_result"
    }
   ],
   "source": [
    "nltk.download('popular')"
   ]
  },
  {
   "cell_type": "markdown",
   "metadata": {
    "id": "BIju0m_b6SVI"
   },
   "source": [
    "# Datasets"
   ]
  },
  {
   "cell_type": "markdown",
   "metadata": {
    "id": "pEo6anrJQNzP"
   },
   "source": [
    "### datasets uploading"
   ]
  },
  {
   "cell_type": "code",
   "execution_count": 4,
   "metadata": {
    "id": "XNz3LlLirx2k"
   },
   "outputs": [],
   "source": [
    "# create data folder, assign data path urls and data expected columns\n",
    "data_folder = 'sample_data'\n",
    "data_folder = os.path.join(os.curdir,data_folder)\n",
    "test_neg_data = f'{data_folder}/test_Arabic_tweets_negative_20190413.tsv'\n",
    "test_pos_data = f'{data_folder}/test_Arabic_tweets_positive_20190413.tsv'\n",
    "train_neg_data = f'{data_folder}/train_Arabic_tweets_negative_20190413.tsv'\n",
    "train_pos_data = f'{data_folder}/train_Arabic_tweets_positive_20190413.tsv'\n",
    "columns = [\"sentiment\",\"tweet\"]"
   ]
  },
  {
   "cell_type": "code",
   "execution_count": 5,
   "metadata": {
    "id": "9O18etWMZG3i"
   },
   "outputs": [],
   "source": [
    "# read data from files\n",
    "test_arabic_neg_tweets = pd.read_csv(\n",
    "    filepath_or_buffer=test_neg_data, sep='\\t', names=columns, header=None\n",
    ")\n",
    "test_arabic_pos_tweets = pd.read_csv(\n",
    "    filepath_or_buffer=test_pos_data, sep='\\t', names=columns, header=None\n",
    ")\n",
    "train_arabic_neg_tweets = pd.read_csv(\n",
    "    filepath_or_buffer=train_neg_data, sep='\\t', names=columns, header=None\n",
    ")\n",
    "train_arabic_pos_tweets = pd.read_csv(\n",
    "    filepath_or_buffer=train_pos_data, sep='\\t', names=columns, header=None\n",
    ")"
   ]
  },
  {
   "cell_type": "code",
   "execution_count": 6,
   "metadata": {
    "colab": {
     "base_uri": "https://localhost:8080/",
     "height": 0
    },
    "id": "5nGhRfalkRG8",
    "outputId": "4f752881-8ce9-4e60-8818-804db5c43546"
   },
   "outputs": [
    {
     "data": {
      "text/html": [
       "\n",
       "  <div id=\"df-c84334e1-2ff8-4f74-9ade-4df3b50dff6a\">\n",
       "    <div class=\"colab-df-container\">\n",
       "      <div>\n",
       "<style scoped>\n",
       "    .dataframe tbody tr th:only-of-type {\n",
       "        vertical-align: middle;\n",
       "    }\n",
       "\n",
       "    .dataframe tbody tr th {\n",
       "        vertical-align: top;\n",
       "    }\n",
       "\n",
       "    .dataframe thead th {\n",
       "        text-align: right;\n",
       "    }\n",
       "</style>\n",
       "<table border=\"1\" class=\"dataframe\">\n",
       "  <thead>\n",
       "    <tr style=\"text-align: right;\">\n",
       "      <th></th>\n",
       "      <th>sentiment</th>\n",
       "      <th>tweet</th>\n",
       "    </tr>\n",
       "  </thead>\n",
       "  <tbody>\n",
       "    <tr>\n",
       "      <th>0</th>\n",
       "      <td>neg</td>\n",
       "      <td>حتى الايتونز خربتوه مو صاحين انتو؟؟ 😭</td>\n",
       "    </tr>\n",
       "    <tr>\n",
       "      <th>1</th>\n",
       "      <td>neg</td>\n",
       "      <td>واحد تبع النظام السوري يقول أن المخابرات السور...</td>\n",
       "    </tr>\n",
       "    <tr>\n",
       "      <th>2</th>\n",
       "      <td>neg</td>\n",
       "      <td>الى متى التعامل السئ للخادمات وعدم احترامهم وك...</td>\n",
       "    </tr>\n",
       "    <tr>\n",
       "      <th>3</th>\n",
       "      <td>neg</td>\n",
       "      <td>رايح جاي ي طحلبي 🐸 #الهلال_الاهلي</td>\n",
       "    </tr>\n",
       "    <tr>\n",
       "      <th>4</th>\n",
       "      <td>neg</td>\n",
       "      <td>تتمغط ومعها سداع 😫</td>\n",
       "    </tr>\n",
       "  </tbody>\n",
       "</table>\n",
       "</div>\n",
       "      <button class=\"colab-df-convert\" onclick=\"convertToInteractive('df-c84334e1-2ff8-4f74-9ade-4df3b50dff6a')\"\n",
       "              title=\"Convert this dataframe to an interactive table.\"\n",
       "              style=\"display:none;\">\n",
       "        \n",
       "  <svg xmlns=\"http://www.w3.org/2000/svg\" height=\"24px\"viewBox=\"0 0 24 24\"\n",
       "       width=\"24px\">\n",
       "    <path d=\"M0 0h24v24H0V0z\" fill=\"none\"/>\n",
       "    <path d=\"M18.56 5.44l.94 2.06.94-2.06 2.06-.94-2.06-.94-.94-2.06-.94 2.06-2.06.94zm-11 1L8.5 8.5l.94-2.06 2.06-.94-2.06-.94L8.5 2.5l-.94 2.06-2.06.94zm10 10l.94 2.06.94-2.06 2.06-.94-2.06-.94-.94-2.06-.94 2.06-2.06.94z\"/><path d=\"M17.41 7.96l-1.37-1.37c-.4-.4-.92-.59-1.43-.59-.52 0-1.04.2-1.43.59L10.3 9.45l-7.72 7.72c-.78.78-.78 2.05 0 2.83L4 21.41c.39.39.9.59 1.41.59.51 0 1.02-.2 1.41-.59l7.78-7.78 2.81-2.81c.8-.78.8-2.07 0-2.86zM5.41 20L4 18.59l7.72-7.72 1.47 1.35L5.41 20z\"/>\n",
       "  </svg>\n",
       "      </button>\n",
       "      \n",
       "  <style>\n",
       "    .colab-df-container {\n",
       "      display:flex;\n",
       "      flex-wrap:wrap;\n",
       "      gap: 12px;\n",
       "    }\n",
       "\n",
       "    .colab-df-convert {\n",
       "      background-color: #E8F0FE;\n",
       "      border: none;\n",
       "      border-radius: 50%;\n",
       "      cursor: pointer;\n",
       "      display: none;\n",
       "      fill: #1967D2;\n",
       "      height: 32px;\n",
       "      padding: 0 0 0 0;\n",
       "      width: 32px;\n",
       "    }\n",
       "\n",
       "    .colab-df-convert:hover {\n",
       "      background-color: #E2EBFA;\n",
       "      box-shadow: 0px 1px 2px rgba(60, 64, 67, 0.3), 0px 1px 3px 1px rgba(60, 64, 67, 0.15);\n",
       "      fill: #174EA6;\n",
       "    }\n",
       "\n",
       "    [theme=dark] .colab-df-convert {\n",
       "      background-color: #3B4455;\n",
       "      fill: #D2E3FC;\n",
       "    }\n",
       "\n",
       "    [theme=dark] .colab-df-convert:hover {\n",
       "      background-color: #434B5C;\n",
       "      box-shadow: 0px 1px 3px 1px rgba(0, 0, 0, 0.15);\n",
       "      filter: drop-shadow(0px 1px 2px rgba(0, 0, 0, 0.3));\n",
       "      fill: #FFFFFF;\n",
       "    }\n",
       "  </style>\n",
       "\n",
       "      <script>\n",
       "        const buttonEl =\n",
       "          document.querySelector('#df-c84334e1-2ff8-4f74-9ade-4df3b50dff6a button.colab-df-convert');\n",
       "        buttonEl.style.display =\n",
       "          google.colab.kernel.accessAllowed ? 'block' : 'none';\n",
       "\n",
       "        async function convertToInteractive(key) {\n",
       "          const element = document.querySelector('#df-c84334e1-2ff8-4f74-9ade-4df3b50dff6a');\n",
       "          const dataTable =\n",
       "            await google.colab.kernel.invokeFunction('convertToInteractive',\n",
       "                                                     [key], {});\n",
       "          if (!dataTable) return;\n",
       "\n",
       "          const docLinkHtml = 'Like what you see? Visit the ' +\n",
       "            '<a target=\"_blank\" href=https://colab.research.google.com/notebooks/data_table.ipynb>data table notebook</a>'\n",
       "            + ' to learn more about interactive tables.';\n",
       "          element.innerHTML = '';\n",
       "          dataTable['output_type'] = 'display_data';\n",
       "          await google.colab.output.renderOutput(dataTable, element);\n",
       "          const docLink = document.createElement('div');\n",
       "          docLink.innerHTML = docLinkHtml;\n",
       "          element.appendChild(docLink);\n",
       "        }\n",
       "      </script>\n",
       "    </div>\n",
       "  </div>\n",
       "  "
      ],
      "text/plain": [
       "  sentiment                                              tweet\n",
       "0       neg              حتى الايتونز خربتوه مو صاحين انتو؟؟ 😭\n",
       "1       neg  واحد تبع النظام السوري يقول أن المخابرات السور...\n",
       "2       neg  الى متى التعامل السئ للخادمات وعدم احترامهم وك...\n",
       "3       neg                  رايح جاي ي طحلبي 🐸 #الهلال_الاهلي\n",
       "4       neg                                 تتمغط ومعها سداع 😫"
      ]
     },
     "execution_count": 6,
     "metadata": {},
     "output_type": "execute_result"
    }
   ],
   "source": [
    "test_arabic_neg_tweets.head()"
   ]
  },
  {
   "cell_type": "code",
   "execution_count": 7,
   "metadata": {
    "colab": {
     "base_uri": "https://localhost:8080/",
     "height": 0
    },
    "id": "BpQF6PazttBs",
    "outputId": "fc05553f-36c4-47f1-f21a-5781043b7114"
   },
   "outputs": [
    {
     "data": {
      "text/html": [
       "\n",
       "  <div id=\"df-54316074-9b88-4116-9f77-01e7f0597ae6\">\n",
       "    <div class=\"colab-df-container\">\n",
       "      <div>\n",
       "<style scoped>\n",
       "    .dataframe tbody tr th:only-of-type {\n",
       "        vertical-align: middle;\n",
       "    }\n",
       "\n",
       "    .dataframe tbody tr th {\n",
       "        vertical-align: top;\n",
       "    }\n",
       "\n",
       "    .dataframe thead th {\n",
       "        text-align: right;\n",
       "    }\n",
       "</style>\n",
       "<table border=\"1\" class=\"dataframe\">\n",
       "  <thead>\n",
       "    <tr style=\"text-align: right;\">\n",
       "      <th></th>\n",
       "      <th>sentiment</th>\n",
       "      <th>tweet</th>\n",
       "    </tr>\n",
       "  </thead>\n",
       "  <tbody>\n",
       "    <tr>\n",
       "      <th>0</th>\n",
       "      <td>pos</td>\n",
       "      <td>#الهلال_الاهلي فوز هلالي مهم الحمد لله 💙 زوران...</td>\n",
       "    </tr>\n",
       "    <tr>\n",
       "      <th>1</th>\n",
       "      <td>pos</td>\n",
       "      <td>صباحك خيرات ومسرات 🌸</td>\n",
       "    </tr>\n",
       "    <tr>\n",
       "      <th>2</th>\n",
       "      <td>pos</td>\n",
       "      <td>#تأمل قال الله ﷻ :- _*​﴿بواد غير ذي زرع ﴾*_ 💫💫...</td>\n",
       "    </tr>\n",
       "    <tr>\n",
       "      <th>3</th>\n",
       "      <td>pos</td>\n",
       "      <td>😂😂 يا جدعان الرجاله اللي فوق ال دول خطر ع تويت...</td>\n",
       "    </tr>\n",
       "    <tr>\n",
       "      <th>4</th>\n",
       "      <td>pos</td>\n",
       "      <td>رساله صباحيه : 💛 اللهم اسألك التوفيق في جميع ا...</td>\n",
       "    </tr>\n",
       "  </tbody>\n",
       "</table>\n",
       "</div>\n",
       "      <button class=\"colab-df-convert\" onclick=\"convertToInteractive('df-54316074-9b88-4116-9f77-01e7f0597ae6')\"\n",
       "              title=\"Convert this dataframe to an interactive table.\"\n",
       "              style=\"display:none;\">\n",
       "        \n",
       "  <svg xmlns=\"http://www.w3.org/2000/svg\" height=\"24px\"viewBox=\"0 0 24 24\"\n",
       "       width=\"24px\">\n",
       "    <path d=\"M0 0h24v24H0V0z\" fill=\"none\"/>\n",
       "    <path d=\"M18.56 5.44l.94 2.06.94-2.06 2.06-.94-2.06-.94-.94-2.06-.94 2.06-2.06.94zm-11 1L8.5 8.5l.94-2.06 2.06-.94-2.06-.94L8.5 2.5l-.94 2.06-2.06.94zm10 10l.94 2.06.94-2.06 2.06-.94-2.06-.94-.94-2.06-.94 2.06-2.06.94z\"/><path d=\"M17.41 7.96l-1.37-1.37c-.4-.4-.92-.59-1.43-.59-.52 0-1.04.2-1.43.59L10.3 9.45l-7.72 7.72c-.78.78-.78 2.05 0 2.83L4 21.41c.39.39.9.59 1.41.59.51 0 1.02-.2 1.41-.59l7.78-7.78 2.81-2.81c.8-.78.8-2.07 0-2.86zM5.41 20L4 18.59l7.72-7.72 1.47 1.35L5.41 20z\"/>\n",
       "  </svg>\n",
       "      </button>\n",
       "      \n",
       "  <style>\n",
       "    .colab-df-container {\n",
       "      display:flex;\n",
       "      flex-wrap:wrap;\n",
       "      gap: 12px;\n",
       "    }\n",
       "\n",
       "    .colab-df-convert {\n",
       "      background-color: #E8F0FE;\n",
       "      border: none;\n",
       "      border-radius: 50%;\n",
       "      cursor: pointer;\n",
       "      display: none;\n",
       "      fill: #1967D2;\n",
       "      height: 32px;\n",
       "      padding: 0 0 0 0;\n",
       "      width: 32px;\n",
       "    }\n",
       "\n",
       "    .colab-df-convert:hover {\n",
       "      background-color: #E2EBFA;\n",
       "      box-shadow: 0px 1px 2px rgba(60, 64, 67, 0.3), 0px 1px 3px 1px rgba(60, 64, 67, 0.15);\n",
       "      fill: #174EA6;\n",
       "    }\n",
       "\n",
       "    [theme=dark] .colab-df-convert {\n",
       "      background-color: #3B4455;\n",
       "      fill: #D2E3FC;\n",
       "    }\n",
       "\n",
       "    [theme=dark] .colab-df-convert:hover {\n",
       "      background-color: #434B5C;\n",
       "      box-shadow: 0px 1px 3px 1px rgba(0, 0, 0, 0.15);\n",
       "      filter: drop-shadow(0px 1px 2px rgba(0, 0, 0, 0.3));\n",
       "      fill: #FFFFFF;\n",
       "    }\n",
       "  </style>\n",
       "\n",
       "      <script>\n",
       "        const buttonEl =\n",
       "          document.querySelector('#df-54316074-9b88-4116-9f77-01e7f0597ae6 button.colab-df-convert');\n",
       "        buttonEl.style.display =\n",
       "          google.colab.kernel.accessAllowed ? 'block' : 'none';\n",
       "\n",
       "        async function convertToInteractive(key) {\n",
       "          const element = document.querySelector('#df-54316074-9b88-4116-9f77-01e7f0597ae6');\n",
       "          const dataTable =\n",
       "            await google.colab.kernel.invokeFunction('convertToInteractive',\n",
       "                                                     [key], {});\n",
       "          if (!dataTable) return;\n",
       "\n",
       "          const docLinkHtml = 'Like what you see? Visit the ' +\n",
       "            '<a target=\"_blank\" href=https://colab.research.google.com/notebooks/data_table.ipynb>data table notebook</a>'\n",
       "            + ' to learn more about interactive tables.';\n",
       "          element.innerHTML = '';\n",
       "          dataTable['output_type'] = 'display_data';\n",
       "          await google.colab.output.renderOutput(dataTable, element);\n",
       "          const docLink = document.createElement('div');\n",
       "          docLink.innerHTML = docLinkHtml;\n",
       "          element.appendChild(docLink);\n",
       "        }\n",
       "      </script>\n",
       "    </div>\n",
       "  </div>\n",
       "  "
      ],
      "text/plain": [
       "  sentiment                                              tweet\n",
       "0       pos  #الهلال_الاهلي فوز هلالي مهم الحمد لله 💙 زوران...\n",
       "1       pos                               صباحك خيرات ومسرات 🌸\n",
       "2       pos  #تأمل قال الله ﷻ :- _*​﴿بواد غير ذي زرع ﴾*_ 💫💫...\n",
       "3       pos  😂😂 يا جدعان الرجاله اللي فوق ال دول خطر ع تويت...\n",
       "4       pos  رساله صباحيه : 💛 اللهم اسألك التوفيق في جميع ا..."
      ]
     },
     "execution_count": 7,
     "metadata": {},
     "output_type": "execute_result"
    }
   ],
   "source": [
    "test_arabic_pos_tweets.head()"
   ]
  },
  {
   "cell_type": "code",
   "execution_count": 8,
   "metadata": {
    "colab": {
     "base_uri": "https://localhost:8080/",
     "height": 0
    },
    "id": "DNjc2_AAtyDK",
    "outputId": "36445196-32af-42bb-f172-f5ac0158fbc5"
   },
   "outputs": [
    {
     "data": {
      "text/html": [
       "\n",
       "  <div id=\"df-1d97ee30-62b8-4cf4-95dd-84904e374ba8\">\n",
       "    <div class=\"colab-df-container\">\n",
       "      <div>\n",
       "<style scoped>\n",
       "    .dataframe tbody tr th:only-of-type {\n",
       "        vertical-align: middle;\n",
       "    }\n",
       "\n",
       "    .dataframe tbody tr th {\n",
       "        vertical-align: top;\n",
       "    }\n",
       "\n",
       "    .dataframe thead th {\n",
       "        text-align: right;\n",
       "    }\n",
       "</style>\n",
       "<table border=\"1\" class=\"dataframe\">\n",
       "  <thead>\n",
       "    <tr style=\"text-align: right;\">\n",
       "      <th></th>\n",
       "      <th>sentiment</th>\n",
       "      <th>tweet</th>\n",
       "    </tr>\n",
       "  </thead>\n",
       "  <tbody>\n",
       "    <tr>\n",
       "      <th>0</th>\n",
       "      <td>neg</td>\n",
       "      <td>اعترف ان بتس كانو شوي شوي يجيبو راسي لكن اليوم...</td>\n",
       "    </tr>\n",
       "    <tr>\n",
       "      <th>1</th>\n",
       "      <td>neg</td>\n",
       "      <td>توقعت اذا جات داريا بشوفهم كاملين بس لي للحين ...</td>\n",
       "    </tr>\n",
       "    <tr>\n",
       "      <th>2</th>\n",
       "      <td>neg</td>\n",
       "      <td>#الاهلي_الهلال اكتب توقعك لنتيجة لقاء الهلال و...</td>\n",
       "    </tr>\n",
       "    <tr>\n",
       "      <th>3</th>\n",
       "      <td>neg</td>\n",
       "      <td>نعمة المضادات الحيوية . تضع قطرة💧مضاد بنسلين ع...</td>\n",
       "    </tr>\n",
       "    <tr>\n",
       "      <th>4</th>\n",
       "      <td>neg</td>\n",
       "      <td>الدودو جايه تكمل علي 💔</td>\n",
       "    </tr>\n",
       "  </tbody>\n",
       "</table>\n",
       "</div>\n",
       "      <button class=\"colab-df-convert\" onclick=\"convertToInteractive('df-1d97ee30-62b8-4cf4-95dd-84904e374ba8')\"\n",
       "              title=\"Convert this dataframe to an interactive table.\"\n",
       "              style=\"display:none;\">\n",
       "        \n",
       "  <svg xmlns=\"http://www.w3.org/2000/svg\" height=\"24px\"viewBox=\"0 0 24 24\"\n",
       "       width=\"24px\">\n",
       "    <path d=\"M0 0h24v24H0V0z\" fill=\"none\"/>\n",
       "    <path d=\"M18.56 5.44l.94 2.06.94-2.06 2.06-.94-2.06-.94-.94-2.06-.94 2.06-2.06.94zm-11 1L8.5 8.5l.94-2.06 2.06-.94-2.06-.94L8.5 2.5l-.94 2.06-2.06.94zm10 10l.94 2.06.94-2.06 2.06-.94-2.06-.94-.94-2.06-.94 2.06-2.06.94z\"/><path d=\"M17.41 7.96l-1.37-1.37c-.4-.4-.92-.59-1.43-.59-.52 0-1.04.2-1.43.59L10.3 9.45l-7.72 7.72c-.78.78-.78 2.05 0 2.83L4 21.41c.39.39.9.59 1.41.59.51 0 1.02-.2 1.41-.59l7.78-7.78 2.81-2.81c.8-.78.8-2.07 0-2.86zM5.41 20L4 18.59l7.72-7.72 1.47 1.35L5.41 20z\"/>\n",
       "  </svg>\n",
       "      </button>\n",
       "      \n",
       "  <style>\n",
       "    .colab-df-container {\n",
       "      display:flex;\n",
       "      flex-wrap:wrap;\n",
       "      gap: 12px;\n",
       "    }\n",
       "\n",
       "    .colab-df-convert {\n",
       "      background-color: #E8F0FE;\n",
       "      border: none;\n",
       "      border-radius: 50%;\n",
       "      cursor: pointer;\n",
       "      display: none;\n",
       "      fill: #1967D2;\n",
       "      height: 32px;\n",
       "      padding: 0 0 0 0;\n",
       "      width: 32px;\n",
       "    }\n",
       "\n",
       "    .colab-df-convert:hover {\n",
       "      background-color: #E2EBFA;\n",
       "      box-shadow: 0px 1px 2px rgba(60, 64, 67, 0.3), 0px 1px 3px 1px rgba(60, 64, 67, 0.15);\n",
       "      fill: #174EA6;\n",
       "    }\n",
       "\n",
       "    [theme=dark] .colab-df-convert {\n",
       "      background-color: #3B4455;\n",
       "      fill: #D2E3FC;\n",
       "    }\n",
       "\n",
       "    [theme=dark] .colab-df-convert:hover {\n",
       "      background-color: #434B5C;\n",
       "      box-shadow: 0px 1px 3px 1px rgba(0, 0, 0, 0.15);\n",
       "      filter: drop-shadow(0px 1px 2px rgba(0, 0, 0, 0.3));\n",
       "      fill: #FFFFFF;\n",
       "    }\n",
       "  </style>\n",
       "\n",
       "      <script>\n",
       "        const buttonEl =\n",
       "          document.querySelector('#df-1d97ee30-62b8-4cf4-95dd-84904e374ba8 button.colab-df-convert');\n",
       "        buttonEl.style.display =\n",
       "          google.colab.kernel.accessAllowed ? 'block' : 'none';\n",
       "\n",
       "        async function convertToInteractive(key) {\n",
       "          const element = document.querySelector('#df-1d97ee30-62b8-4cf4-95dd-84904e374ba8');\n",
       "          const dataTable =\n",
       "            await google.colab.kernel.invokeFunction('convertToInteractive',\n",
       "                                                     [key], {});\n",
       "          if (!dataTable) return;\n",
       "\n",
       "          const docLinkHtml = 'Like what you see? Visit the ' +\n",
       "            '<a target=\"_blank\" href=https://colab.research.google.com/notebooks/data_table.ipynb>data table notebook</a>'\n",
       "            + ' to learn more about interactive tables.';\n",
       "          element.innerHTML = '';\n",
       "          dataTable['output_type'] = 'display_data';\n",
       "          await google.colab.output.renderOutput(dataTable, element);\n",
       "          const docLink = document.createElement('div');\n",
       "          docLink.innerHTML = docLinkHtml;\n",
       "          element.appendChild(docLink);\n",
       "        }\n",
       "      </script>\n",
       "    </div>\n",
       "  </div>\n",
       "  "
      ],
      "text/plain": [
       "  sentiment                                              tweet\n",
       "0       neg  اعترف ان بتس كانو شوي شوي يجيبو راسي لكن اليوم...\n",
       "1       neg  توقعت اذا جات داريا بشوفهم كاملين بس لي للحين ...\n",
       "2       neg  #الاهلي_الهلال اكتب توقعك لنتيجة لقاء الهلال و...\n",
       "3       neg  نعمة المضادات الحيوية . تضع قطرة💧مضاد بنسلين ع...\n",
       "4       neg                             الدودو جايه تكمل علي 💔"
      ]
     },
     "execution_count": 8,
     "metadata": {},
     "output_type": "execute_result"
    }
   ],
   "source": [
    "train_arabic_neg_tweets.head()"
   ]
  },
  {
   "cell_type": "code",
   "execution_count": 9,
   "metadata": {
    "colab": {
     "base_uri": "https://localhost:8080/",
     "height": 0
    },
    "id": "O8IyeO1Ht7wq",
    "outputId": "9097207c-708a-4f02-9fff-79980b73d7b8"
   },
   "outputs": [
    {
     "data": {
      "text/html": [
       "\n",
       "  <div id=\"df-4363887e-893e-4cd8-ab61-632b0a49a525\">\n",
       "    <div class=\"colab-df-container\">\n",
       "      <div>\n",
       "<style scoped>\n",
       "    .dataframe tbody tr th:only-of-type {\n",
       "        vertical-align: middle;\n",
       "    }\n",
       "\n",
       "    .dataframe tbody tr th {\n",
       "        vertical-align: top;\n",
       "    }\n",
       "\n",
       "    .dataframe thead th {\n",
       "        text-align: right;\n",
       "    }\n",
       "</style>\n",
       "<table border=\"1\" class=\"dataframe\">\n",
       "  <thead>\n",
       "    <tr style=\"text-align: right;\">\n",
       "      <th></th>\n",
       "      <th>sentiment</th>\n",
       "      <th>tweet</th>\n",
       "    </tr>\n",
       "  </thead>\n",
       "  <tbody>\n",
       "    <tr>\n",
       "      <th>0</th>\n",
       "      <td>pos</td>\n",
       "      <td>نحن الذين يتحول كل ما نود أن نقوله إلى دعاء لل...</td>\n",
       "    </tr>\n",
       "    <tr>\n",
       "      <th>1</th>\n",
       "      <td>pos</td>\n",
       "      <td>وفي النهاية لن يبقىٰ معك آحدإلا من رأىٰ الجمال...</td>\n",
       "    </tr>\n",
       "    <tr>\n",
       "      <th>2</th>\n",
       "      <td>pos</td>\n",
       "      <td>من الخير نفسه 💛</td>\n",
       "    </tr>\n",
       "    <tr>\n",
       "      <th>3</th>\n",
       "      <td>pos</td>\n",
       "      <td>#زلزل_الملعب_نصرنا_بيلعب كن عالي الهمه ولا ترض...</td>\n",
       "    </tr>\n",
       "    <tr>\n",
       "      <th>4</th>\n",
       "      <td>pos</td>\n",
       "      <td>الشيء الوحيد الذي وصلوا فيه للعالمية هو : المس...</td>\n",
       "    </tr>\n",
       "  </tbody>\n",
       "</table>\n",
       "</div>\n",
       "      <button class=\"colab-df-convert\" onclick=\"convertToInteractive('df-4363887e-893e-4cd8-ab61-632b0a49a525')\"\n",
       "              title=\"Convert this dataframe to an interactive table.\"\n",
       "              style=\"display:none;\">\n",
       "        \n",
       "  <svg xmlns=\"http://www.w3.org/2000/svg\" height=\"24px\"viewBox=\"0 0 24 24\"\n",
       "       width=\"24px\">\n",
       "    <path d=\"M0 0h24v24H0V0z\" fill=\"none\"/>\n",
       "    <path d=\"M18.56 5.44l.94 2.06.94-2.06 2.06-.94-2.06-.94-.94-2.06-.94 2.06-2.06.94zm-11 1L8.5 8.5l.94-2.06 2.06-.94-2.06-.94L8.5 2.5l-.94 2.06-2.06.94zm10 10l.94 2.06.94-2.06 2.06-.94-2.06-.94-.94-2.06-.94 2.06-2.06.94z\"/><path d=\"M17.41 7.96l-1.37-1.37c-.4-.4-.92-.59-1.43-.59-.52 0-1.04.2-1.43.59L10.3 9.45l-7.72 7.72c-.78.78-.78 2.05 0 2.83L4 21.41c.39.39.9.59 1.41.59.51 0 1.02-.2 1.41-.59l7.78-7.78 2.81-2.81c.8-.78.8-2.07 0-2.86zM5.41 20L4 18.59l7.72-7.72 1.47 1.35L5.41 20z\"/>\n",
       "  </svg>\n",
       "      </button>\n",
       "      \n",
       "  <style>\n",
       "    .colab-df-container {\n",
       "      display:flex;\n",
       "      flex-wrap:wrap;\n",
       "      gap: 12px;\n",
       "    }\n",
       "\n",
       "    .colab-df-convert {\n",
       "      background-color: #E8F0FE;\n",
       "      border: none;\n",
       "      border-radius: 50%;\n",
       "      cursor: pointer;\n",
       "      display: none;\n",
       "      fill: #1967D2;\n",
       "      height: 32px;\n",
       "      padding: 0 0 0 0;\n",
       "      width: 32px;\n",
       "    }\n",
       "\n",
       "    .colab-df-convert:hover {\n",
       "      background-color: #E2EBFA;\n",
       "      box-shadow: 0px 1px 2px rgba(60, 64, 67, 0.3), 0px 1px 3px 1px rgba(60, 64, 67, 0.15);\n",
       "      fill: #174EA6;\n",
       "    }\n",
       "\n",
       "    [theme=dark] .colab-df-convert {\n",
       "      background-color: #3B4455;\n",
       "      fill: #D2E3FC;\n",
       "    }\n",
       "\n",
       "    [theme=dark] .colab-df-convert:hover {\n",
       "      background-color: #434B5C;\n",
       "      box-shadow: 0px 1px 3px 1px rgba(0, 0, 0, 0.15);\n",
       "      filter: drop-shadow(0px 1px 2px rgba(0, 0, 0, 0.3));\n",
       "      fill: #FFFFFF;\n",
       "    }\n",
       "  </style>\n",
       "\n",
       "      <script>\n",
       "        const buttonEl =\n",
       "          document.querySelector('#df-4363887e-893e-4cd8-ab61-632b0a49a525 button.colab-df-convert');\n",
       "        buttonEl.style.display =\n",
       "          google.colab.kernel.accessAllowed ? 'block' : 'none';\n",
       "\n",
       "        async function convertToInteractive(key) {\n",
       "          const element = document.querySelector('#df-4363887e-893e-4cd8-ab61-632b0a49a525');\n",
       "          const dataTable =\n",
       "            await google.colab.kernel.invokeFunction('convertToInteractive',\n",
       "                                                     [key], {});\n",
       "          if (!dataTable) return;\n",
       "\n",
       "          const docLinkHtml = 'Like what you see? Visit the ' +\n",
       "            '<a target=\"_blank\" href=https://colab.research.google.com/notebooks/data_table.ipynb>data table notebook</a>'\n",
       "            + ' to learn more about interactive tables.';\n",
       "          element.innerHTML = '';\n",
       "          dataTable['output_type'] = 'display_data';\n",
       "          await google.colab.output.renderOutput(dataTable, element);\n",
       "          const docLink = document.createElement('div');\n",
       "          docLink.innerHTML = docLinkHtml;\n",
       "          element.appendChild(docLink);\n",
       "        }\n",
       "      </script>\n",
       "    </div>\n",
       "  </div>\n",
       "  "
      ],
      "text/plain": [
       "  sentiment                                              tweet\n",
       "0       pos  نحن الذين يتحول كل ما نود أن نقوله إلى دعاء لل...\n",
       "1       pos  وفي النهاية لن يبقىٰ معك آحدإلا من رأىٰ الجمال...\n",
       "2       pos                                    من الخير نفسه 💛\n",
       "3       pos  #زلزل_الملعب_نصرنا_بيلعب كن عالي الهمه ولا ترض...\n",
       "4       pos  الشيء الوحيد الذي وصلوا فيه للعالمية هو : المس..."
      ]
     },
     "execution_count": 9,
     "metadata": {},
     "output_type": "execute_result"
    }
   ],
   "source": [
    "train_arabic_pos_tweets.head()"
   ]
  },
  {
   "cell_type": "markdown",
   "metadata": {
    "id": "fS0gErDAQrZ9"
   },
   "source": [
    "### creating testing and training datasets by concatination "
   ]
  },
  {
   "cell_type": "code",
   "execution_count": 10,
   "metadata": {
    "id": "ngkvfvnYvKQn"
   },
   "outputs": [],
   "source": [
    "# put negative and positive tweets together for each type (test or train)\n",
    "test_raw = pd.concat([test_arabic_neg_tweets,test_arabic_pos_tweets])\n",
    "test_raw.reset_index(inplace=True)\n",
    "train_raw = pd.concat([train_arabic_neg_tweets,train_arabic_pos_tweets])\n",
    "train_raw.reset_index(inplace=True)\n",
    "# make a copy\n",
    "test_data = test_raw.copy(deep=True)\n",
    "test_data.drop(columns=['index'], axis=1, inplace=True)\n",
    "train_data = train_raw.copy(deep=True)\n",
    "train_data.drop(columns=['index'], axis=1, inplace=True)"
   ]
  },
  {
   "cell_type": "markdown",
   "metadata": {
    "id": "75-_5XIZRCfv"
   },
   "source": [
    "# Viualization"
   ]
  },
  {
   "cell_type": "markdown",
   "metadata": {
    "id": "1tPRaf_KVjpy"
   },
   "source": [
    "### original dataset lengths"
   ]
  },
  {
   "cell_type": "code",
   "execution_count": 11,
   "metadata": {
    "colab": {
     "base_uri": "https://localhost:8080/"
    },
    "id": "pLnn3alQUtw4",
    "outputId": "b768b448-6c35-4800-f3ef-d3c95c411ce3"
   },
   "outputs": [
    {
     "name": "stdout",
     "output_type": "stream",
     "text": [
      "11520 45275 56795\n"
     ]
    }
   ],
   "source": [
    "original_test_dataset_length = len(test_data['tweet'])\n",
    "original_train_dataset_length = len(train_data['tweet'])\n",
    "original_total_dataset_length = original_test_dataset_length + original_train_dataset_length\n",
    "print(original_test_dataset_length,original_train_dataset_length,original_total_dataset_length)"
   ]
  },
  {
   "cell_type": "markdown",
   "metadata": {
    "id": "xivX5b1_xw_4"
   },
   "source": [
    "### remove duplicates"
   ]
  },
  {
   "cell_type": "code",
   "execution_count": 12,
   "metadata": {
    "colab": {
     "base_uri": "https://localhost:8080/"
    },
    "id": "AeuCI3icyEmQ",
    "outputId": "2770af89-b2a3-451a-bd9c-ace564b19acd"
   },
   "outputs": [
    {
     "name": "stdout",
     "output_type": "stream",
     "text": [
      "test data with duplicates if exists 11520\n"
     ]
    }
   ],
   "source": [
    "print(\"test data with duplicates if exists\",len(test_data['tweet']))"
   ]
  },
  {
   "cell_type": "code",
   "execution_count": 13,
   "metadata": {
    "colab": {
     "base_uri": "https://localhost:8080/"
    },
    "id": "S0MstOqZym4l",
    "outputId": "2285f9e0-5afd-4218-ba73-b3b80f740dc5"
   },
   "outputs": [
    {
     "name": "stdout",
     "output_type": "stream",
     "text": [
      "test data without duplicates 11520\n"
     ]
    }
   ],
   "source": [
    "test_data[~test_data['tweet'].duplicated()]\n",
    "print(\"test data without duplicates\",len(test_data['tweet']))"
   ]
  },
  {
   "cell_type": "code",
   "execution_count": 14,
   "metadata": {
    "colab": {
     "base_uri": "https://localhost:8080/"
    },
    "id": "93rq9aszzBRu",
    "outputId": "b3f8138d-b6ae-4f01-880e-27d6b12c0018"
   },
   "outputs": [
    {
     "name": "stdout",
     "output_type": "stream",
     "text": [
      "train data with duplicates if exists 45275\n"
     ]
    }
   ],
   "source": [
    "print(\"train data with duplicates if exists\",len(train_data['tweet']))"
   ]
  },
  {
   "cell_type": "code",
   "execution_count": 15,
   "metadata": {
    "colab": {
     "base_uri": "https://localhost:8080/"
    },
    "id": "6zaIsou6zGyI",
    "outputId": "696d8659-04ad-45ce-e245-6d63d1ae73b7"
   },
   "outputs": [
    {
     "name": "stdout",
     "output_type": "stream",
     "text": [
      "train data without duplicates 45275\n"
     ]
    }
   ],
   "source": [
    "train_data[~train_data['tweet'].duplicated()]\n",
    "print(\"train data without duplicates\",len(train_data['tweet']))"
   ]
  },
  {
   "cell_type": "markdown",
   "metadata": {
    "id": "44AlWUud06_b"
   },
   "source": [
    "### remove doubtable from test tweets (tweet length > 280 character)"
   ]
  },
  {
   "cell_type": "code",
   "execution_count": 16,
   "metadata": {
    "colab": {
     "base_uri": "https://localhost:8080/"
    },
    "id": "dmcyp7hIY4Zr",
    "outputId": "8711f383-4788-4df8-96b0-be05592f1591"
   },
   "outputs": [
    {
     "name": "stdout",
     "output_type": "stream",
     "text": [
      "number of removed tweets in test data 12\n",
      "removed indeces [227, 740, 6019, 6165, 6461, 7876, 8374, 8715, 8840, 10020, 11001, 11143]\n",
      "example (for test data): tweet for index (227) is - 393 - char\n",
      "number of removed tweets in train data 57\n",
      "removed indeces [936, 1086, 1639, 2177, 3273, 3490, 5140, 5403, 5915, 7737, 9255, 9568, 9800, 14039, 15326, 15745, 23118, 24886, 26902, 27472, 29192, 29255, 29538, 30197, 30429, 30771, 30916, 30978, 31127, 32783, 32945, 33521, 34407, 34504, 34609, 34987, 35305, 35547, 36529, 36638, 37371, 37959, 38283, 38391, 38505, 38515, 38960, 39380, 41972, 42506, 42611, 43380, 43451, 44120, 44206, 44739, 45018]\n",
      "example (for train data): tweet for index (936) is - 3993 - char\n"
     ]
    }
   ],
   "source": [
    "# remove tweets that are bigger than tweet charachter limitation\n",
    "## for test data\n",
    "doubtable_test_tweets = [(index,tweet) for index,tweet in enumerate(test_data[\"tweet\"]) if len(tweet) > 280]\n",
    "remove_index = [tweet_tuple[0] for tweet_tuple in doubtable_test_tweets]\n",
    "print(\"number of removed tweets in test data\",len(doubtable_test_tweets))\n",
    "print(\"removed indeces\",remove_index)\n",
    "print(f\"example (for test data): tweet for index ({remove_index[0]}) is -\",len(test_data['tweet'].iloc[remove_index[0]]),\"- char\")\n",
    "selected_test_data = test_data.drop(index=remove_index)\n",
    "selected_test_data.reset_index(inplace=True)\n",
    "selected_test_data.drop(columns=['index'], axis=1, inplace=True)\n",
    "## for train data\n",
    "doubtable_train_tweets = [(index,tweet) for index,tweet in enumerate(train_data[\"tweet\"]) if len(tweet) > 280]\n",
    "remove_index = [tweet_tuple[0] for tweet_tuple in doubtable_train_tweets]\n",
    "print(\"number of removed tweets in train data\",len(doubtable_train_tweets))\n",
    "print(\"removed indeces\",remove_index)\n",
    "print(f\"example (for train data): tweet for index ({remove_index[0]}) is -\",len(train_data['tweet'].iloc[remove_index[0]]),\"- char\")\n",
    "selected_train_data = train_data.drop(index=remove_index)\n",
    "selected_train_data.reset_index(inplace=True)\n",
    "selected_train_data.drop(columns=['index'], axis=1, inplace=True)"
   ]
  },
  {
   "cell_type": "markdown",
   "metadata": {
    "id": "LPcZNl1NeHth"
   },
   "source": [
    "### used tweets datsets visualization"
   ]
  },
  {
   "cell_type": "code",
   "execution_count": 17,
   "metadata": {
    "colab": {
     "base_uri": "https://localhost:8080/"
    },
    "id": "NrxDVuRcPyv1",
    "outputId": "8e7df369-b70f-4cbb-878f-2b0763d07f6a"
   },
   "outputs": [
    {
     "name": "stdout",
     "output_type": "stream",
     "text": [
      "test data, words level stat\n"
     ]
    },
    {
     "data": {
      "text/plain": [
       "count    11508.000000\n",
       "mean        12.943691\n",
       "std          7.016384\n",
       "min          3.000000\n",
       "25%          6.000000\n",
       "50%         13.000000\n",
       "75%         19.000000\n",
       "max         44.000000\n",
       "Name: tweet, dtype: float64"
      ]
     },
     "execution_count": 17,
     "metadata": {},
     "output_type": "execute_result"
    }
   ],
   "source": [
    "print(\"test data, words level stat\")\n",
    "selected_test_data['tweet'].apply(lambda x: len(x.split(' '))).describe()"
   ]
  },
  {
   "cell_type": "code",
   "execution_count": 18,
   "metadata": {
    "colab": {
     "base_uri": "https://localhost:8080/"
    },
    "id": "JFQD9mC5SIE2",
    "outputId": "b2e410d7-be00-4b3a-a27d-afa7bc4b9d48"
   },
   "outputs": [
    {
     "name": "stdout",
     "output_type": "stream",
     "text": [
      "test data, characters level stat\n"
     ]
    },
    {
     "data": {
      "text/plain": [
       "count    11508.000000\n",
       "mean        64.776243\n",
       "std         36.685628\n",
       "min          6.000000\n",
       "25%         30.000000\n",
       "50%         62.000000\n",
       "75%        102.000000\n",
       "max        140.000000\n",
       "Name: tweet, dtype: float64"
      ]
     },
     "execution_count": 18,
     "metadata": {},
     "output_type": "execute_result"
    }
   ],
   "source": [
    "print(\"test data, characters level stat\")\n",
    "selected_test_data['tweet'].apply(lambda x: len(x)).describe()"
   ]
  },
  {
   "cell_type": "code",
   "execution_count": 19,
   "metadata": {
    "colab": {
     "base_uri": "https://localhost:8080/",
     "height": 0
    },
    "id": "z6R_1S9Er3eY",
    "outputId": "b2ef8cba-ad14-4331-f800-50c1761f118b"
   },
   "outputs": [
    {
     "name": "stdout",
     "output_type": "stream",
     "text": [
      "test data pos vs. neg\n"
     ]
    },
    {
     "data": {
      "image/png": "[encoded data removed]",
      "text/plain": [
       "<Figure size 360x360 with 1 Axes>"
      ]
     },
     "metadata": {},
     "output_type": "display_data"
    }
   ],
   "source": [
    "# positive = len(selected_test_data[selected_test_data['sentiment'] == 'pos'])\n",
    "# negative = len(selected_test_data[selected_test_data['sentiment'] == 'neg'])\n",
    "# df = pd.DataFrame({'values':[positive,negative]},index=['positive','negative'])\n",
    "# print(positive,negative)\n",
    "# df.plot.pie(y='values', figsize=(5,5))\n",
    "print(\"test data pos vs. neg\")\n",
    "test_data_sentiment_count = test_data.groupby(by='sentiment',as_index=False).count()[[\"sentiment\",\"tweet\"]]\n",
    "fig, ax = plt.subplots(figsize=(5, 5))\n",
    "\n",
    "ax.pie(x=test_data_sentiment_count[\"tweet\"].to_list(), \n",
    "       labels=test_data_sentiment_count[\"sentiment\"].to_list(),\n",
    "       autopct='%1.1f%%'\n",
    "      )\n",
    "\n",
    "fig.show()"
   ]
  },
  {
   "cell_type": "code",
   "execution_count": 20,
   "metadata": {
    "colab": {
     "base_uri": "https://localhost:8080/"
    },
    "id": "yDz2huKzRl-3",
    "outputId": "ecc8acc8-02b8-4537-ac16-07c44a88dc59"
   },
   "outputs": [
    {
     "name": "stdout",
     "output_type": "stream",
     "text": [
      "train data, words level stat\n"
     ]
    },
    {
     "data": {
      "text/plain": [
       "count    45218.000000\n",
       "mean        12.972754\n",
       "std          6.991245\n",
       "min          3.000000\n",
       "25%          6.000000\n",
       "50%         13.000000\n",
       "75%         19.000000\n",
       "max         54.000000\n",
       "Name: tweet, dtype: float64"
      ]
     },
     "execution_count": 20,
     "metadata": {},
     "output_type": "execute_result"
    }
   ],
   "source": [
    "print(\"train data, words level stat\")\n",
    "selected_train_data['tweet'].apply(lambda x: len(x.split(' '))).describe()"
   ]
  },
  {
   "cell_type": "code",
   "execution_count": 21,
   "metadata": {
    "colab": {
     "base_uri": "https://localhost:8080/"
    },
    "id": "Idj4EPvbTRM6",
    "outputId": "ca5c4ab5-f451-44c4-9b22-07a4c6796ecf"
   },
   "outputs": [
    {
     "name": "stdout",
     "output_type": "stream",
     "text": [
      "train data, characters level stat\n"
     ]
    },
    {
     "data": {
      "text/plain": [
       "count    45218.000000\n",
       "mean        64.891702\n",
       "std         36.587360\n",
       "min          5.000000\n",
       "25%         30.000000\n",
       "50%         63.000000\n",
       "75%        102.000000\n",
       "max        280.000000\n",
       "Name: tweet, dtype: float64"
      ]
     },
     "execution_count": 21,
     "metadata": {},
     "output_type": "execute_result"
    }
   ],
   "source": [
    "print(\"train data, characters level stat\")\n",
    "selected_train_data['tweet'].apply(lambda x: len(x)).describe()"
   ]
  },
  {
   "cell_type": "code",
   "execution_count": 22,
   "metadata": {
    "colab": {
     "base_uri": "https://localhost:8080/",
     "height": 0
    },
    "id": "ii8lgBO5vgic",
    "outputId": "d373468a-b013-45f9-c7c1-d3e965083adb"
   },
   "outputs": [
    {
     "name": "stdout",
     "output_type": "stream",
     "text": [
      "train data pos vs. neg\n"
     ]
    },
    {
     "data": {
      "image/png": "[encoded data removed]",
      "text/plain": [
       "<Figure size 360x360 with 1 Axes>"
      ]
     },
     "metadata": {},
     "output_type": "display_data"
    }
   ],
   "source": [
    "# positive = len(selected_train_data[selected_train_data['sentiment'] == 'pos'])\n",
    "# negative = len(selected_train_data[selected_train_data['sentiment'] == 'neg'])\n",
    "# df = pd.DataFrame({'values':[positive,negative]},index=['positive','negative'])\n",
    "# print(positive,negative)\n",
    "# df.plot.pie(y='values', figsize=(5,5))\n",
    "print(\"train data pos vs. neg\")\n",
    "train_data_sentiment_count = train_data.groupby(by='sentiment',as_index=False).count()[[\"sentiment\",\"tweet\"]]\n",
    "fig, ax = plt.subplots(figsize=(5, 5))\n",
    "\n",
    "ax.pie(x=train_data_sentiment_count[\"tweet\"].to_list(), \n",
    "       labels=train_data_sentiment_count[\"sentiment\"].to_list(),\n",
    "       autopct='%1.1f%%'\n",
    "      )\n",
    "\n",
    "fig.show()"
   ]
  },
  {
   "cell_type": "markdown",
   "metadata": {
    "id": "WfwM3MEz5-cL"
   },
   "source": [
    "# Text Preprocessing"
   ]
  },
  {
   "cell_type": "markdown",
   "metadata": {
    "id": "5cVegK254dYN"
   },
   "source": [
    "### text cleaning"
   ]
  },
  {
   "cell_type": "markdown",
   "metadata": {
    "id": "fSAxCYhy6bph"
   },
   "source": [
    "##### remove stop words"
   ]
  },
  {
   "cell_type": "code",
   "execution_count": 23,
   "metadata": {
    "id": "yoXQV-dx64Tl"
   },
   "outputs": [],
   "source": [
    "stop_words = stopwords.words(\"arabic\")\n",
    "def remove_stop_words(text:str) -> str:\n",
    "  return \" \".join([word for word in text.split(' ') if word not in stop_words])"
   ]
  },
  {
   "cell_type": "markdown",
   "metadata": {
    "id": "5fL5YJD8PQmy"
   },
   "source": [
    "##### remove:\n",
    "- hashtags\n",
    "- mentions\n",
    "- links\n",
    "- english character\n",
    "- numbers\n",
    "- diacritics\n"
   ]
  },
  {
   "cell_type": "code",
   "execution_count": 24,
   "metadata": {
    "id": "pZOO4iOfQQvs"
   },
   "outputs": [],
   "source": [
    "def remove_all(text:str) -> str:\n",
    "  text = remove(text=text, hashtags=True)\n",
    "  text = remove(text=text, mentions=True)\n",
    "  text = remove(text=text, links=True)\n",
    "  text = remove(text=text, emails=True)\n",
    "  text = remove(text=text, english=True)\n",
    "  text = remove(text=text, numbers=True)\n",
    "  text = remove(text=text, all_harakat=True)\n",
    "  text = remove(text=text, tatweel=True)\n",
    "  text = remove(text=text, arabic_ligatures=True)\n",
    "  return text"
   ]
  },
  {
   "cell_type": "markdown",
   "metadata": {
    "id": "i8U5-Q_XUD_0"
   },
   "source": [
    "##### remove punctuations"
   ]
  },
  {
   "cell_type": "code",
   "execution_count": 25,
   "metadata": {
    "id": "gfLkAGYkUKv1"
   },
   "outputs": [],
   "source": [
    "punctuations = re.compile(r\"\"\"[!\"#$%&'()*+,-./:;<=>?@[\\]^_`{|}~]\"\"\")\n",
    "def remove_punctuations(text: str) -> str:\n",
    "    return punctuations.sub(repl=\"\", string=text)"
   ]
  },
  {
   "cell_type": "markdown",
   "metadata": {
    "id": "2ypOQoqxXXkB"
   },
   "source": [
    "##### remove digits"
   ]
  },
  {
   "cell_type": "code",
   "execution_count": 26,
   "metadata": {
    "id": "1xh9arZIXYVe"
   },
   "outputs": [],
   "source": [
    "digits = re.compile(\"\\.{2,}\")\n",
    "def remove_digits(text: str) -> str:\n",
    "    return digits.sub(repl=\"\", string=text)"
   ]
  },
  {
   "cell_type": "markdown",
   "metadata": {
    "id": "UcN1qYjiLmCV"
   },
   "source": [
    "##### remove multiple whitespace"
   ]
  },
  {
   "cell_type": "code",
   "execution_count": 27,
   "metadata": {
    "id": "5CxYudcXL-xb"
   },
   "outputs": [],
   "source": [
    "multiple_space_re = re.compile(\"\\s{2,}\")\n",
    "def remove_multiple_whitespace(text: str) -> str:\n",
    "    return multiple_space_re.sub(repl=\" \", string=text)"
   ]
  },
  {
   "cell_type": "markdown",
   "metadata": {
    "id": "XwCM27VdMy15"
   },
   "source": [
    "##### remove duplicate character"
   ]
  },
  {
   "cell_type": "code",
   "execution_count": 28,
   "metadata": {
    "id": "6H0zo0mFM9AD"
   },
   "outputs": [],
   "source": [
    "def remove_duplictae_char(text:str) -> str:\n",
    "    return reduce_repeated_substring(text=text, min_repeated=3, reduce_to=1)"
   ]
  },
  {
   "cell_type": "markdown",
   "metadata": {
    "id": "bOFnzssjNVYI"
   },
   "source": [
    "##### add spaces around emojis"
   ]
  },
  {
   "cell_type": "code",
   "execution_count": 29,
   "metadata": {
    "id": "Y6wo2dw7NaJm"
   },
   "outputs": [],
   "source": [
    "emojis_regex = re.compile(EXPRESSION_EMOJIS.pattern)\n",
    "def space_around_emojis(text: str) -> str:\n",
    "    chars = [' ' + char + ' ' if emojis_regex.match(char) else char for char in text]\n",
    "    return ''.join(chars)"
   ]
  },
  {
   "cell_type": "markdown",
   "metadata": {
    "id": "S1G8H7hTVPoI"
   },
   "source": []
  },
  {
   "cell_type": "markdown",
   "metadata": {
    "id": "PteC-K0KVQxx"
   },
   "source": [
    "##### clean all function"
   ]
  },
  {
   "cell_type": "code",
   "execution_count": 30,
   "metadata": {
    "id": "8pnQj086VmrQ"
   },
   "outputs": [],
   "source": [
    "def clean_all(text:str) -> str:\n",
    "  text = remove_stop_words(text=text)\n",
    "  # To remove trailing and leading whitespaces\n",
    "  text = text.strip()\n",
    "  text = remove_all(text=text)\n",
    "  text = space_around_emojis(text=text)\n",
    "  text = remove_duplictae_char(text=text)\n",
    "  text = normalize(text=text, all=True)\n",
    "  text = remove_punctuations(text=text)\n",
    "  text = remove_digits(text=text)\n",
    "  text = remove_multiple_whitespace(text=text)\n",
    "  return text\n",
    "\n",
    "# rwo ways to run function with apply\n",
    "# first way\n",
    "selected_test_data[\"cleaned tweet\"] = selected_test_data[\"tweet\"].apply(lambda x: clean_all(x))\n",
    "# second way\n",
    "selected_train_data[\"cleaned tweet\"] = selected_train_data[\"tweet\"].apply(clean_all)\n"
   ]
  },
  {
   "cell_type": "markdown",
   "metadata": {
    "id": "gcxvTrNb4zPo"
   },
   "source": [
    "### cleaned text visualization"
   ]
  },
  {
   "cell_type": "markdown",
   "metadata": {
    "id": "5OO7PMWIAswJ"
   },
   "source": [
    "##### tweets max length and used max length"
   ]
  },
  {
   "cell_type": "code",
   "execution_count": 31,
   "metadata": {
    "colab": {
     "base_uri": "https://localhost:8080/"
    },
    "id": "k8C7pmpLyo8N",
    "outputId": "71499edf-8479-46ee-c174-c0d4930d4cca"
   },
   "outputs": [
    {
     "name": "stdout",
     "output_type": "stream",
     "text": [
      "max length 101\n",
      "used max length 26\n"
     ]
    }
   ],
   "source": [
    "all_tweets = pd.concat([selected_train_data,selected_test_data])\n",
    "all_tweets.reset_index(inplace=True)\n",
    "cleaned_tweets_length = all_tweets[\"cleaned tweet\"].apply(lambda x: len(x.split(' '))).to_list()\n",
    "max_length = int(np.percentile(a=cleaned_tweets_length, q=100))\n",
    "uesd_max_length = int(np.percentile(a=cleaned_tweets_length, q=99))\n",
    "print(\"max length\",max_length)\n",
    "print(\"used max length\",uesd_max_length)"
   ]
  },
  {
   "cell_type": "code",
   "execution_count": 32,
   "metadata": {
    "colab": {
     "base_uri": "https://localhost:8080/",
     "height": 0
    },
    "id": "VQrx9ZEE5mbu",
    "outputId": "dad9b7f8-dac7-4740-ec15-1a746c6f5e2e"
   },
   "outputs": [
    {
     "name": "stdout",
     "output_type": "stream",
     "text": [
      "all tweets lengths\n"
     ]
    },
    {
     "data": {
      "image/png": "[encoded data removed]",
      "text/plain": [
       "<Figure size 1080x864 with 1 Axes>"
      ]
     },
     "metadata": {
      "needs_background": "light"
     },
     "output_type": "display_data"
    }
   ],
   "source": [
    "print(\"all tweets lengths\")\n",
    "counts = cleaned_tweets_length\n",
    "fig, ax = plt.subplots(figsize=(15, 12))\n",
    "sns.boxplot(y=counts, ax=ax)\n",
    "ax.set_title(\"all tweets lengths\", fontdict=dict(size=15), pad=15)\n",
    "plt.show()"
   ]
  },
  {
   "cell_type": "markdown",
   "metadata": {
    "id": "7O6fZHluyr55"
   },
   "source": [
    "##### remove tweets with length bigger than used max length"
   ]
  },
  {
   "cell_type": "code",
   "execution_count": 33,
   "metadata": {
    "colab": {
     "base_uri": "https://localhost:8080/"
    },
    "id": "CN8GsQhnAyml",
    "outputId": "829d93d8-f402-4b8b-a529-71f27dfd12fa"
   },
   "outputs": [
    {
     "name": "stdout",
     "output_type": "stream",
     "text": [
      "number of removed tweets in test data 82\n",
      "removed indeces [306, 348, 796, 1225, 1340, 1411, 1467, 1644, 2124, 2343, 2465, 2655, 3621, 3910, 4107, 4180, 4260, 4321, 4397, 4449, 4507, 4807, 4974, 4987, 5188, 5367, 5409, 5466, 5493, 5732, 5760, 5818, 5870, 6230, 6432, 6842, 6861, 6871, 7079, 7093, 7115, 7250, 7277, 7359, 7445, 7522, 7734, 7771, 8052, 8102, 8230, 8262, 8318, 8440, 8512, 8551, 8722, 8747, 8856, 9169, 9345, 9374, 9444, 9589, 9646, 9722, 9799, 9833, 9857, 9988, 10014, 10092, 10095, 10109, 10404, 10576, 10898, 11044, 11120, 11261, 11345, 11430]\n",
      "example (for test data): tweet for index 306 is - 29 - word\n",
      "tweet is: دكتور شيل القلب ماعاد مطلوب 💔 خلني اعيش الوقت كله بلا قلب 💔 ان شفت فيني عوق توصف حبوب 💔 خلني اموت وقول ماينفع الطب 💔 ✍ ️ \n",
      "number of removed tweets in train data 357\n",
      "removed indeces [193, 209, 219, 627, 857, 861, 1143, 1245, 1271, 1390, 1472, 1662, 1692, 1710, 1742, 1850, 1901, 2016, 2022, 2103, 2148, 2380, 2394, 2457, 2568, 2901, 3486, 3767, 3773, 3844, 4009, 4039, 4093, 4154, 4230, 4282, 4370, 4428, 4950, 5265, 5272, 5354, 5494, 5729, 5900, 6112, 6170, 6175, 6184, 6278, 6306, 6419, 6545, 6650, 6844, 7774, 7985, 7988, 8154, 8204, 8484, 8541, 8597, 8650, 8656, 8742, 8794, 8840, 9184, 9193, 9516, 9606, 9811, 10219, 10278, 10417, 10421, 10666, 10669, 10711, 10766, 10945, 11001, 11152, 11251, 11781, 11858, 11933, 12357, 12485, 12529, 12603, 12890, 13127, 13175, 13274, 13292, 13854, 14082, 14258, 14481, 14537, 14631, 14863, 14945, 14997, 15117, 15206, 15227, 15416, 15714, 15795, 15832, 15893, 15920, 15938, 16023, 16058, 16071, 16106, 16115, 16477, 16509, 16600, 16661, 16715, 17005, 17049, 17469, 17873, 18082, 18439, 18491, 18581, 18742, 18850, 19080, 19084, 19122, 19440, 19605, 19738, 19932, 20383, 20554, 20825, 20830, 21454, 21629, 22000, 22023, 22024, 22126, 22178, 22389, 22448, 22517, 22559, 22645, 22696, 22756, 22786, 22793, 22903, 23057, 23160, 23170, 23360, 23531, 23704, 23779, 24506, 24558, 24634, 24693, 24730, 24746, 24960, 25104, 25177, 25251, 25332, 25777, 26078, 26123, 26127, 26161, 26219, 26254, 26266, 26381, 26504, 26898, 27111, 27187, 27436, 27464, 27476, 27579, 28016, 28160, 28407, 28558, 28904, 28973, 29015, 29058, 29114, 29155, 29523, 29541, 29635, 29647, 29654, 29701, 29779, 30081, 30093, 30171, 30199, 30586, 30626, 30785, 30793, 30807, 30853, 30923, 31011, 31165, 31265, 31586, 31754, 32013, 32184, 32198, 32284, 32409, 32558, 32625, 32633, 32727, 32775, 32864, 32880, 33041, 33084, 33090, 33328, 33338, 33360, 33379, 33425, 33577, 33691, 33700, 33723, 33828, 33935, 33999, 34012, 34063, 34390, 34407, 34841, 34864, 35011, 35108, 35119, 35139, 35306, 35374, 35586, 35697, 35702, 35770, 35887, 36053, 36141, 36143, 36241, 36320, 36369, 36388, 36623, 36656, 36744, 36901, 37071, 37219, 37319, 37596, 37696, 38161, 38395, 38432, 38512, 38959, 38962, 38987, 39108, 39300, 39400, 39422, 39489, 39502, 39534, 39601, 39602, 39625, 39727, 39956, 40024, 40103, 40143, 40246, 40271, 40288, 40422, 40510, 40750, 40875, 41031, 41204, 41290, 41413, 41474, 41495, 41592, 41807, 41909, 42012, 42065, 42253, 42489, 42492, 42566, 42713, 43036, 43489, 43570, 43612, 43614, 43870, 43894, 44273, 44382, 44478, 44716, 44722, 44755, 44884, 45025, 45028, 45040, 45061, 45098, 45142]\n",
      "example (for train data): tweet for index 193 is - 27 - word\n",
      "tweet is: والله مدري اشجع فريقي 💛 💙 اشجع فريق بابا 💛 🖤 🤦 🏻 ‍ ♀ ️ بالتوفيق للبابا 🙈 🐪 🐪 🚶 🏻 ‍ ♀ ️ \n"
     ]
    }
   ],
   "source": [
    "\n",
    "# remove tweets that are bigger than used max length\n",
    "## for test data\n",
    "doubtable_test_tweets = [(index,tweet) for index,tweet in enumerate(selected_test_data[\"cleaned tweet\"]) if len(tweet.split(\" \")) > uesd_max_length]\n",
    "remove_index = [tweet_tuple[0] for tweet_tuple in doubtable_test_tweets]\n",
    "print(\"number of removed tweets in test data\",len(doubtable_test_tweets))\n",
    "print(\"removed indeces\",remove_index)\n",
    "print(f\"example (for test data): tweet for index {remove_index[0]} is -\",len(selected_test_data[\"cleaned tweet\"].iloc[remove_index[0]].split(\" \")),\"- word\")\n",
    "print(\"tweet is:\",selected_test_data[\"cleaned tweet\"].iloc[remove_index[0]])\n",
    "selected_test_data.drop(index=remove_index, inplace=True)\n",
    "selected_test_data.reset_index(inplace=True)\n",
    "selected_test_data.drop(columns=['index'], axis=1, inplace=True)\n",
    "## for train data\n",
    "doubtable_train_tweets = [(index,tweet) for index,tweet in enumerate(selected_train_data[\"cleaned tweet\"]) if len(tweet.split(\" \")) > uesd_max_length]\n",
    "remove_index = [tweet_tuple[0] for tweet_tuple in doubtable_train_tweets]\n",
    "print(\"number of removed tweets in train data\",len(doubtable_train_tweets))\n",
    "print(\"removed indeces\",remove_index)\n",
    "print(f\"example (for train data): tweet for index {remove_index[0]} is -\",len(selected_train_data[\"cleaned tweet\"].iloc[remove_index[0]].split(\" \")),\"- word\")\n",
    "print(\"tweet is:\",selected_train_data[\"cleaned tweet\"].iloc[remove_index[0]])\n",
    "selected_train_data.drop(index=remove_index, inplace=True)\n",
    "selected_train_data.reset_index(inplace=True)\n",
    "selected_train_data.drop(columns=['index'], axis=1, inplace=True)"
   ]
  },
  {
   "cell_type": "code",
   "execution_count": 34,
   "metadata": {
    "colab": {
     "base_uri": "https://localhost:8080/",
     "height": 0
    },
    "id": "QteCYw5W5-7m",
    "outputId": "6b1aaf22-610c-4e02-9241-6ee94a1c6510"
   },
   "outputs": [
    {
     "name": "stdout",
     "output_type": "stream",
     "text": [
      "all tweets lengths after removing tweets lengths > used max length\n"
     ]
    },
    {
     "data": {
      "image/png": "[encoded data removed]",
      "text/plain": [
       "<Figure size 1080x864 with 1 Axes>"
      ]
     },
     "metadata": {
      "needs_background": "light"
     },
     "output_type": "display_data"
    }
   ],
   "source": [
    "all_tweets = pd.concat([selected_train_data,selected_test_data])\n",
    "all_tweets.reset_index(inplace=True)\n",
    "cleaned_tweets_length = all_tweets[\"cleaned tweet\"].apply(lambda x: len(x.split(' '))).to_list()\n",
    "print(\"all tweets lengths after removing tweets lengths > used max length\")\n",
    "counts = cleaned_tweets_length\n",
    "fig, ax = plt.subplots(figsize=(15, 12))\n",
    "sns.boxplot(y=counts, ax=ax)\n",
    "ax.set_title(\"all tweets lengths\", fontdict=dict(size=15), pad=15)\n",
    "plt.show()"
   ]
  },
  {
   "cell_type": "markdown",
   "metadata": {
    "id": "ud4065umBUU6"
   },
   "source": [
    "##### used tweets dataset lengths (compare with original tweets dataset)"
   ]
  },
  {
   "cell_type": "code",
   "execution_count": 35,
   "metadata": {
    "colab": {
     "base_uri": "https://localhost:8080/"
    },
    "id": "-PDC_DhiBhog",
    "outputId": "df42414a-6afd-446e-a1ca-33988c33e10f"
   },
   "outputs": [
    {
     "name": "stdout",
     "output_type": "stream",
     "text": [
      "test dataset (no. of tweets)\n",
      "original 11520\n",
      "used 11426\n",
      "train dataset (no. of tweets)\n",
      "original 45275\n",
      "used 44861\n",
      "total dataset (no. of tweets)\n",
      "original 56795\n",
      "used 56287\n"
     ]
    }
   ],
   "source": [
    "used_test_dataset_length = len(selected_test_data['cleaned tweet'])\n",
    "used_train_dataset_length = len(selected_train_data['cleaned tweet'])\n",
    "used_total_dataset_length = used_test_dataset_length + used_train_dataset_length\n",
    "print(\"test dataset (no. of tweets)\")\n",
    "print(\"original\",original_test_dataset_length)\n",
    "print(\"used\",used_test_dataset_length)\n",
    "print(\"train dataset (no. of tweets)\")\n",
    "print(\"original\",original_train_dataset_length)\n",
    "print(\"used\",used_train_dataset_length)\n",
    "print(\"total dataset (no. of tweets)\")\n",
    "print(\"original\",original_total_dataset_length)\n",
    "print(\"used\",used_total_dataset_length)\n",
    "# plt.hist(\n",
    "#     x=[\n",
    "#         original_test_dataset_length,\n",
    "#         used_test_dataset_length,\n",
    "#         original_train_dataset_length,\n",
    "#         used_train_dataset_length,\n",
    "#         original_total_dataset_length,\n",
    "#         used_total_dataset_length\n",
    "#     ]\n",
    "# )"
   ]
  },
  {
   "cell_type": "markdown",
   "metadata": {
    "id": "7M36lRt4N1Nu"
   },
   "source": [
    "### stemming and lemmatization"
   ]
  },
  {
   "cell_type": "markdown",
   "metadata": {
    "id": "X43Mw5VYCgx0"
   },
   "source": [
    "##### stemming and lemmatization"
   ]
  },
  {
   "cell_type": "code",
   "execution_count": 36,
   "metadata": {
    "id": "EJPZ_1quN-8k"
   },
   "outputs": [],
   "source": [
    "stemmer = ISRIStemmer()\n",
    "lemmatizer = WordNetLemmatizer()\n",
    "for index in range(2):\n",
    "  stemmed_data = []\n",
    "  if index == 0:\n",
    "    cleaned_data = selected_test_data[\"cleaned tweet\"]\n",
    "  else:\n",
    "    cleaned_data = selected_train_data[\"cleaned tweet\"]\n",
    "  for tweet in cleaned_data:\n",
    "    stemmed_words = [lemmatizer.lemmatize(stemmer.stem(word)) for word in tweet.split(\" \")]\n",
    "    stemmed_words = \" \".join(stemmed_words)\n",
    "    stemmed_data.append(stemmed_words)\n",
    "  if index == 0:\n",
    "    selected_test_data[\"stemmed tweet\"] = stemmed_data\n",
    "  else:\n",
    "    selected_train_data[\"stemmed tweet\"] = stemmed_data"
   ]
  },
  {
   "cell_type": "code",
   "execution_count": 37,
   "metadata": {
    "colab": {
     "base_uri": "https://localhost:8080/"
    },
    "id": "zRmyAG2ku5CC",
    "outputId": "d9d5bf33-d300-4148-efd0-9151bc5d64c8"
   },
   "outputs": [
    {
     "name": "stdout",
     "output_type": "stream",
     "text": [
      "unstemmed vocab counter 91429\n",
      "stemmed vocab counter 19555\n"
     ]
    }
   ],
   "source": [
    "unstemmed_words = [word for tweet in selected_test_data[\"tweet\"] for word in tweet.split(\" \")] + [word for tweet in selected_train_data[\"tweet\"] for word in tweet.split(\" \")]\n",
    "def get_stem_words()->list:\n",
    "  return [word for tweet in selected_test_data[\"stemmed tweet\"] for word in tweet.split(\" \")] + [word for tweet in selected_train_data[\"stemmed tweet\"] for word in tweet.split(\" \")]\n",
    "stemmed_words = get_stem_words()\n",
    "unstemmed_vocab = Counter(unstemmed_words)\n",
    "stemmed_vocab = Counter(stemmed_words)\n",
    "print(\"unstemmed vocab counter\",len(unstemmed_vocab))\n",
    "print(\"stemmed vocab counter\",len(stemmed_vocab))"
   ]
  },
  {
   "cell_type": "code",
   "execution_count": 38,
   "metadata": {
    "colab": {
     "base_uri": "https://localhost:8080/",
     "height": 0
    },
    "id": "pE6YSxQJ0AkP",
    "outputId": "7dbf49c6-134f-4e73-d2a9-50fd7a8bb956"
   },
   "outputs": [
    {
     "name": "stdout",
     "output_type": "stream",
     "text": [
      "stemmed word count\n"
     ]
    },
    {
     "data": {
      "image/png": "[encoded data removed]",
      "text/plain": [
       "<Figure size 1080x864 with 1 Axes>"
      ]
     },
     "metadata": {
      "needs_background": "light"
     },
     "output_type": "display_data"
    }
   ],
   "source": [
    "print(\"stemmed word count\")\n",
    "counts = list(stemmed_vocab.values())\n",
    "fig, ax = plt.subplots(figsize=(15, 12))\n",
    "sns.boxplot(y=counts, ax=ax)\n",
    "ax.set_title(\"Word Count\", fontdict=dict(size=15), pad=15)\n",
    "plt.show()"
   ]
  },
  {
   "cell_type": "code",
   "execution_count": 39,
   "metadata": {
    "colab": {
     "base_uri": "https://localhost:8080/"
    },
    "id": "1TZ_jPl25ko9",
    "outputId": "46520236-d677-466e-ce89-ea2e9a519b98"
   },
   "outputs": [
    {
     "name": "stdout",
     "output_type": "stream",
     "text": [
      "stemmed vocab\n"
     ]
    },
    {
     "data": {
      "text/plain": [
       "[('', 41183),\n",
       " ('الل', 10126),\n",
       " ('💔', 6660),\n",
       " ('😂', 4681),\n",
       " ('،', 4369),\n",
       " ('💙', 4043),\n",
       " ('قلب', 3544),\n",
       " ('لهم', 2967),\n",
       " ('😭', 2752),\n",
       " ('خير', 2673)]"
      ]
     },
     "execution_count": 39,
     "metadata": {},
     "output_type": "execute_result"
    }
   ],
   "source": [
    "print(\"stemmed vocab\")\n",
    "stemmed_vocab.most_common(n=10)"
   ]
  },
  {
   "cell_type": "markdown",
   "metadata": {
    "id": "jZjvWFNn0B9X"
   },
   "source": [
    "##### remove un-needed most common after stemming and lemmatization"
   ]
  },
  {
   "cell_type": "code",
   "execution_count": 40,
   "metadata": {
    "id": "wa2Zw-zi0ZvS"
   },
   "outputs": [],
   "source": [
    "def subsitute(tweet:str,to_remove_words:list) -> str:\n",
    "  sentence = tweet.split(\" \")\n",
    "  text_list = []\n",
    "  for index,word in enumerate(sentence):\n",
    "    if word not in to_remove_words:\n",
    "      text_list.append(word)\n",
    "  text = \" \".join(text_list)\n",
    "  return text\n",
    "to_remove_words = ['الل','',\" \"]\n",
    "selected_test_data[\"stemmed tweet\"] = selected_test_data[\"stemmed tweet\"].apply(lambda x:subsitute(tweet=x,to_remove_words=to_remove_words))\n",
    "selected_train_data[\"stemmed tweet\"] = selected_train_data[\"stemmed tweet\"].apply(lambda x:subsitute(tweet=x,to_remove_words=to_remove_words))"
   ]
  },
  {
   "cell_type": "code",
   "execution_count": 41,
   "metadata": {
    "colab": {
     "base_uri": "https://localhost:8080/"
    },
    "id": "EjbWCXz81apg",
    "outputId": "ec51757b-3f2e-430d-9549-81f85d1f67ae"
   },
   "outputs": [
    {
     "name": "stdout",
     "output_type": "stream",
     "text": [
      "stemmed vocab after removing most common\n"
     ]
    },
    {
     "data": {
      "text/plain": [
       "[('💔', 6660),\n",
       " ('😂', 4681),\n",
       " ('،', 4369),\n",
       " ('💙', 4043),\n",
       " ('قلب', 3544),\n",
       " ('لهم', 2967),\n",
       " ('😭', 2752),\n",
       " ('خير', 2673),\n",
       " ('صبح', 2580),\n",
       " ('علم', 2545)]"
      ]
     },
     "execution_count": 41,
     "metadata": {},
     "output_type": "execute_result"
    }
   ],
   "source": [
    "stemmed_words = get_stem_words()\n",
    "stemmed_vocab = Counter(stemmed_words)\n",
    "print(\"stemmed vocab after removing most common\")\n",
    "stemmed_vocab.most_common(n=10)"
   ]
  },
  {
   "cell_type": "code",
   "execution_count": 42,
   "metadata": {
    "colab": {
     "base_uri": "https://localhost:8080/"
    },
    "id": "tXkV6_HbvjqI",
    "outputId": "fa0e550b-d807-43f2-f42b-210ee5b112df"
   },
   "outputs": [
    {
     "data": {
      "text/plain": [
       "[('🦐', 1),\n",
       " ('حدث،', 1),\n",
       " ('مبتردش', 1),\n",
       " ('عك؟؟', 1),\n",
       " ('‗−¯«', 1),\n",
       " ('※', 1),\n",
       " ('مفقودا،', 1),\n",
       " ('خلافيا…', 1),\n",
       " ('غيا', 1),\n",
       " ('،لكل', 1),\n",
       " ('🌛', 1),\n",
       " ('قربهم،', 1),\n",
       " ('خنس', 1),\n",
       " ('ظن…', 1)]"
      ]
     },
     "execution_count": 42,
     "metadata": {},
     "output_type": "execute_result"
    }
   ],
   "source": [
    "stemmed_vocab.most_common()[-15:-1]"
   ]
  },
  {
   "cell_type": "markdown",
   "metadata": {
    "id": "YxGhhElxVGwy"
   },
   "source": [
    "# Tokenization"
   ]
  },
  {
   "cell_type": "markdown",
   "metadata": {
    "id": "h9CaryOmuOnK"
   },
   "source": [
    "### create tokenizer"
   ]
  },
  {
   "cell_type": "code",
   "execution_count": 43,
   "metadata": {
    "colab": {
     "base_uri": "https://localhost:8080/"
    },
    "id": "gm9Jh6DIVS-8",
    "outputId": "0cbe585f-d87a-4ebb-81b3-3dfdedca2aec"
   },
   "outputs": [
    {
     "data": {
      "text/plain": [
       "9285"
      ]
     },
     "execution_count": 43,
     "metadata": {},
     "output_type": "execute_result"
    }
   ],
   "source": [
    "min_word_freq=3\n",
    "all_stemmed = pd.concat([selected_train_data,selected_test_data])\n",
    "all_stemmed.reset_index(inplace=True)\n",
    "all_stemmed.drop(columns='index', axis=1, inplace=True)\n",
    "tokenizer = Tokenizer(model=WordLevel(unk_token=\"[OOV]\"))\n",
    "tokenizer.enable_padding(direction='left', pad_id=0, pad_token=\"[PAD]\")\n",
    "trainer = WordLevelTrainer(\n",
    "    vocab_size=200000, \n",
    "    show_progress=True, \n",
    "    min_frequency=min_word_freq, \n",
    "    special_tokens=[\"[PAD]\", \"[OOV]\"]\n",
    ")\n",
    "tokenizer.train_from_iterator(iterator=map(lambda x: x.split(\" \"), all_stemmed[\"stemmed tweet\"].tolist()),trainer=trainer)\n",
    "tokenizer.get_vocab_size()"
   ]
  },
  {
   "cell_type": "code",
   "execution_count": 44,
   "metadata": {
    "colab": {
     "base_uri": "https://localhost:8080/"
    },
    "id": "Sb95tPrzR16A",
    "outputId": "75c9e7b0-2acb-4358-8046-d8c8088a9ec4"
   },
   "outputs": [
    {
     "data": {
      "text/plain": [
       "['عرف ان بتس كنو شوي شوي جيبو رسي اليوم زيد 😭',\n",
       " 'وقع اذا جات دار بشف كمل حين احس احد نقص 💔',\n",
       " 'كتب وقع نتج لقء هلل اهل تاق 👇 دخل سحب قيم ايف عل…',\n",
       " 'نعم ضاد حيي تضع قطر 💧 ضاد نسل كتر 🦠 فجر 💥 تمت اخر بدو انه كتر قام خذ…',\n",
       " 'دودو جيه كمل علي 💔',\n",
       " 'حبب قنع فات عمر نظر 🙈',\n",
       " 'بدو ان دجل عاد تهم جسد بني يكر عبر 👆 👆 💔 سمع ان بشر عطش شرب ماء لم…',\n",
       " 'جلس ذكر 😣',\n",
       " 'يكف خفف عقل عرب امن خبر مان قدر وقف اي عصب جرم 🤔 وا…',\n",
       " 'يلل ترا كلج كثر مشي 😭',\n",
       " 'بيد رجع سعت وين رجع؟ الا صدفه؟ ولل ابق افر بيه رجع بشر اعرف ونه علق عرق دمع…',\n",
       " 'ليه محد يسي معي 💔',\n",
       " 'انت يمكن الي نسي حدث بصر شهر او غافل عنه قتل ظاهر بدم برد منو قتل 😕',\n",
       " 'يعن 😔',\n",
       " 'فرج دءا امس قرب كلهم قرب فنز الا بوب بعد يسر دري ليه 💔',\n",
       " '⚛ تبي شي يقي جنس 😳 ☣ ريفر عطك 😉 🔸 جمع عزز قدر 👨 مع 🌹 ارج بلس الت اكا 🌹 ✅ مني هتقوي…',\n",
       " 'مش وقت خلص تعب ده 😭',\n",
       " 'عرف انه فلس تغر نفس تغر ونت فلس هيد قله ادب 😒',\n",
       " 'ربن رزقگ ببن حلل 💔',\n",
       " 'جمل حل وقع 🥀',\n",
       " 'قبل منك 💔',\n",
       " 'سفر امر كشف خبي 😑',\n",
       " 'سلم 😓',\n",
       " '⛔ 🍯 قسم بلل انه عسل 🍯 ⛔ سدر طبع ♨ ️ ⚠ ️ مضمون…',\n",
       " 'شكر انو قلب عضل مو عظم بضل عضل رحم كسر 😔',\n",
       " 'عند تسل حبب زمن اجب عبر ورء عبر ، يدم 💔',\n",
       " 'اقل ماي مايعور كثر نار 😩',\n",
       " 'ولل سلم 😔',\n",
       " 'لا ﺂ غرگ ضحگ تقل ❌ 😌 رگز با ﺂ ضحگهہ ❌ سمع صوت… 😧',\n",
       " '📌 يخف فلس منا صبح خير',\n",
       " 'برك يحء خرج شبح هبط شكل كثر اما ارح مكن 😚 هاردل لند احد لذي جهد وص…',\n",
       " 'لعب فين بعض 😤',\n",
       " 'فكر ناس يسن طلع وحد 😶',\n",
       " 'لعب فين بعض 😤',\n",
       " 'كتش قدم 💔',\n",
       " '😭 😭 هذي شكل',\n",
       " 'اسف انه ركض موب يمش 💔',\n",
       " 'سوت سطر 😲',\n",
       " '☆ ✋ حذر جماهير ⚠ صفرااء سلم خير دنا ومف 🚩 ⛔ ⚠ ✋ طرق وده لعب غلق غردزه…',\n",
       " 'ونت حزن فرح هتكمل امت 🤔',\n",
       " 'بسم نفس تغر 😭',\n",
       " 'ليه ناس كذب عطك امل زيف 😕',\n",
       " 'شكر انو قلب عضل مو عظم بضل عضل رحم كسر 😔',\n",
       " 'عند شتق لمن فقد ، تغب لذه شي حيه ابد سهل يسم حنن 💔',\n",
       " '🥀 رغم شيء سمع دخل صوت تلو ﴿ ت…',\n",
       " 'بسم 💔',\n",
       " 'فكر خصص وجد حمتو جنب',\n",
       " 'فعل جيل رتح نفس مو لحن نفس 💔',\n",
       " 'وحد احا تعب جمل بسم شخص فضل 💔',\n",
       " 'وحد ذكر بذا زعج 😭',\n",
       " 'حقق خين الي باع بلد لجل مرر جند شخص 👎',\n",
       " 'خبط شوك تشك 🌵',\n",
       " '🙄 حال قوه جدا اهي 👀 😁 حول انا بدت اخف جيز 😩',\n",
       " 'ماتستخدمش معا لمح ابد ، بهر بجر عشن ماابهركش بغب 😏',\n",
       " 'مين سرق فكر ؟ 😒 كانت لعب عاك ونا توسط 🌚 😂',\n",
       " 'شقت سلف ورد قلب ابي علم اخط 😖',\n",
       " 'تظر 😔',\n",
       " 'عبد ثقيله، قلب خرب ذنب ثقل 💔 غفر ❤ ️',\n",
       " 'كسر رقم تشن 🤟 🏻 بنق عند الف سمع سعه ميل فقط',\n",
       " 'سبح لهم حمد شهد لا اله الا غفر اتب 💭 ✨ …',\n",
       " 'قوم فجر برك غضب اخذ معه خضر يبس لذا رجء حذر 😈 😈 — 🤔',\n",
       " '😳 انا مش خيف 😳 قوي قلب 😳',\n",
       " 'ولم جدا ان حدث تحب حتج لاهتمامه تفج باهتمامه بغر 💔',\n",
       " 'طبع 😒 اي هبد فتي خلاص؟؟ 😑 😒 يخل بلد احس 🙂 🙂',\n",
       " '💎 خطب كتب عنو “ان يغر بقم يغر نفس “ ✏ ️ كتب عبد قدر جند …',\n",
       " 'شعر وجع عند كلم لجك اول وكن خير اخر 💔',\n",
       " 'تذكر نظر بين جمع جدل سبع جدد اسس ااي عمل حلل سيس دير اشك يهم لث…',\n",
       " 'شعر قسي حين تزر كنك قدم يعد كنك ان، حين تري صدق قدم عودو صدق …',\n",
       " 'عنو ريه طلع اغن ❓ كمل عليها بيت ييم قوم طلي شوف بحر حتس ونت حيس طب…',\n",
       " 'تحر لحب 🙈',\n",
       " 'تره شجع شعب جزير سود ظهر ضد حكم 🔴 عند سله لمذ طلب حقق ومشاركتك ادر بلد ؟…',\n",
       " 'كان امس 🤔',\n",
       " '💚 🍃 🌷 📿 🥀 🥀 سهل تضع يدك فمك لا كلم صعب تضع يدك قلب ك…',\n",
       " 'مطر ليل ونا مه؟ 😔',\n",
       " 'اني مثل امر رور كرم فرق عنهم اهز اقص ركنگ ㅤ 😴 ♥ ️ ♩ ❋ ㅤ ㅤ',\n",
       " 'شكر انو قلب عضل مو عظم بضل عضل رحم كسر 😔',\n",
       " 'رجز بضح خلق ببك بعد صحب عشن لقش عين شفق حلي 💔 💕',\n",
       " 'حيو قلب تحب 💔',\n",
       " 'يمكن ان عطف اي سعد رجل عمل عان حنب رقو اقل يزد فضل جنب اب…',\n",
       " 'انت حين تصح ؟ خلص ببا افي شي تهل دمع غلي',\n",
       " 'لا شمتہ ۈلا نقم زمن ادر عجب سسواياهہ ؟ • جيه ايم 😏',\n",
       " 'دلق لقا هادي، ال يعن شوق غيب ، ويب كلم عدي ، انه كلم حبيب ، وان شوف ويا غير طول سل…',\n",
       " '♨ ️ قسم بلل 🍯 👍 🚫 عسل سدر جبل طبع 🚫 💯 😊 حلي ال…',\n",
       " 'حول قوه الا بلل 😳 غفر',\n",
       " 'كلن عرف دنا تسي جنح بعض لكن نفس رده يادكتوره 😔 ركض ورا لذت عمر حسب …',\n",
       " 'بدو انن صبح هتم 💔 لكن قسم انن اكن هتم بدي 😹 🚬',\n",
       " 'جعل ماتصدق 😐',\n",
       " 'ازعل اكف 🤔',\n",
       " 'وله تفق 😕',\n",
       " 'امي حاج الي خبي رحم ثني قسو ايم رهق كاهلي،وخذل احد شعل راس شيب 💔',\n",
       " 'بنخ قال كلم 😔',\n",
       " 'تحد نفس 😔',\n",
       " 'قلب لبه قلب 😞',\n",
       " 'يرب هالمطر اخل قيد ذيك امن',\n",
       " 'جيت وفي صدر بعد ضيق وقف خوي ضيق اجت',\n",
       " 'الس عيب ان حفظ اغا كرر سور صله 💔',\n",
       " 'هنم امت دمغ 😒',\n",
       " 'تبو او انم 😴',\n",
       " '💥 يسر جمع دعي 💥 قدم شكر امت لكل شرك 🔻 رفع تاق 🔻 لصل خير عين ال…',\n",
       " 'عجب صيف زهق 😏',\n",
       " '💥 لله قيد عدد زيد حرسو ثور فنح قتلع شجر جزر زات وجد',\n",
       " 'حرف مثل 💔',\n",
       " 'جمل كذذ اشف',\n",
       " 'قطر علم انت عوز تبظ عين هتل موس موس',\n",
       " 'فعل عند تكون وحد غرفتك؟ — كان زمن بقي 😭',\n",
       " 'خرج معا او نمت معا 💔',\n",
       " 'يدو يحك قصه كثر انه دعي ولك عقل فعل حفز قصص فا تبق قصه اقي وسل طل…',\n",
       " 'لحب شعه ؟ طلق شعر وحد حزن — بكف يبه 😶',\n",
       " 'غلط مره وقل 😔',\n",
       " 'ولل يرز حدا حدا ✋',\n",
       " 'تغب شمس شرق شمس علم تنر ليل عشق 💛 💙 لبي نصر لبي عشق 💛 💙 💛 💛 💙 💙 …',\n",
       " 'وسط خبر 😭',\n",
       " 'يرب ولل غبن عليها 😭',\n",
       " 'تذكر نظر بين جمع جدل سبع جدد اسس ااي عمل حلل سيس دير اشك يهم لث…',\n",
       " 'ابن عوف سلم يهو بكل حب ود اخو اخو يعن كلو قلب بتع وه…',\n",
       " 'سمع منك 💔',\n",
       " 'ريتو هوصف كلم 💥',\n",
       " '💚 🍃 🌷 📿 🥀 🥀 سهل تضع يدك فمك لا كلم صعب تضع يدك قلب ك…',\n",
       " 'بان كيك بتع بتع بور 😔',\n",
       " 'اه يعن شبب زي كوس اصل 🤔',\n",
       " 'جدل حب اهل ، حتي خسر 💔 ذهب وحب ترد ، اليوم انا احب ، وغد انا عشق ، ولي ابد س…',\n",
       " 'نسم كدا نفو سبع كلو محن 😴',\n",
       " 'اذا فيف عرف هلش غلط مش فرض صرف تخذ جرء تحد سعد اقي هاي شوشرا…',\n",
       " 'رزق 💔',\n",
       " 'سلم علي رحم وبر ✋ تبع كرم 🌺 عهد يكم خير برك دعم اخت ذكر شرف رتوي…',\n",
       " 'مو عقل وتر ، يعد ليل خير 💔',\n",
       " 'كونسر احل حيت 😭',\n",
       " 'ستر 🤔 هلل جهل غرد كشف وقت 👇 👇 غرب وكف احط جهل',\n",
       " 'مخنووق 😢 صبر حكم ربك فنك بعي اذي 😕 تدر حد…',\n",
       " 'ويا كثر اخر فتر 💔',\n",
       " 'ولل ثلث اتف عرس كره شو يعن الم ركب عرس درا حبت طلق عشي تفه الم نشب زقه…',\n",
       " 'قعد نوم 😒',\n",
       " '📍 سلم علي لهم ذنب هان بحق جهل واستخفافا وعد وان غلب هوي ضعف قوي ست…',\n",
       " 'وضع داه كبر اوي عوز هندس فضي فني لوغاريتم خبر فرقع قيس بعد بور نقط ال…',\n",
       " 'سرب حلق اول 😱',\n",
       " 'ستر 😳 ليه طيب',\n",
       " 'تكن فيء ، عبث قلب قيء 🥀',\n",
       " 'وحد خيف علي ثور دي شدد رب كمل زي عيز 👐',\n",
       " 'ابغ بنت 💔',\n",
       " 'قلو ليش انت گل هالناس ♔ قلت ايش عشن ❌ ✴ 🔱 ✔ گلن مخاليق ورب',\n",
       " '📌 سبب حول جوه قرر اخر متح نصف قرر ثقف سلم ليك فتر اول ال…',\n",
       " 'فيف ضد اهل 💔',\n",
       " 'سهر شطر شطر ولل نيم حلم فين 🤔',\n",
       " 'احب گل ما فيگ غيبگ 💔',\n",
       " 'تلا سنه رقص ليل رقص ببك 😭 دي حلو شدد باخ',\n",
       " 'رب هون بقي 😣',\n",
       " 'ادء بعد نين وتر 😭',\n",
       " 'خير ✋',\n",
       " 'الس عيب ان حفظ اغا كرر سور صله 💔',\n",
       " 'طبع دخل بعد كلاتنبرغ وعن جلل تطع يمل مايريد 🤔',\n",
       " 'اي ولل 😥',\n",
       " 'حجه رتي حقق ✴ ️ شكل يوم لتغريداتك؟ 🔃 📍 رتي غرد وحد ✴ ️ خلل عه…',\n",
       " 'اكذب ولل 😭',\n",
       " 'ده ليا 😂 😂 انت بقي هتكل ايه 😔 😂',\n",
       " 'طز بشر شعب حكم ريس يوم سود عظم ❤ ️ 💪 🏻 🇸 🇩 🇸 🇩',\n",
       " 'تره يوم كند 🌚',\n",
       " 'يلي حظر اه 💔',\n",
       " 'سرط عرف طرق جمل 💔 شلل هترجع احس اول ربن يشف',\n",
       " 'لهم اغث ارض اسق قلب فرح تزل همم احز بشر يسر يرب 💔',\n",
       " 'يشف يقم سلم خفف عنهم وجع يشف اخت رب ويه عليها 😭 يشف رضي سرط خفف علي',\n",
       " 'زاج خرب 😒',\n",
       " 'لهم امي 😭',\n",
       " 'عبدالرزاق حمد برا هلل قال كلم ارخ اثق في…',\n",
       " '☆ ✋ حذر جماهير ⚠ صفرااء سلم خير دنا ومف 🚩 ⛔ ⚠ ✋ طرق وده لعب غلق غردزه…',\n",
       " '💔',\n",
       " 'تلا سنه رقص ليل رقص ببك 😭 دي حلو شدد باخ',\n",
       " 'نزج ليش مانزوج 😂 😂 💙',\n",
       " 'يعن عجب وضع صور تشف شي طبع ؟؟ عور رجل استر لهذ ا…',\n",
       " 'الا الي بدا يجن جنن شاب شبه سعد بدا دخل جال حطا وضع عنصر كر…',\n",
       " 'عرض قطر كشف دوح اعط حوث جنس قطر وقع بكر يجو تجر ترا عدي ولد عم عبدالملك حو…',\n",
       " '» حسب بشر حفي 💔',\n",
       " 'ان صحب هاشتاق بلد ملء 🙈',\n",
       " 'نبي تبع بصم خلص 🤐',\n",
       " 'ناس بدت سعد ينل ذكر ونا ابع دوم صبح سعه اسف عند ينل اثن بدت يه…',\n",
       " 'قصه مره وود سمر كشف قوي هكي عمق وقع هكي نبو وفج هكي سلح وفج يبق ال…',\n",
       " 'فد يوم بجت كلي اني تبج سول ليش تبج كتل فضل 🌚',\n",
       " 'ريس يوم قلو ربع عرب 😒 نحن كتح فرق',\n",
       " 'سمع كلم صدق اشف فعل غرب الم عتو جوس حصر قطر سبب اير حرب يمن 🤔 قو…',\n",
       " 'وضع 😑',\n",
       " 'سمع قصه “النب حمد صلي لم” منت انه عيش بين 💔',\n",
       " '🚫 كثر دعء 🚫 كثر دعي اليوم اول جمع شيطان…',\n",
       " 'قعد دقيق قلب مفاتيح في ايد انر موبايل لحد اجب فتح لصح وول وصل باب تقم مفاتيح تقع مني 😡',\n",
       " 'خير شنو هالكسل ال طفش لجو طفش 😔',\n",
       " '🔴 نصب اقي ⚪ تحس قدر جنس ⚫ وخر قذف فتر طول 🔵 عزز قدر جنس 🚫 تزد كمه يل…',\n",
       " 'يمه ولل جرح جرحوو يمه ولل سمع سمع يمه ولل همي همم هملوو يمه شلت همه…',\n",
       " 'سلم علي رحم وبر ✋ تبع كرم 🌺 عهد يكم خير برك دعم اخت ذكر شرف رتوي…',\n",
       " 'انا جذي رفزز حيلل 💔',\n",
       " 'يوم تكل رز 😳',\n",
       " 'نقل الي رحم ولد صدق 💔 اتم نكم دعو خلص لهم غفر ارحمه،واعف عنه…',\n",
       " 'قول سور خطف خطف سنن بشر صاحبو ينس طريقو 🤔',\n",
       " 'اغن مكملناش 💔 🎶',\n",
       " 'انت سعد خسر 😯',\n",
       " 'يرب جيت 💔',\n",
       " 'اخسر ابد ششنو حتج ثلا ؟ 😏',\n",
       " 'دري ليه عجب 😰',\n",
       " 'قال جاي قلل 🌚',\n",
       " 'ليش ذكر فدو رسم 😢',\n",
       " 'شحل كلن بحل ✋',\n",
       " 'حبب انت حده واحشتني، مره ييه ماسامحج اذا ايت 😒',\n",
       " 'ريه اول حلو 🙈',\n",
       " 'اغن مكملناش 💔 🎶',\n",
       " 'وفي مره قرر اكر 💔 شعر 😔 بني احب كثر 💜',\n",
       " 'امن امي يسك وجع ولم 😔 وجع كسر قلب 💔 ☘ ان ﮪ',\n",
       " 'قبض منج نقط فيش عاه سدس قيل سدس افي اي هجم حصل حرك بتع جري بدن سبب خوف مهم دوش ضر…',\n",
       " 'وقع هكر لعب زيد 🤔',\n",
       " 'تحت غرد تحد روق سرع اذا فاز هلل ان شاء ، سرع وزع قيم ايف …',\n",
       " 'سوت ليك ردي لهن 😥',\n",
       " 'حيه وقف صدمگ وقف بكگ 😢 وقف بحج جهل تبق هنگ وقف تنس',\n",
       " 'ليك وهاتابعك تبع 🤳 🏻 عيز نبق قوه وحد ايد وحد 💪 علي حب اهل جمع 😍 انا تبع ناس رد باك ورك 🤔',\n",
       " 'حلم ان تحد فاز نصر 😩',\n",
       " 'منو سهم سعد اليوم ؟ — حدش 😔',\n",
       " 'احد فهم كذا 💔',\n",
       " 'ولل بطل شعب عرق يسي مثل 😔',\n",
       " 'عفا نقط نصر وليس نقط ✋',\n",
       " 'يقل راكنغ ل ساع 😭',\n",
       " 'شو عرف انت نورملامو فهم خسر 😏',\n",
       " 'برح رحن وظب رجع تخر يوم احس شي جسم وجع ومت تعب شلن اثن حرح باص رجع باص 💔 …',\n",
       " 'ليل كتب عنه قلم ليل حصد ارخ قتل اجل قتل كين قتل م…',\n",
       " 'غيب شمس يوم نهي يوم عمر 👈 يعد ✋ لهم رزق حسن ختم جعل خير عمل خواتيم وج…',\n",
       " 'رفقو قلب جمع تصر مطر',\n",
       " 'تمل قلب لمن صعب علي ملك 💔',\n",
       " 'اسف حلو هطر 😔 مش نمس فرص ✋ 🏻 يلا ربن عهم يفق كده',\n",
       " 'حسد علش 😔 ✋ شيف شنو رات بسم ضحگ گثر 💔 🕊 ️',\n",
       " 'سمح ابي وعد ابك ،،فب 💔',\n",
       " 'لحل قوه الا بلل علي عظم',\n",
       " 'طيب دعل 😔',\n",
       " 'مخي انم',\n",
       " 'وش سلف 🤔 ببا قبل قدم ريس جنب سود وفد رفق 👇',\n",
       " 'ولل بقي عزم 💔',\n",
       " 'يرب يساعدونه بدن ردد وخف رزق سعد دار سخر عبد طيب يرب 😭',\n",
       " 'حجه رتي حقق ✴ ️ شكل يوم لتغريداتك؟ 🔃 📍 رتي غرد ا…',\n",
       " 'عقل كلم كبر طلع نصر قصب 😳 مايعرف جمع كلم قبل تلفزيونيه خلص مقابل…',\n",
       " 'زعل وجع كيب 💔 👍 يوم ماتقرر وجه خلي جبرو علم منك ✋',\n",
       " 'قلي هوء سخن قلي عدي مهم تخذ فكر وضع 🙃',\n",
       " 'اهو نهج وصف حلل ؟ 🤔',\n",
       " 'لعب فين بعض 😤',\n",
       " 'ليب عرك دير خين حفتر جلس وطن وفق سود ثور قلب شقق جزير ثور وعي عش…',\n",
       " 'احل شعر ترح كان ماتعرف احد ، عرف احد يحل هلم حبب هلج',\n",
       " 'حتو ازا مكن غلب يعن سنل فضه لسط 💔',\n",
       " 'لهم ريمونتادا بكر 👐',\n",
       " 'قسم بلل افي يتر اكن اه 😥',\n",
       " 'نوم ذكر حلم جمع ما فرق ايم',\n",
       " 'ولل كنت بشك نفس حمدلل طلع مش وحد 😴',\n",
       " '📌 جمل وهم هدف نصر حظا صرر جمع خرج كره ضرب زوي سرع نفذ ثوا فقط خروج…',\n",
       " 'تكد 😲 حيل',\n",
       " 'ღ ♬ اسل طيف الن نعش عشن احس غيب طول جعل ذمت اوحش 💔 …',\n",
       " 'زعم يصل الي سيي 💔',\n",
       " 'ايم عدي الا هذك اليوم',\n",
       " 'اتم يزج برا عيل خرب نسل حقهم، بدع',\n",
       " 'عمر كبر 😢',\n",
       " 'وفه تلو وفه 💔 كنت قدم فحس ختم سخر دعو ملل',\n",
       " '😂 💔 انا اضح الا رجل مو عرف وين حطه',\n",
       " 'ناس اذا اسي الي يبن بدا ارس حيل نفس وهي ضرب وتر انب ضمر عند ماتوقعتك قعتك…',\n",
       " 'ريس يوم قلو ربع عرب 😒 نحن كتح فرق',\n",
       " '🇵 🇸 ✌ حله طرق 🇵 🇸 حله طرق لهذا صبح 《 سبت م 》 🚦 حرك رور نشط كفه فرق ا…',\n",
       " 'اوف ليش عنصر كلهم عيل شهر 😕',\n",
       " 'دنا غرق مطر برد ونا نيم 😭',\n",
       " 'هه ذكر زرف سمع اخا صغر وحط عليها مناكير حسب قعد يدر حقت مايدري…',\n",
       " 'حاج ولد بن طلل لعب زي بنت 😿 اغد يعط فلس',\n",
       " 'اجت يتر ونا حلت عال اجت اوا فين عله 💔',\n",
       " '✿ 💕 اغر احب 🙁 غير تصل بكء 😭 لا احب نظر 🕔 فقد عصب سرع 😡 وكر فكر شغل حب…',\n",
       " 'حترم جدا ناس الي غلط عذر كبرش كبر تحه حضر ✋',\n",
       " 'سمه نير قربل بلح 🤔',\n",
       " 'خفي نفس رجل عشق امه ✋ قدر مره خلق حشي ، يوذ مره يحب ❤ ️',\n",
       " 'نظر لزل تمس فيك وغر اسف فيك قهر 💔',\n",
       " 'نعد ارخ مره شفت ثيق لحظ علماء عشو وخر شدد سيح اشل بحث خر…',\n",
       " 'صحي نوم شيط ركب 🙈',\n",
       " 'ردد يمه ، يبه ضمن اصو 😔 لان سمي يتم يتم 💔 كلب يتم',\n",
       " 'وماادراك ابي 😢',\n",
       " 'بهر شخص حبت مره اشف احس اني اول مره اشف فعل بهر ذهل تمل اسل',\n",
       " 'محد يحب دهم بلس كثر',\n",
       " '💚 🍃 🌷 📿 🥀 🥀 سهل تضع يدك فمك لا كلم صعب تضع يدك قلب ك…',\n",
       " 'فعل نكر عرف شغل سعه شردد',\n",
       " 'حيه دنا حيه جمع ناقض ففي سعد شقء حزن فرح صحه مرض نجح لف…',\n",
       " 'مي تو اشف ونا دخل قهر 😭',\n",
       " 'هام انا زي تين ظبط',\n",
       " 'احب بكل ويت مرض 💔',\n",
       " 'نمج دعس علي اكسر رقم 😭',\n",
       " 'ليب عرك دير خين حفتر جلس وطن وفق سود ثور قلب شقق جزير ثور وعي عش…',\n",
       " 'سلم علي رحم وبر ┅ ━ ❀ 🌿 🌸 🌿 ❀ ━ ┅ كتب شي وجر 🥀 جيز 🥀 …',\n",
       " 'يرب مطر قلب رضا فرح ينس احز 💔',\n",
       " 'تغب شمس شرق شمس علم تنر ليل عشق 💛 💙 لبي نصر لبي عشق 💛 💙 💛 💛 💙 💙 …',\n",
       " 'اهم شي شو سوت ذهب قصد كله 🤔',\n",
       " 'تبع مره حلو 😔',\n",
       " 'است ماتقفلش حفر دفنو جنب توت كتب دي',\n",
       " 'عقل كلم كبر طلع نصر قصب 😳 مايعرف جمع كلم قبل تلفزيونيه خلص مقابل…',\n",
       " 'نفس اقي يتر بتع تعب كتر بدر عله 😞 مكن شيرر عسا جمع قلب تحد',\n",
       " 'ان شاء دعم ✋ سمر لكل ناس 🔙 للي شرك 👍 عن…',\n",
       " '🤔 عجب علم كله قدم شكي',\n",
       " 'ايه لبث 💔 ولل اني حزن خطر كسر 💔',\n",
       " 'اخر حدد حسس',\n",
       " 'اليوم سبت سعه صبح صحي هلق بلل علي وش قدر نسي ؟؟ 😤',\n",
       " 'احب علق رسم لني عرف رسم 💔',\n",
       " 'حسب علي ولل سلط علي ولل فضح امم لاء ببو فسد كره لدي شغل نفس وذ…',\n",
       " 'قون غاز 💔',\n",
       " 'خير ✋',\n",
       " 'غرب دار 💔',\n",
       " 'وقع نتج برا جيز 💵 صحب وقع صحح 🔴 شرط سبق ✅ تبع ا…',\n",
       " 'انا 😌 اغب ﮔ ثير و لا اسل شاق خبر بذل ☝ 😔 شخص فهم ﮭ ﺂ احد ✋ ول ﮕ ن ضلعي…',\n",
       " 'يقل مثل موزنبيقي تزج راه تمل قدم كبر قدم 🤔',\n",
       " '❤ 🦅 احن تفق اهل فيش حجه فرح بلد دي غير ❤ واح حجه فرح ولل 💔 عاك مره حله ❤',\n",
       " '\\u200cسر مشاهير بوز ثلي عنا رشق 🤗 هي بدي صحه جسم سلم قوم رش ☺ يق ديت اول حمه كلين…',\n",
       " 'وجب 🔥 زير نعر يدر سلب 😍 جاد جاد انه كبر اهم شي جاد 🔥 🙈 تعل خاص سرع شي 😴',\n",
       " 'لهم شتت شمل 💔',\n",
       " 'ولل وحد اشف شي امس طول ليل لعب بعد نمت وتو قيم ذكر عند خبر دنا 💔',\n",
       " 'قال لها وثق جدا بنك نفذ ما طلب منك دوم بلا نقش انا سي سيد يحق ، رفع عمه…',\n",
       " '⛔ افي فض عصم وجه جمع هني سود ⛔ افي فض عصم وجه جمع هني سود ⛔ افي فض عص…',\n",
       " 'حسب نعم وكل ظلم ظلم ظلم يوم قيم اذا سك…',\n",
       " 'قوميز لعب حرم جلس لحق حسن عبدالغ 🤔 ولل عقل طقي بغل فرم',\n",
       " 'وضع 💔',\n",
       " 'تكون رجل صحب نجح حول تكون رجل صحب قيم ✋',\n",
       " 'ترا اكر صدق يضح 😭',\n",
       " '👍 جدر قلب شبه جمل جدا ولا 😰 اغش يصب قرح فدع لسن صمت يحك عم…',\n",
       " 'تلا سنه رقص ليل رقص ببك 😭 دي حلو شدد باخ',\n",
       " 'نص شكل سبب نبر صوت انا نقش 😂 وهم حسبو اعل حرب ، مين ثلي 💔',\n",
       " 'عند تخل فرس تخل عوب تضح عليها وهي تبك اجل عرف عني لحب سحق بقء بطن ارض 💔',\n",
       " 'ولل هلل قهر يلا مو شكل نحط حره هدا 💔',\n",
       " 'تكس مورنينج حقق غاء محن 😴',\n",
       " 'بعد 💔',\n",
       " 'تخر حلم جعل نكر 💔',\n",
       " 'قلد 🤔',\n",
       " 'هلل فرق ب نقط ونا اشف لخص اهل اشف كمل طبع الا برا لن…',\n",
       " 'ليش ماعزمتو 😤',\n",
       " 'حسي قهت ودء الي قلب 🙈',\n",
       " 'حذر مدح ذكر داي رجل دعب راس حمر ركب بعض لل…',\n",
       " 'افا اخر ردد نشد ؟ طول عمر هيط نقل ايهم وفق جمع حين ندر فزع ريق…',\n",
       " 'علم انه بهذ قسه 💔 لكن رد صفع بقه ضعف اهل شهد صغر اهل ابن علم شدد قسه 💔 💙',\n",
       " 'يخذ ماتختار تصر ششه الا وصت تعب 😭',\n",
       " 'مو عند 🌚',\n",
       " 'عقل كلم كبر طلع نصر قصب 😳 مايعرف جمع كلم قبل تلفزيونيه خلص مقابل…',\n",
       " 'دعه خمط او شنو 😡 طلع حول',\n",
       " 'رجو جهو قيد مثل بتع ضرب رصص هوا قولو ديل قنص عشن ناس تخف شيلو اريس ح…',\n",
       " 'اخا لسه طلب حقق طلب علي ناس خذل 💔',\n",
       " 'كتب وقع نتج لقء هلل اهل تاق 👇 دخل سحب قيم ايف عل…',\n",
       " 'سنن وسن ونا صبر ورح صبر كمن وكم',\n",
       " 'وقت تون تخرج ثني 😭 😂',\n",
       " 'علي نبك سوا 💔',\n",
       " 'شكل ارخ نصر 😖',\n",
       " 'خدا صبر بده 😢',\n",
       " 'عطي حظر نهو 🤔',\n",
       " 'طيب تبك عرف صور دي حرق شدد حول حفظ رجل هزز مره تشف راه حر…',\n",
       " 'ربط لحت وصل بيت ونا بتف عها ✋',\n",
       " 'رزق 💔',\n",
       " 'قطع قلب 💔',\n",
       " 'خلص بقا حسسو ذنب كتر انا 😭',\n",
       " 'حول قوه بلل قهر ربي صبر ان شاء وعر 💔',\n",
       " 'سمع صيح كوك ستن 😭',\n",
       " 'حين صدق اهل يوم يقل انه بنت تتم ولا سلك 🌚',\n",
       " 'ورد 🥀',\n",
       " 'تلا سنه رقص ليل رقص ببك 😭 دي حلو شدد باخ',\n",
       " 'ذكر جرح هملو 💔',\n",
       " 'صله سلم ايه ولل نقر وفت نبك وكن مره اول 💔 فعل تهن وته كل…',\n",
       " 'عنصر ضد راه معك كلم رجع 🤐',\n",
       " 'هاذ رحل ❗ هاذ زعل ❗ هاذ غير ايم ❗ خبرو جمع بان اصل بق…',\n",
       " 'شكل 💔 شكل اني كنت ورط ومو فهم سله قعد احس',\n",
       " 'نوي شري 😓',\n",
       " 'شكر انو قلب عضل مو عظم بضل عضل رحم كسر 😔',\n",
       " 'عصم ويم علم لفت رحب زور ولي اوو يجر عقد سكن حسء ورق يه…',\n",
       " 'شكل جزه بيظ بدي يلا خربو ورح لاك 🙂 🙂',\n",
       " 'واح صغر عرف شعب سود اطب شعب عرب سعد حمي حمي سلم كشف عوديه…',\n",
       " 'قعد طرق وشت 💔',\n",
       " 'كبر تخف جنت نهر � ببه قله عزز كثر غرب � هسه اطب بلل بيه فرش انم � بيه امي هنك خاف م…',\n",
       " 'تلا سنه رقص ليل رقص ببك 😭 دي حلو شدد باخ',\n",
       " 'طبع يخف علي روبر موردوخ فهو امبراطور علم صهو سكي نيز فرع عرب 😏 وكس نيز مجل ني…',\n",
       " 'نتم قرب حقق دور وحن هبط 😔',\n",
       " 'شكل اعز اخي تزج تحل لنس فضي 😥',\n",
       " 'بلز عطو ريكش ولد يصح يقل عدي عدي 😭',\n",
       " 'تجر كوت بدن تحه 😡 رسل مره ورث حر بقم ملي ملي ارض جده حدث زهد …',\n",
       " 'جهز ❌ ولع ✅ شو صبر 😭',\n",
       " 'رجم صنج ترك فرس حكم دول غصب ترك فرس وان تعد عدي 😷',\n",
       " 'شنو الت 😒',\n",
       " 'خصص يدب تغر 😭',\n",
       " 'غرب فقط غدر وطن غدر اوط صغر حيت قلب نحب 💔',\n",
       " 'جرا زعل رضي تهت شعر ان جيت كلك رضي وان رحت كلك زعل — يهي تكف دخل عبر اعط شحم وعل و…',\n",
       " 'اذا كشف انه حبب تدخ تسب كمل معا 🙈 ؟ ؟',\n",
       " 'شعر جمل شمل 😓',\n",
       " 'لهم اشف طهر جسد سكب عليها هار رحه',\n",
       " 'صبح شوق حدو يك، دمع شاهد، فود فيك شغل طيب لحب ضمي يك؛ عس…',\n",
       " 'زال طمح زال 💪 ❤',\n",
       " 'لحظ كتر ؟ يمكن علش فكر هيك انت قدن 🌚 حول تغر يبو حبييب',\n",
       " 'علقو مراسيل وبي قصد واستباحو سكه بعد قدهم عيف 💔',\n",
       " 'انا بكر جامع 😿',\n",
       " 'جلس شغل لين فجر نهي نقع لاب ورح شغل 😶',\n",
       " 'تهل خيت 🌼 ام رون حفظ حفظج زينب محد تبع يكم حقكم عرفتو 😞',\n",
       " 'بمت ماتوقع يرد علي 😭',\n",
       " 'صيف عام 🤭 😂',\n",
       " 'اجد فرص عبر مدي حبي ذهب بعد ذهب قلب معك 💔',\n",
       " 'ابي اذا موت بقك ابد لعش بعد ضوء حيه سدي اذا موت بقك وطن وم…',\n",
       " 'سعد قلب بابتسامه يحب وم تعس عكس ذلك 💔',\n",
       " 'حين تجل نفس شرق روح ؛ تجل حقيق شيء حول صبح حيه حبا عطء نور ول…',\n",
       " 'جمل رقص خلج تقم عرب عير تحرر سحق فرش كوه 😫 برل صبح',\n",
       " 'ولل اسم مو زور صلح ثور 😂 خلو كمل هدا 💔',\n",
       " 'طعه سيد ✋',\n",
       " 'عدت تعد كبر لحب احا 💔',\n",
       " 'لقد كنت حذر جمع اعد 💔',\n",
       " 'فكر وبل',\n",
       " '💔 رب ثقل انت وحد علم بيه',\n",
       " 'وندم جمهور سلم تنه حوصل اش سر نمر توي ؟ 🤔',\n",
       " '👀 🙈 لكل مره قلتيل عليها ربه قلتل انا ربت 😂 😍 قعد وب…',\n",
       " 'شكر انو قلب عضل مو عظم بضل عضل رحم كسر 😔',\n",
       " 'جمع كلن خسر كيلو يوم خصي سها سعد 📒 كمم او حرم 📌 …',\n",
       " 'كلم اهل نهم دخلو شفي امل لمد شهر عشن اذا طلع قلو يقل انه ريض نفس قتل نفس حسب له…',\n",
       " 'سهر عشن اتر اصل 🌚',\n",
       " 'صبح ھتف فرق يدي لنھ تعط شعر حبھم قبض يدي هنا بدت حكي وا…',\n",
       " 'شرك وقل ريك تقل انت فهم عشن ده ريك 🚶',\n",
       " '😔 صحح جبر بقء معه او رحل',\n",
       " 'اخا لسه طلب حقق طلب علي ناس خذل 💔',\n",
       " 'هلل عرف برا جيه تقل اهم ويم تكون اهم ويل زور وتر عصابن…',\n",
       " 'وبي وذ لوف وصل ملي 😳 رحت ساع وكل 😂',\n",
       " 'حسن غني 🤮 كثر احر يده يسر سوء خلق 😷',\n",
       " 'رب جده كمن 😭',\n",
       " 'عبدالل بلل ريتو صدق امي ليل اطر تكف ادع لمي رحم وان شرني…',\n",
       " 'لعب ديه نحر اده شرط وضع اسم سلم 👎 🤔',\n",
       " 'اعن قلب احب صدق ، 👈 🏻 خذل 💔',\n",
       " 'دخل ملي بخر دقق 😭',\n",
       " 'لست ناس هنهار سبب هتشل تزد يوم وضع صعب ولل 😔',\n",
       " 'رسل مش عوز اكن وحد 💔',\n",
       " 'سرع سنه ارخ 💔',\n",
       " 'بنت علق خاذلو 😩',\n",
       " 'شان هيك قصص سير عرس خير رح يكون كرس بس ولل يهد جمع',\n",
       " 'تخر سمح احن جيع 💔',\n",
       " 'كحل عيو بدي الي ثني حمدلل 🌚',\n",
       " 'اعند غير 😔',\n",
       " 'ذكرو ريس بشر 🤔 ايك ياخ ده ريس قبل فات 😂 😂 🔥 ✌ 🏻',\n",
       " 'هين نزل لسه جرب 🌚',\n",
       " '📌 تشك رشح ايض يكف شره خلو رفش تكف',\n",
       " 'بغن هالاجواء جمل 😫',\n",
       " 'ريس يوم قلو ربع عرب 😒 نحن كتح فرق',\n",
       " 'امت عرف مين هيجيب جون سدس 🤔',\n",
       " 'ايس كرم 😢 😢 مباكلش ايس كرم بقل كتر ربع سنن 😭',\n",
       " 'سبل الي وصل دلن 💔',\n",
       " 'نبغ رجل نكن حكر لمر وحد ؛ جرم روع بحق رجل 😒',\n",
       " 'ناس تدم اغا ونا دمن عين 😴',\n",
       " 'حنا شقو ايج زون ثلث 😔',\n",
       " 'لهم امن 💔',\n",
       " 'ولل هلل قهر يلا مو شكل نحط حره هدا 💔',\n",
       " 'ازل اول ابد ماتغير قدم بطب بصف 😔',\n",
       " 'وفق جمع تبع تبع 🔙 ✌ ️',\n",
       " 'يستاهلونه قلل بحق 😒',\n",
       " 'للا دا كلم اشع ساي ادو بره 😒',\n",
       " 'كنت بدر فتر فتت سبب يخل كيب حمدلل لقت هرد سبب ✌ 😂 😂',\n",
       " 'يوم سين خرب تنب ارض عمر جدد 🌸 ❤ 💔',\n",
       " 'كمن قلقاس زعل بجد 😂 💔 💔',\n",
       " 'لهم اشف طهر جسد سكب عليها هار رحه',\n",
       " 'يوم خير ليتو صرح انا ليت ✋ حدا عند عبر 😁',\n",
       " 'غررد حمار قيل رهم رسل لقل 😩 رسل قوم تري يقل ؟؟…',\n",
       " 'رجو مشيش انا بشف بصل بحس بام رجو مش عوز شعر ده يضع مني 💔',\n",
       " 'ودد امر جطت دا حصل 😕',\n",
       " 'اي غلط كنت بحط 😭',\n",
       " 'تخش طعن عدو ، فهو عرف اما ضعف فيك اخش طعن صدق ، فهو كثر شخص خبر فيك 💔',\n",
       " 'لعب فين بعض 😤',\n",
       " 'اسا لحظ بحا 💔',\n",
       " 'تلا سنه رقص ليل رقص ببك 😭 دي حلو شدد باخ',\n",
       " 'عب اعند رصد حمل 😞',\n",
       " 'حسب ولل قله ادب مالقيو الا وقت رمض روح نحس رمض وجا 😫',\n",
       " 'خير ✋',\n",
       " 'تقل الم فعل شيء، انن اخذ هتف ضعف صره، رفض صلح 😭',\n",
       " 'هيه عرف 🌚 افا افا',\n",
       " 'قرفو صبح 😭',\n",
       " '⛔ 🍯 قسم بلل انه عسل 🍯 ⛔ سدر طبع ♨ ️ ⚠ ️ مضمون…',\n",
       " 'طعه سيد ✋',\n",
       " 'قرب جدا يعن 😩 حمس',\n",
       " 'كمه لطف ديو بصح 😭',\n",
       " '😭 اهي خطو حصل جنس سودانيه؟',\n",
       " 'يلا لعب 🐸',\n",
       " 'كتبل حرف ضمو عزيم اليوم لخر عام لهن عبر كور ضرب قيم وخر دقيق انم انت 😱',\n",
       " 'رحل نهو يسل وصر اليوم قبر رحل ععن فرق حزن صرت حسر ذكر يوم يحك بسم ثقر 💔 🍃 🎀',\n",
       " 'ان غفر رحم ❤',\n",
       " 'عزز حجب نص شعر طلع حجب، خرع سمو قمط 😏 صرت وضه شغل 😑 ☹ ️',\n",
       " 'تلا سنه رقص ليل رقص ببك 😭 دي حلو شدد باخ',\n",
       " 'نظر لزل تمس فيك وغر اسف فيك قهر 💔',\n",
       " 'سنه لح شهو تكن بشر ☝ 🏼 رخل توت 😏',\n",
       " '💢 صلح طلك قبل بوج ابض ولم سرق 💀 لعد منو سرق مول نزح 😐',\n",
       " 'بوم 💣 اوك',\n",
       " 'يخي قعد تلي ليل الحالي ليت 💔',\n",
       " '⛔ 🍯 قسم بلل انه عسل 🍯 ⛔ سدر طبع ♨ ️ ⚠ ️ مضمون…',\n",
       " 'بعد ؟ اول طير ريض خلص حفل 😏',\n",
       " 'اسم قلووم',\n",
       " 'مينفعش رجع شهر لور ليم كده هبق بسط ولل 🌚',\n",
       " 'يعن حين عرض انا الي بار بمي الم غلط من احد ركب عرس ؟ نقص تنم بين ند…',\n",
       " 'شوف احس حرق 😞',\n",
       " 'دمم ريض مطر واح بقي 😭',\n",
       " 'هه هه 😭',\n",
       " 'ردد يمه ، يبه ضمن اصو 😔 لان سمي يتم يتم 💔 كلب يتم',\n",
       " 'هيذكر ارخ اني فضل بلط كله لحد مواليد دخلو علا وكم واد حضر معا انا مووستااءااء 😭',\n",
       " 'شقت',\n",
       " 'رجل قرب طير قلق عشر قرن اضي عبر عرق طير وشر سلم لنه خار مدن ا…',\n",
       " 'عدي 😭 ، ان شاء يرب 💗',\n",
       " 'ياز فحل تهج',\n",
       " 'ريض 🤐',\n",
       " 'رحم يلل وتك تكد ان حيه بدن خسر 😢',\n",
       " 'بعد مشتاقيتله 💔',\n",
       " 'بطل وثق بحد 😒',\n",
       " 'ليل قربل بعد ساف تعب انا ليل روح وجه ليل تدر امر عان ذمت يا…',\n",
       " 'حين ناس الي تقل عيز نصل قرب ربن عشن موت بيج فجه طيب يعن انت جاي تصل حين خلص ايم نز…',\n",
       " 'يعن بكر اشل لان مر يوم 🌚',\n",
       " 'خير 💔 🤷',\n",
       " 'انه كيب تجب ضيق 😢 ،،لل يشف يعف 💔',\n",
       " 'اتم ان تكون شكل 💔',\n",
       " 'عظم 💔',\n",
       " 'طلا بود خب',\n",
       " 'هذر هذر حر سخن 😂 غرد 😷',\n",
       " 'كثر قطع ضحك هالفتر 😭 هه',\n",
       " 'روز فهي 😭',\n",
       " 'ابا ال 😭',\n",
       " 'ريكش وحد الي حمس ديز مايبالغ كلم يجن وحب شخص 😭',\n",
       " 'تحد قدر تحل لغز 🤔 نتج عدل طلع ؟ لحظ لحل صحح ردد ￼ 👇',\n",
       " 'افا اخر ردد نشد ؟ طول عمر هيط نقل ايهم وفق جمع حين ندر فزع ريق…',\n",
       " 'شفت عيل بسي نفس اشف غرد وان سوا حفل خرج ميز افه انع 🌚',\n",
       " '🧕 🏻 زوج سيه يقل زوج تزج عليها او طلق تدب 💀 زوج سيء يقل زوج صبر عشن عيل دع…',\n",
       " 'غيم مطر ؟ عوض امس كيب',\n",
       " 'حلق ثلث لشط ثني بدا شوق 🐸',\n",
       " 'نظر ظير ظير 😪',\n",
       " 'شكر انو قلب عضل مو عظم بضل عضل رحم كسر 😔',\n",
       " 'دنا زيل انا اليه رجع 💔',\n",
       " 'علق او شوك هدلع يعن 🌚',\n",
       " 'حيل شعر وصف اي فصل جمل غنء كفي الف غنه اغن',\n",
       " 'باي كان 😲',\n",
       " 'افي خير اليوم 🌚',\n",
       " 'علم عني فرق ضيم 😴',\n",
       " 'اكد 😞',\n",
       " 'احب عرف عيب كبر عند ؛ انا عرفش اسل حد ؛ انا فعل بلك اسل انت بلش دخل تقل انت سلش ليه ✋',\n",
       " 'خلك عيش طول حيت عاك شهد حسن سير سلو عشن تمت مش هتك جرد حبر ورق ✋',\n",
       " 'لاا موب 🌚',\n",
       " 'لكل تبع الف 🙁',\n",
       " 'فتر غيب 😴 عذر جمع عند ظرف دعو سعد 🌹',\n",
       " 'ولل سطر 😭',\n",
       " 'سبت 💔',\n",
       " 'الي ؟ ونا حري قلب يلن ناس قدم ونا رجع ورا',\n",
       " 'ღ ♬ اسل طيف الن نعش عشن احس غيب طول جعل ذمت اوحش 💔 …',\n",
       " 'رقب لحظ 😬',\n",
       " 'شهد جهز تنع 📌 تجد واع شهد تفق تمز تحس سبق لوح عبر …',\n",
       " '⛔ افي فض عصم وجه جمع هني سود ⛔ افي فض عصم وجه جمع هني سود ⛔ افي فض عص…',\n",
       " 'سمع كلم صدق اشف فعل غرب الم عتو جوس حصر قطر سبب اير حرب يمن 🤔 قو…',\n",
       " 'دنا بنه تعب 💔',\n",
       " 'سمح ضيء 😷',\n",
       " 'علم طيف ضبط ولم حكمو عندو قنطر بصل ضربو ملي برس شحن سيز ول…',\n",
       " 'بشر فتح 🙈',\n",
       " 'تلا سنه رقص ليل رقص ببك 😭 دي حلو شدد باخ',\n",
       " 'بعض قرب منك لمواساتك يطم انك تلم 💔',\n",
       " 'كان توفر بقي بدل جاد ربرب مو توفر بدت عيو قفل نوم 😪',\n",
       " 'اي فكر فرض رسم تجر مرفووض عذر نهم يرد نفر ثمر شردو 🤔 واي فكر فرض او رفع رسم ع…',\n",
       " 'نور توتر 😑',\n",
       " 'ونا فتش تيب تري انتولغيتو 😳',\n",
       " 'برع اخي 🔥 سبق خفف 💌 صلا بكي شوق لري 💌 لهم صل سلم بر…',\n",
       " 'نظر لزل تمس فيك وغر اسف فيك قهر 💔',\n",
       " 'ليق تيت 😔 — يلع 😔',\n",
       " 'فار 🐀 عهد خلل جلل 😲',\n",
       " 'امس ضرب صوت رعب ورب قوت حسب برا كنه برا حوش حق بيت ورب قلب يدق يوم قوت 😰',\n",
       " 'يلا نفس دخل 😭 ياخ نتو حلو حلا ♥ ️',\n",
       " 'لعب فين بعض 😤',\n",
       " 'بدي خلص ليه 😢 ده احن هنخلص ثني 🌚 🤦 🏻 \\u200d ♂ ️',\n",
       " 'الي عمل الس خدم عدم حرم وكن حشر ولل هالمواقف تصر بين نشف ربه جات بيت مع…',\n",
       " 'خطر بتت 😭',\n",
       " 'عرف انا صدم 😐 كنت احس شغل حلو',\n",
       " 'شكل ماش 😬',\n",
       " 'جرا زعل رضي تهت شعر ان جيت كلك رضي وان رحت كلك زعل — يهي تكف دخل عبر اعط شحم وعل و…',\n",
       " 'رب 💔',\n",
       " 'سيم عيش عهم خبث مكر ونا قذر زبل ارخ ✋',\n",
       " 'شعر وجع مزق قلب گل يله يوذ گثر 💔',\n",
       " 'مره وحد \\u2066 ❤ ️ \\u2069 💔',\n",
       " '😶',\n",
       " 'شكر انو قلب عضل مو عظم بضل عضل رحم كسر 😔',\n",
       " 'شفت 😱',\n",
       " 'لهم وفق درس سهل اختباراتي 😩',\n",
       " 'هه ذكر نفس 💔',\n",
       " 'راه يقظ فجر تصل تعج خبز حضر فطر لزج رفق باب دعو رزق كوكب نجد ؟ 🤔',\n",
       " 'عمت جمع طلبتج ابا سبع بدن خبر عمي دكتور تكف ترا تكف تهز رجل 💔',\n",
       " '⛔ 🍯 قسم بلل انه عسل 🍯 ⛔ سدر طبع ♨ ️ ⚠ ️ مضمون…',\n",
       " 'بفم خلت 😏',\n",
       " 'سمع جيت برح دير 😭',\n",
       " 'ناس طيب اوي اوي ليه ضحو 🙈',\n",
       " 'اي دور تشف اليوم حبو ليس ابي اسق هون الي خلق مشاوير 💔',\n",
       " 'لفل 🙈 ورد 😍 يسم 😂 💃 💃',\n",
       " 'متي،ووين،وبكم؟ 🌚',\n",
       " 'كتب وقع نتج لقء هلل اهل تاق 👇 دخل سحب قيم ايف عل…',\n",
       " 'افي خير اليوم 🌚',\n",
       " 'تكف ابي رجع مطر اشف 😭',\n",
       " 'جمهور بعثر كسر يما عطا حجه يما وفا قصر يما جرح لق…',\n",
       " 'طفل ومع جيش افش اي بدع 😡',\n",
       " 'انا اقل انت 🌚',\n",
       " 'ليش احس كسو رجع جند شيم انو شي حيل ☹',\n",
       " 'كثيير ولل 😢',\n",
       " 'سمح قسم زيء كنت كوس 😑',\n",
       " '💔 صلي وله ، اني اوص فطم ابن شيء ومر تلق ، نفذ ،…',\n",
       " 'فيك لوف كانت جيب قرب ال صح؟؟ 😳',\n",
       " 'شبه وفق طلل عده علق شي عجب قدر مش عرف خطر صور…',\n",
       " 'الب رجل خلف حيه فته سلت فته تتم لقل رجل كبي 💔',\n",
       " 'لنك خبث يوم نجح علق ولن انق نبغ قتل ضعف ركن قلب ولن ت…',\n",
       " 'هتمو لحر 😬',\n",
       " 'انا اكر كوبو لان مره خلت كري تبك احب لسل ايب 😭',\n",
       " 'لهي عيب 😠',\n",
       " 'طلع شمس صوت سعف تفو وسع طرق جدع معا وطن يمو 💔 ننس 😔',\n",
       " 'نه نه دو نفر جدا جدا 😁 …',\n",
       " 'فان جوخ فايل شبب وفي اخر ضرب نفس نار وضع خيف علم كان رعب عزز اجي 💔',\n",
       " 'نقل يرب وهي ماتقصر تعض تعب 😭',\n",
       " 'تكف اشف احد حاط اغن ضمن ضمن لان ويع 😷',\n",
       " 'كربلاء احس دري 💔',\n",
       " 'فخر صفر لند 😏',\n",
       " 'تحد يتج بطل دور تحد هدد هبط ريت دهر خلف يدر حزن يد…',\n",
       " 'وغد يدو 😭 😭 ابه لحد جنب سمع سوت ابه وقم بسي 😭',\n",
       " 'لعب فين بعض 😤',\n",
       " 'امس ونا حلق فتح حسب جزل حق حلق وسي بنف وقل اليوم ريح مب دفع كاش 🌚',\n",
       " 'قدم سول عرب عمر تخر عقل وقل حكم عند عقل حكم اسس اجل زحف سر…',\n",
       " 'مين رون ؟ 🙁',\n",
       " 'ليت نمت ابي اشف 💔',\n",
       " 'يبل قلب قوي 💔',\n",
       " 'سبح جلت قدر 💔',\n",
       " 'طب كلم طلعول بطق تمو 😂 😂 بقل سنت روح علي علي روح اكن لسط ✋',\n",
       " '💔',\n",
       " 'ناس طبع صدق تقل احن قرب احن اخو الخ 🔥 باستثناء طبع وبر جونيور 🌚',\n",
       " 'قدم تحد يعط امل بعد 😔',\n",
       " 'حجه حيت ديت ولل ؟؟ 😓',\n",
       " 'انا قلت حجه 😐',\n",
       " 'سمع كلم 😠',\n",
       " 'عين تغل غزل 😉 😂 😂',\n",
       " 'سول قعه فرح ليل زوج حرم طول عليها الذ وطب رجل اعند الا قهه وشه 🤔',\n",
       " 'صبح خير 💔',\n",
       " '😡 نعم 😡 😡',\n",
       " 'وقع نتج برا جيز 💵 صحب وقع صحح 🔴 شرط سبق ✅ تبع ا…',\n",
       " 'خير ✋',\n",
       " 'صدق احد حدث كثر لكن فكر مماتتصور 💔',\n",
       " 'ولل هلل قهر يلا مو شكل نحط حره هدا 💔',\n",
       " 'نبي وير ليت شوي نشر 😭',\n",
       " 'شي همو عفسو عيل ديمقراطيه تعن شعب حلل حرم 😏',\n",
       " 'ناس زي بقي نهم نفر نهم شوي قرض 😥',\n",
       " 'يثب 💔',\n",
       " 'علم اين ابد زعماء مااقول الا صبر خبط زور ستر جاي 🤔',\n",
       " 'احب بكل ويت مرض 💔',\n",
       " 'كلم احد يقل ختم واد ونا ختم اول سول كتب 🌚',\n",
       " 'ونت رحتش 😏',\n",
       " 'غرب دار 💔',\n",
       " 'طيب مب 😬',\n",
       " 'صدق الم عيل يوم ايبغ تزج وحد جمع رتب عشن مشاريع زمن ويج زوج قدم شفط شي 😶',\n",
       " 'قلي نطق ونا اشف صنم همه ضيق وزد حرق شعر حمد جلي 💔',\n",
       " 'صرت افز نوم اصح وقل دخييل رجعو 😭',\n",
       " 'جاء ببل طول 😭',\n",
       " 'شنو سلف اشو صرت كور همن 😭',\n",
       " 'وفي حال نسي قرر مسح رسيل وصر ❤ عثر عين صور ثلث 💔 ؛ وقع حبه مره خر…',\n",
       " 'مين قال دا كلم 😱',\n",
       " 'ززل 😭',\n",
       " '⌚ رمض بوب حاج ي الي ظهر جسم 👗 ثلي انق دعي قلق ⛄ من سمن وزن زيد 🌵 حقب حيف…',\n",
       " '😔 😔 😔',\n",
       " 'عند رهب خبر وش لحل سعد 😭 — صيح خلص ذكر ديم اسي اصر ذكر رتح لني طلعت…',\n",
       " 'حرم 😢 انا قيل انتخ بيت 😂',\n",
       " 'كنت تري ذكر 🥀',\n",
       " 'وعد بان يكون بين ابد ونس سلك اهو حبك وجع ؟ 💔',\n",
       " 'نوه لخا عظم سخر في توت سخر حال وليس نكم حترم لان شعب تبع جيد صح…',\n",
       " '✔ ️ حلق سبع عشر 💥 هجر مدينه…',\n",
       " 'هل بحث نصب اقي 🥒 هل تعا سرع قذف 🏃 ♂ ️ 💥 امن 💥 مرض سكر ضغط 👍 💪 🏻 جمع قدر ال…',\n",
       " 'يلل واف 💔',\n",
       " 'وين هيب صول جول ببا ببا جا ويعبدونه ولخ وخر سجد عبد خلق 😒',\n",
       " 'علي سحق 😡',\n",
       " 'يلف شوي 😒',\n",
       " 'ونت هوي وبالنسبه ماي 💔 …',\n",
       " 'يعن سيس فهم علم؟ 😡 سنه ضوي وحد مسافات، مش وقت',\n",
       " 'ولم انت ترح مين هيفضل 💔',\n",
       " 'رح حكل مثل 🌚 لتر كثر قول حجه حفظ',\n",
       " 'زعل ليه 😏',\n",
       " 'رسي سخن كلم فرغ 😤',\n",
       " 'رجوش، علي خان يدر خرد طفي 😒 ،،ل اصل خرد خلص نص شهر 😞',\n",
       " 'هدف سلم حلو امن فيد 😏',\n",
       " 'قرض عمد عده فرق كتب لحظ 😞',\n",
       " 'تري ولل قلت شعر قلت نكت 🌚',\n",
       " 'ولل اسم مو زور صلح ثور 😂 خلو كمل هدا 💔',\n",
       " 'طيب تبك 🙈',\n",
       " 'عيده، ركز هالمر 😒',\n",
       " 'ضد يمكن عند صور رفج تحجب 😐',\n",
       " 'هجر حترجع بكر حضل وحد',\n",
       " 'ريس جلس عسكر سود جدد اسم عبدالفتاح اخا سود برك فتح علي 😶',\n",
       " 'احب هلك سوط قلب 💔',\n",
       " 'ورد 🤕 دخل بقه انت 😐 😭 جيز ترح 😭 😩',\n",
       " 'ذكر 😒',\n",
       " 'لهم صل سلم 🌱 😴',\n",
       " 'اله فطم ابي بعل بني لسر ودع لقد ضقت صدر رحب 💔 لهم نقم ظلم',\n",
       " 'اي ولل 😞',\n",
       " 'احك ايم حله تشل عني بلك 💔',\n",
       " 'حاس انه خسر 💔',\n",
       " '🚫 كثر دعء 🚫 كثر دعي اليوم اول جمع شيطان…',\n",
       " 'حول تعش حدث نكت ايم بلاكبيري',\n",
       " 'عدي عند دعم كلم دعم تسف 😳',\n",
       " 'اشن واع زعل انك زعل محد عنك 🙄 يعن زعل غبن 😟 يهو ترا زعل درو عني رضو 😹',\n",
       " '،، تمم لهم سعد فوز 🥀 ⠀ ┄ ༻ 💗 ༺ ┄ ﴿ يات ان لطف خبر ﴾',\n",
       " 'تعب شيء فهن تعب شيء فقل حمد لله داي وبد 💔',\n",
       " 'بدن زعل وقل صفت شهر يلد 😎 تكبر 😏 طيب 😊 عصب 😤 جمل 😇 حنن 😻 شرر 😠 تقلب زاج 🙄 محبوب…',\n",
       " 'تري دنا ارض هشم ✋',\n",
       " 'لهم رحم وتا غسل قبر غسل ارض طر، لهم مطر علي سيم رحم يلل ابي ومي 💔',\n",
       " 'حسب روم نزل هدف ندر عود صبه اركو شجع لرو هدف نهم وكان بار وقل سهل درج ان…',\n",
       " 'خلو رلم 😏',\n",
       " 'مو قصد، اذن ندء ناس صحو صله ذكر بوق ومايتضايق صله الا شيط ا…',\n",
       " 'خلص بلا طمع وسم وهم سيطر 🦁 ♥ ️ 😂 عقد نهي بتك صلح اي احد اتم نهي تلق شخص وبس 😔',\n",
       " 'عرف ترا 😒',\n",
       " 'الي ريس سود جدد اذا رين علي حق عنك رين بطل عرف برك 🐸',\n",
       " 'هه يرب',\n",
       " 'تري رجل كيف يبن تقم صبح سجد سجد وتقومينه ونت تبس رجل وذا شغل تقر كت…',\n",
       " 'اكر اعند شخص فضل يحس شعر اني هتم 💔',\n",
       " 'سلم موت عزيزتي، روح سبع يقل جمع انك تملكينها، انه خيره؟ 💔',\n",
       " 'عجل خفء ضبط شرف زي كنو معا قفو ضد بشر قيفو معا ضد اب عوف ، ولل نخل ناس طبع صو…',\n",
       " 'انا حير 😥',\n",
       " '😔 اقس قلب يان حرب جني اخ؟ ركب ذنب جمع بنء وطن لح…',\n",
       " 'خير قوم ايم حذر كمي كبر مطر قدم نحو تصل بعا غرف طو…',\n",
       " 'هيو رحم 😶',\n",
       " 'فقد طرف هجم 💔',\n",
       " 'كتب ارد خفء علم 😳 وهي قفل عليها باب حمم جلس تبك 🌚 😂 🥊 🤣',\n",
       " '°• نقص صدقاء يسل حال حقق حال تعب وليس حال يكون بخر 💔',\n",
       " 'قاليم نغل زوج سمع كلم زوج يقم حلق شعر تبق بيت اهل حتي ظهر شعر بعد ثل…',\n",
       " 'جهز امن فرم عولاق ده رجع تني 😠',\n",
       " 'لحب تصر 💔',\n",
       " 'وقع سيس وضح انك ال سعد نصر فعل حكم صدق وجد فسد فسد كبر نهم هل…',\n",
       " 'رقبو ليل 💸 💰 حفل كبر حفل وعد معا اليوم سعه 🎉 جيز 💸 …',\n",
       " 'اسي ذحن كثر 😰',\n",
       " 'ان شاء هتبق ليل الف ليل ولل عزء بتع حمق رافير 🌚',\n",
       " 'ريس يوم قلو ربع عرب 😒 نحن كتح فرق',\n",
       " 'انا وطن سعد تضرر برح مطر دخل بيت وبن عيب بنء كله ابي بدر سان 😔',\n",
       " 'ربي نهم كنو فرح مطر مطر قبر حيب رحم غفر فتح ببا تهب سيم جنه يسد بد…',\n",
       " 'مسا شي تنس ترك لحب اخد اسي 💔',\n",
       " 'حتج رقم فسر حلم فسر وقع عيش 💔',\n",
       " 'حيه وقف صدمگ وقف بكگ 😢 وقف بحج جهل تبق هنگ وقف تنس',\n",
       " 'ما راح ضرهہ ابس بعد ونس ، اني حهہ ؟ ولل ما حهہ 💔',\n",
       " '🌚 للا ثمد',\n",
       " 'موت انس يوم ينم ، ينس ، سرح ، شاق 💔 اضي',\n",
       " 'حلم جلس كرر كمل سبع وكل يوم اقم نوم اشف شخص رسل 🌚 احس شي يصر قرب',\n",
       " 'سلم يحج ارض ✋ سلم ياع خلق ✋ سلم ينر هدي هتد وي…',\n",
       " 'ولل اجب عار الي انت شكال ولل وضح انج درب ✋',\n",
       " 'يسر 💔',\n",
       " 'يان ببا حرك يقل برح شور فجه يصر لعب اهو ايش فيه جحد بنت 😞',\n",
       " 'انا ريض 😣 دعل دعه لعل تجب 😣',\n",
       " 'ضاع منك زحم ناس ، ونا شخص حبك ونت تدر ركز 💔',\n",
       " 'حدد رقم خلو بدل جهد بدن حدد رقم لان ركز رقم يخل جبن نحس حبط 💔',\n",
       " 'تكد وجع ايك شخص حبب بشد 💔',\n",
       " 'انا ريض 😣 دعل دعه لعل تجب 😣',\n",
       " '™ ⬇ ان غلب الي شيف نفس كترو محد عطي وجه وقع 🌚 ✌',\n",
       " 'ذوق ثلي 😬',\n",
       " 'اعل كره شدد لهذا سلسل سبب قطع سفز 💔',\n",
       " 'لعب فين بعض 😤',\n",
       " 'عرف ليش 😏',\n",
       " 'كلن تذي ناس عمر فكر نهم زعلو 💔',\n",
       " 'لهم امن يرب علم حسب نعم وكل 💔',\n",
       " '🔥 ⚡ ️ جدد ⚡ ️ نطح جبل ⛰ وسم ⛰ ⛰ 💥 لم…',\n",
       " 'علم او علم 😊 ان قلب غرف صغر غلق 🙈 يسك فرس حلم 😍 وبق غرف ضيف رمل ول…',\n",
       " 'كان خبطو برس 💔',\n",
       " 'ريس يوم قلو ربع عرب 😒 نحن كتح فرق',\n",
       " 'تغر قلب وعو متل فيك',\n",
       " 'صدق قال قرب عقرب 😠',\n",
       " 'حله شعر 😭',\n",
       " 'تحت غرد تحد روق سرع اذا فاز هلل ان شاء ، سرع وزع قيم ايف …',\n",
       " 'دقيق عٺب ، خير عدوھ بدہ 💔',\n",
       " 'درس دوم يعن 😕',\n",
       " 'وحد اله خطر يقم نوم عمل خلق 😴',\n",
       " 'برا نقط تحل طرد واستبدال فتح ، جهد لعب اهل تكف لدر لت…',\n",
       " 'انه سبت احب علم 🤔',\n",
       " 'عيش معا ليش دخل قبر 🚫 …',\n",
       " 'احد خيف تحد 🤔',\n",
       " 'شكل ناس اذا عودو انك ماتزعل خلص فلو حسبو خشب 😢',\n",
       " 'لغز ؟ 😏',\n",
       " 'الي لعب حبل مو خين عكس ليق 🌚',\n",
       " 'ورب فتر ندم يمه لعب ارسو دول عرب خربو بحج رفع ظل…',\n",
       " 'اول كلب هاد 😒 😂 😂',\n",
       " '⛔ 🍯 قسم بلل انه عسل 🍯 ⛔ سدر طبع ♨ ️ ⚠ ️ مضمون…',\n",
       " 'لجن نشط صدر بيا رسم خصص عين يجب لحد لعب دور حرف ولل ✋',\n",
       " 'هذك حين وضع حفل 💔',\n",
       " 'هه درت 😭 😂 حسب صدمو انا وسر 😭',\n",
       " 'صباح ✋ يوم جدد 🌧 ☕ ️ 🕊 جعل شعر حيه جدد 🍀',\n",
       " 'بقي سلو هالاسيله وبق فعل 😳',\n",
       " 'لنك خبث يوم نجح علق ولن انق نبغ قتل ضعف ركن قلب ولن ت…',\n",
       " 'تلا سنه رقص ليل رقص ببك 😭 دي حلو شدد باخ',\n",
       " 'ليت ثلج رتم علي 😣',\n",
       " 'جيت عشن راح جيت حرب 💔',\n",
       " 'وقع نتج برا جيز 💵 صحب وقع صحح 🔴 شرط سبق ✅ تبع ا…',\n",
       " 'مره عطس جنب ويت زمن شغل عطس شغل طول 😲',\n",
       " 'صبح سلك ضيع ثقف حول ان يكون ندا ثقف طرق روج ثقف اخر عرف علم لكل ، استوقفت…',\n",
       " 'دم شهد يرح هدر 😣',\n",
       " '⛔ افي فض عصم وجه جمع هني سود ⛔ افي فض عصم وجه جمع هني سود ⛔ افي فض عص…',\n",
       " '⠀ ⠀ ⠀ ⠀ ⠀ ⠀ عند تكون نقا داخل، منح نور علم، يحب ناس من…',\n",
       " 'اغن مكملناش 💔 🎶',\n",
       " 'قحط جد ،، ليش 🤔',\n",
       " '💚 🍃 🌷 📿 🥀 🥀 سهل تضع يدك فمك لا كلم صعب تضع يدك قلب ك…',\n",
       " 'ليب عرك دير خين حفتر جلس وطن وفق سود ثور قلب شقق جزير ثور وعي عش…',\n",
       " 'حزن بجد',\n",
       " 'عرف اثن جماهير هلل ريض لزم جبرو روحون…',\n",
       " 'حان سدل ستر هرء سرح ✋',\n",
       " 'لحب كذب خبت وقع رحل طرق سدد صدق قلب ❤ ️ كذب شعر صحب 💔',\n",
       " 'خير ✋',\n",
       " 'سلم ضحك يدق ببك فجه 😴',\n",
       " 'شلن انا بعو اشك اشك بعو 💔',\n",
       " 'قعد اصح 💔',\n",
       " 'صعب وضع 💔 انا نفس رسم عجب وبد الن ومر عجب خلص رفز 🌚 💔 احس رسم فقد برق رع…',\n",
       " 'كانت حيه، رحم عليها 💔',\n",
       " 'وفض امر ملف همم رفع اليه حانه، ليق لحق فكر نم هان 😴',\n",
       " 'تبك لحظ دمع ☹ عند فرح يري ابتسامتك 😔 جرب ضرط 💨 لكل قلب كلب ولس 🌚 💔 …',\n",
       " 'سهل جدا ستغ عنك طول ماغرور اقي منك هابعد اسب لضح غير ومش هاعاتب يوم قبل 💔',\n",
       " 'خير ✋',\n",
       " 'سوت رضو اطلع شي 💔',\n",
       " 'ليش محد علم كنت نيم 💔',\n",
       " '🤤 😢 يلا ربن عاك 😖',\n",
       " '😞 تره شتك 🌃 رفس گلب 💔 … خلص ليل 🚶 🏻 \\u200d ♀ …… راد يسل وين 😔 …',\n",
       " '📍 📍 يوم جمع جزه ورح من رتي جبر بدل ودي عضء سعه …',\n",
       " 'امر نصف عمر كنه ضجج طفل بقي نصف دلت ابعد فحت رسي رغم ميل دهر امل سحب حزن مطر عام ما زاح 💔',\n",
       " 'ثنه بول رياكتد هها',\n",
       " 'لمذ فعل شيا جعل شعر بنك سحق اعن جلك؟ 💔',\n",
       " 'حلم خرف بخر بلد ادم خرف خنع حكم كلب 😏',\n",
       " 'شوف وحب خشم يااغلامن قدبو 💔',\n",
       " 'بلز حشر خشم عند انا اسل وحد سلت لقف 😤',\n",
       " 'نفع رمض ولل 😂 💔 بدل جلس اصب وغر يكل شرب 😤',\n",
       " 'رجو جهو قيد مثل بتع ضرب رصص هوا قولو ديل قنص عشن ناس تخف شيلو اريس ح…',\n",
       " 'عبدالرزاق حمد برا هلل قال كلم ارخ اثق في…',\n",
       " 'تلع نفس لعن 💔',\n",
       " 'خير ✋',\n",
       " 'عبد ثقيله، قلب خرب ذنب ثقل 💔 غفر ❤ ️',\n",
       " 'تكن دمع ، لهب فاض برك 🥀',\n",
       " 'خير شخص رمط حيه وبق قول يرز ضحك عيونو ثاب مابينقصو',\n",
       " 'لنك خبث يوم نجح علق ولن انق نبغ قتل ضعف ركن قلب ولن ت…',\n",
       " 'احس بصح فرح لنه فاز افف 😭',\n",
       " 'تجز 💍 عمر سنه تسو حفل ودع عزب 😅 اسس عشت عزب 😒 سوي حفل ودع طفل حسنل 👶 🍼',\n",
       " 'ذكر تعب 😔',\n",
       " 'مين فين مش عرف حقق حلم ولد م 😍 عاه سبب وحد ان ناس شغل دنا سرق اح 😕 لم…',\n",
       " 'هاي قصه صلح سلسل رمض 🤔',\n",
       " 'حتج قير هرد 😔',\n",
       " 'هيك مسمووح 🙈',\n",
       " 'اوه اوه ندم قلب ظلم 💔',\n",
       " 'رجع نام عدي 🌚',\n",
       " 'جمل طفل تجد بسم برء وفي عمل بسط 😅 😞',\n",
       " 'هه خلي ساك 💔',\n",
       " 'اخر وظف وظف جرب لعب 🧸 شكل طفش 😒 🧐 وش ريك وظف مثل ؟',\n",
       " 'انا خيف علم يمت ايمو 😰',\n",
       " 'نفذ رشد كاديم ثنو خوارزم بدر عنو خار خصص جمع حضر عمد كله علم دب…',\n",
       " 'صوت مطر عود ذكر 😔',\n",
       " 'حول عدل حين 😭',\n",
       " 'وسي جدي ناس 😭 😭 💔',\n",
       " 'كنت منقهور اسف 😭',\n",
       " 'كرمو من حولگم كلم جمل 👌 فعل جمل لقد خلق فتر 👌 …',\n",
       " 'هاي احد يجي دردش معي 🙈',\n",
       " 'اخا لسه طلب حقق طلب علي ناس خذل 💔',\n",
       " 'تذكر نظر بين جمع جدل سبع جدد اسس ااي عمل حلل سيس دير اشك يهم لث…',\n",
       " 'قنع رار عتب تعب جهل فضل نقش ثمر شيء 🥀 🔘 🔘 🥀 🥀 🔘 🔘',\n",
       " 'طحح سعد قوليل عطي اما نعط تو نور دور يعط 😏',\n",
       " 'تكد جبل 🤔',\n",
       " 'احد يزف كمرو',\n",
       " 'فرض تتي ريح شهي سفن اضع هلل دور برا حده…',\n",
       " 'اخا لسه طلب حقق طلب علي ناس خذل 💔',\n",
       " 'عاد نسب داي ارك انك الش وحد جعل حيه مكن قبل عيش وهذا ايذ 🥀',\n",
       " 'نمت سعت امل لقي وصل ☹',\n",
       " 'شر ؟',\n",
       " 'كري نظر',\n",
       " 'هوب عرض ✋',\n",
       " 'يعن حضر قصد ايه 😒',\n",
       " 'فعل قرف جدا 😒',\n",
       " 'انت خلصتو؟ 😳',\n",
       " 'تسرع كتر برد صفء سيل مش ازا عند شكل علق كلم لان عم…',\n",
       " 'بدي اقر هالروايه صوت بكت ومو قدر كمل يلل جمل وحد هزت هز امس توف طفل 💔',\n",
       " 'طيب يرح نهق بعد عنا 😂 😂 طلب دره يتر فتح قسم نهق بعض حمر منع غرد عند 😏',\n",
       " 'خذل جعل علم لغه صمت بعد عتب 💔',\n",
       " 'ليت نشت 💔',\n",
       " 'اوع تسب يحب وقت محتاجل فكر قلك يوم الش غير بلش كسر قلب وقت ضعف 💔',\n",
       " '⛔ افي فض عصم وجه جمع هني سود ⛔ افي فض عصم وجه جمع هني سود ⛔ افي فض عص…',\n",
       " 'وقع نتج برا جيز 💵 صحب وقع صحح 🔴 شرط سبق ✅ تبع ا…',\n",
       " 'شخص تحب ﮫ ربك ، صدق قدر تكر ﮪ ، حتي وجع قلب ملي مر ﮪ ظبط جاء فبل 🥀',\n",
       " 'طيب وخت قرو قهرو 🙈',\n",
       " '🔥 فجر غضب شعب 🔥 💥 يدو اخر ظهر عرم 💥 …',\n",
       " 'لنك مو نعس 😒',\n",
       " 'ريس يوم قلو ربع عرب 😒 نحن كتح فرق',\n",
       " 'خوت وخا خنق ليف نشر شتيم بادل ولل حرم اتن وان احس ناس علي تو…',\n",
       " 'رحم رحم رحم ❤ ️',\n",
       " 'صيح جمع 😩',\n",
       " 'بذن تحد يفز 😭',\n",
       " 'ظهر 🌹 قرب ريح شهر رمض زدد يوم يوم تعل قرب لهم بلغ شهررمض شي تظر شهررمض 💔 😔 م…',\n",
       " 'ولل ثلث اتف عرس كره شو يعن الم ركب عرس درا حبت طلق عشي تفه الم نشب زقه…',\n",
       " 'لهم اشف رضي سرط خفف علي الم شعر لهم اشف طهر جسد سكب عليها هار را…',\n",
       " 'نسخ جيه ظرو 😔',\n",
       " 'وجد اخت بنت فرق فعل ✋',\n",
       " 'تلا سنه رقص ليل رقص ببك 😭 دي حلو شدد باخ',\n",
       " 'لهم رحم امي وبي وخي ولد وذر ومو سلم جمع 💔',\n",
       " 'بكء رحه 😑',\n",
       " '💞 💔 درب درب عنو عنا بلد اوط اوط غيب جب زمن صد…',\n",
       " 'امي غلي شهر حله غيبوب 💔 ﴿ رضت فهو يشف ﴾ لهم اشف امي شفء غدر سقم',\n",
       " 'عيش مره عها وجب عيد سو 😭',\n",
       " 'الي عمل الس خدم عدم حرم وكن حشر ولل هالمواقف تصر بين نشف ربه جات بيت مع…',\n",
       " '📜 يقل ابن قيم رحم 💔 قلب شدت غفل شدت قسه ذكر …',\n",
       " 'ولل ثلث اتف عرس كره شو يعن الم ركب عرس درا حبت طلق عشي تفه الم نشب زقه…',\n",
       " 'خار انت روح 🙈',\n",
       " 'سمع يقل جمع امه كلب نجس لعب نجس وكل افه نجس 😑 كلب 👇',\n",
       " 'علم قلب اني احب قدر ،، ارد قدر هوي ،، حدد رغب عظم قسه قلب ،، تحل ين…',\n",
       " 'بجد نفس حد دخل حيت يكون تفه كدا حكل حدت يوم يبق هلس بقا 💃 💃 مش نكد عيش الد ام…',\n",
       " 'عيز ضعف ناج سلم شغل وقت قيس بعل جود حقق عدل صعب 🤔 توب يزر حلتهال اكن زر…',\n",
       " 'اشء صوت يبخ 😩 احن يذن عند هند 💔',\n",
       " 'يرب ريح هالالم جلس احس',\n",
       " 'فعل حظ شوي 😬 صحب رتي رقم هالتغريده 💰 صحب رتي رقم هالتغري…',\n",
       " 'عطت خذت الا ندم 💔',\n",
       " 'خلص جمع نظم حين تقل نسب خيرر 🌚 خبر هيه ☹ ️',\n",
       " 'عوز ريي حبي بعد قلب راي فرد طرش فكر تني لني مش هتساهل حبي وغر دي مش بيد وي…',\n",
       " 'حلل ليش نكد عمر صحب فرح سعد بدل 😬',\n",
       " 'صح شلن 😩',\n",
       " 'ستع 😪',\n",
       " 'اه ولل فعل ✋',\n",
       " 'كتب وقع نتج لقء هلل اهل تاق 👇 دخل سحب قيم ايف عل…',\n",
       " 'جمع داء دوء 💔',\n",
       " 'اكد سبب اتر صبح 😔',\n",
       " 'يتي كمل ، قلب فالمستقبل',\n",
       " 'وفي نهي طلع امك وخل 🙂 نيم احس 😐',\n",
       " 'سفك دم شهد 💔',\n",
       " 'ومذ بلي بحب لقء الم يكف الم بعد يذق الم شيق 💔',\n",
       " 'فرض اسي جذي عشن كمل ترم لزم خدم لني برح كمل حيت نست نزل لبم 😭',\n",
       " 'جيبول عود',\n",
       " 'ايك ان توذ نفس ، تكن بشر 💔',\n",
       " 'انا عيز ارح ربكس 💔',\n",
       " 'مش قلت نبا عطل جمع عشن رقد 😏',\n",
       " 'ياس كمل هيك 😭',\n",
       " 'ربن يرح قلب حسس بحج مش قدر شرح لحد 😢',\n",
       " '🔹 رفض بضي نور علم كلهم حرب سنه 🔹 📌 سجل قيم نفع يبن ضلل فرق …',\n",
       " 'تحد يتج بطل دور تحد هدد هبط ريت دهر خلف يدر فل…',\n",
       " 'بصر ثلك 😣',\n",
       " 'اصل ععاد دوم لجو ككذ 💔',\n",
       " 'حمد شكر لله 👐',\n",
       " 'حدث نشت رحل نفس علم اين 💔',\n",
       " 'يضح 😭 حست بري 😬',\n",
       " 'بحر احس نكم 😒 شوف غلط بحر',\n",
       " 'حاج ال بتج فوت اون مبيبقاش ليه عني او بتك فقد شغف بتع 😑',\n",
       " '📍 📍 يوم جمع جزه ورح من رتي جبر بدل ودي عضء سعه …',\n",
       " 'هجر احد ولڪ قست اڪن شيا يطق 🥀 حذر 👌 🏻',\n",
       " '❥ ⁽ 🇾 🇪 ₎ ┊ ↷ عجز اعد ڪل ➪ اليوم وضع ضيق…',\n",
       " 'هذا هلل بكل بسط نظر هدا حكم لحظ طرد لعب اهل غفل عم طرد برك ته…',\n",
       " 'صرت عند ؟ 😐',\n",
       " 'وحد ولا تكن شخص يسد فرغ يوم مثل 💔',\n",
       " 'جهز تحد ليل ان شاء 💚 💙',\n",
       " 'اغن اخذ قلب حرف 😩',\n",
       " '🤔 لهم عجل خلص',\n",
       " 'صوت ،، حرم مهي شهر وغر اقل كثر اخذ شهر ظلم ولل 💔',\n",
       " 'يتم ثلي سمع قله زور ليل ببر دوس ليگ 💔 …',\n",
       " 'شخص يحب يقر اخر لنك بسط جمل بشر نظر ؟ 😴 ❤ ️ — 💔',\n",
       " 'الس عيب ان حفظ اغا كرر سور صله 💔',\n",
       " 'سعد صبح خير ✋',\n",
       " 'احل يكش وكو علم 😭',\n",
       " 'دقق ملي 😭',\n",
       " 'انه علم هدر نسو اجل 😩',\n",
       " '🌵 💕 لهم امن يرب علم 💕 🌵',\n",
       " 'ترم اقل انه تصر قدت 💔',\n",
       " 'تلا سنه رقص ليل رقص ببك 😭 دي حلو شدد باخ',\n",
       " '🙈',\n",
       " 'بقي شعر قلب كوبر 💔',\n",
       " 'برك هلل هاردل طحلب 🐸 وطز نصر 😜',\n",
       " 'عبد ثقيله، قلب خرب ذنب ثقل 💔 غفر ❤ ️',\n",
       " 'هذا هلل بكل بسط نظر هدا حكم لحظ طرد لعب اهل غفل عم طرد برك ته…',\n",
       " '💫 هتل ايب هتل حگم لقم 💫 هتل گمن طرق لبر وخر حوط وقت لشر 💫 يرب وسط ناس ستر …',\n",
       " 'لهم رحل عني كسر قلب يرب جبر كسر لقي جنه لهم غفرل رحم 💔',\n",
       " 'لغز يحل ذكي فطن 🤔 نتج عدل طلع ؟ لحظ لحل صحح ردد ￼ 👇',\n",
       " 'شغل 💔',\n",
       " 'ولل ثلث اتف عرس كره شو يعن الم ركب عرس درا حبت طلق عشي تفه الم نشب زقه…',\n",
       " 'ومش هزر 😐',\n",
       " 'ليل كتب عنه قلم ليل حصد ارخ قتل اجل قتل كين قتل م…',\n",
       " 'تفق معي حمدلل مو هدف وبس الا سفح 🤔',\n",
       " 'تبع عزء ولد توف دعو رحم جزا خير 😢',\n",
       " 'نه نه دو نفر جدا جدا 😁 …',\n",
       " 'منت لحل يحي 😢',\n",
       " '🥀 ديم نقل لحب عنو انس قصد حب ، ظرھ علقہ لحب تعط عطا…',\n",
       " 'طهر واع لحب 💕 ان تحب شخص لكك 💔 نصب 😢 تظل تحب 💕 تتم سعد 🌷 فقط لنك حبب ❤ …',\n",
       " 'ليش جهنم 😕',\n",
       " '💔 ويد بنت طلقو سبب هلش يظل علق اسم طلق شنو ذنب هلش اذا رجل اصل مو رجل 👎 🏻 👎 🏻',\n",
       " 'شقت حق ايم قدم ويد يمع ربع قدم ايم مدرسه، شي',\n",
       " 'تحد يتج بطل دور تحد هدد هبط ريت دهر خلف يدر حزن يد…',\n",
       " 'بخر انل خير لني تجر علي وجع قلب ان نقص احد جرح وضح سلم 💔 حق…',\n",
       " 'حنن شكل عام قتل ابل بحن كبر الس قطع قلب وماينلام زمن انق احب جمل 💔',\n",
       " 'قلب ضيق ظرف تحد عين هلت دمع برر 💔',\n",
       " 'ستج رره حلو اغن هدي ريق صوت راب وفي حبي حبي رقص عجبب عطيها…',\n",
       " 'فرق كبر يقل كلم طلب حفز تحد ، يقل باب علء حقر اذ…',\n",
       " 'ارح يكون اون لين صح؟ 😰',\n",
       " 'شنو يعن بدن هوه ؟ اذو 🌚',\n",
       " 'دقيق سمح وقت دقيق مشتاقل حيل ضيق 💔',\n",
       " 'اذا فيف عرف هلش غلط مش فرض صرف تخذ جرء تحد سعد اقي هاي شوشرا…',\n",
       " '📍 رشد كتب خطط بحث رحل عبر',\n",
       " 'قذر وعف 😷',\n",
       " 'اني',\n",
       " 'رزق كرم 🥀',\n",
       " 'اله ذهب باس رب ناس اشف ونت شفي شفء شفو شفء غدر سقم اله ذهب باس رب ناس بيد لش…',\n",
       " 'حلو يخل 😭',\n",
       " 'الي يحب مطر خله طلع هالشوارع حين 😒',\n",
       " 'قايزز ناس شي 😢',\n",
       " 'ناس سحي 😠',\n",
       " 'شفت 🌚',\n",
       " 'زمن فكر حنا قدم عذر شرك 😏',\n",
       " 'خطء وثر بلغ حكم اوت 🤔',\n",
       " 'حبي عظم خطي اقل نفس لحب توب 💔',\n",
       " 'قبر بلك 😰',\n",
       " 'يلع نصر ، توتر ابق فين عصب وبط مغص ، حسد مايشجع ، ولل يهو عيش نعم ، ل…',\n",
       " 'فرض اعف زمن وقت 🥀',\n",
       " 'رسي صدع حصه 🌚',\n",
       " 'بسم توه نزل مدك تشف 😭',\n",
       " 'مره يكون اتش اهل اكن مش تحمس عيز فرج لنه قرب نتج عرف وحج زعل جدا صرح 💔',\n",
       " '⛔ افي فض عصم وجه جمع هني سود ⛔ افي فض عصم وجه جمع هني سود ⛔ افي فض عص…',\n",
       " 'اهل بيع برا نشف لعب عرب 🤔',\n",
       " 'شكر انو قلب عضل مو عظم بضل عضل رحم كسر 😔',\n",
       " 'اي فكر فرض رسم تجر مرفووض عذر نهم يرد نفر ثمر شردو 🤔 واي فكر فرض او رفع رسم ع…',\n",
       " 'كان نفس قفل متح هرد زي ابو عدل 😐 هو ابو عدل قفل متح لا نفس رضو',\n",
       " 'سول بري ولب رلم لامواخذه يمن جلس نوب مافيهوش نيب ؟ 🤔 جبه سول …',\n",
       " 'غاب شجر 🌚',\n",
       " 'طب شو بدك فيه انت 😒',\n",
       " 'حبب قلب 🙈',\n",
       " 'شعر قسي حين تزر كنك قدم يعد كنك ان، حين تري صدق قدم عودو صدق …',\n",
       " 'مش حلم الس سنه حلم هرد حلم حلو زعل جدا صحت كشف انه حلم 😭 يرب حقق 😭 😭',\n",
       " 'قلب شوق ملا يوم زيد حنن 💔',\n",
       " 'صبت عين امي 🥀 💔 كانت ابتسامتي فرق الن حزن قتل 😔',\n",
       " ...]"
      ]
     },
     "execution_count": 44,
     "metadata": {},
     "output_type": "execute_result"
    }
   ],
   "source": [
    "all_stemmed[\"stemmed tweet\"].tolist()"
   ]
  },
  {
   "cell_type": "code",
   "execution_count": 45,
   "metadata": {
    "colab": {
     "base_uri": "https://localhost:8080/",
     "height": 0
    },
    "id": "JGQAy9allcB9",
    "outputId": "0e79e7a8-ff12-4e60-a61b-799dd25dc9aa"
   },
   "outputs": [
    {
     "name": "stdout",
     "output_type": "stream",
     "text": [
      "tokenizer vocab count for all stemmed tweets\n",
      "[PAD] 0\n",
      "[OOV] 1\n"
     ]
    },
    {
     "data": {
      "image/png": "[encoded data removed]",
      "text/plain": [
       "<Figure size 1080x864 with 1 Axes>"
      ]
     },
     "metadata": {
      "needs_background": "light"
     },
     "output_type": "display_data"
    },
    {
     "name": "stdout",
     "output_type": "stream",
     "text": [
      "9283\n"
     ]
    }
   ],
   "source": [
    "print(\"tokenizer vocab count for all stemmed tweets\")\n",
    "counts = [stemmed_vocab.get(key) for key in tokenizer.get_vocab().keys() if key != '[PAD]' and key != '[OOV]' ]\n",
    "for key,value in tokenizer.get_vocab().items():\n",
    "  count = stemmed_vocab.get(key)\n",
    "  if count == None:\n",
    "    print(key,value)\n",
    "fig, ax = plt.subplots(figsize=(15, 12))\n",
    "sns.boxplot(y=counts, ax=ax)\n",
    "ax.set_title(\"Word Count\", fontdict=dict(size=15), pad=15)\n",
    "plt.show()\n",
    "print(len(counts))"
   ]
  },
  {
   "cell_type": "markdown",
   "metadata": {
    "id": "Czb_xcDi2RKI"
   },
   "source": [
    "### prepare stemmed tweets, vocabs dicts and tokenization to be saved"
   ]
  },
  {
   "cell_type": "markdown",
   "metadata": {
    "id": "QWX-gz1S2jmF"
   },
   "source": [
    "##### prepare stemmed tweets"
   ]
  },
  {
   "cell_type": "code",
   "execution_count": 46,
   "metadata": {
    "id": "xrJzeF8g2gXD"
   },
   "outputs": [],
   "source": [
    "stemmed_tweets_data = dict({\n",
    "    'train_input':selected_train_data[\"stemmed tweet\"].to_list(),\n",
    "    'train_output':selected_train_data[\"sentiment\"].to_list(),\n",
    "    'test_input':selected_test_data[\"stemmed tweet\"].to_list(),\n",
    "    'test_output':selected_test_data[\"sentiment\"].to_list()\n",
    "})"
   ]
  },
  {
   "cell_type": "markdown",
   "metadata": {
    "id": "2j3ba0ZZ2zuZ"
   },
   "source": [
    "##### prepare vocabs dicts"
   ]
  },
  {
   "cell_type": "code",
   "execution_count": 47,
   "metadata": {
    "colab": {
     "base_uri": "https://localhost:8080/"
    },
    "id": "ynuPjqkEDJCZ",
    "outputId": "45bd236d-d469-49f4-9ccd-3b9ece45832d"
   },
   "outputs": [
    {
     "name": "stdout",
     "output_type": "stream",
     "text": [
      "None\n",
      "ولل\n"
     ]
    }
   ],
   "source": [
    "vocab_to_index = tokenizer.get_vocab()\n",
    "index_to_vocab = {value:key for (key,value) in vocab_to_index.items()}\n",
    "print(vocab_to_index.get(''))\n",
    "print(index_to_vocab.get(13))"
   ]
  },
  {
   "cell_type": "code",
   "execution_count": 48,
   "metadata": {
    "id": "P6YUnXswCwM1"
   },
   "outputs": [],
   "source": [
    "vocabs = dict({\n",
    "    'vocab_to_index':vocab_to_index,\n",
    "    'index_to_vocab':index_to_vocab\n",
    "})"
   ]
  },
  {
   "cell_type": "markdown",
   "metadata": {
    "id": "R08Re_dL26N9"
   },
   "source": [
    "##### prepare tokenization"
   ]
  },
  {
   "cell_type": "code",
   "execution_count": 49,
   "metadata": {
    "id": "QBfiE8Wg3AzW"
   },
   "outputs": [],
   "source": [
    "# train tweets dataset tokenization\n",
    "train_data_tweets = selected_train_data[\"stemmed tweet\"].apply(lambda x: x.split(\" \")).to_list()\n",
    "train_data_tokenization_matrix = tokenizer.encode_batch(input=train_data_tweets,is_pretokenized=True)\n",
    "train_data_tokenization_matrix = list(map(lambda x:x.ids, train_data_tokenization_matrix))\n",
    "\n",
    "# test tweets dataset tokenization\n",
    "test_data_tweets = selected_test_data[\"stemmed tweet\"].apply(lambda x: x.split(\" \")).to_list()\n",
    "test_data_tokenization_matrix = tokenizer.encode_batch(input=test_data_tweets,is_pretokenized=True)\n",
    "test_data_tokenization_matrix = list(map(lambda x:x.ids, test_data_tokenization_matrix))\n",
    "\n",
    "# all tweets dataset tokenization\n",
    "all_stemmed_tweets = all_stemmed[\"stemmed tweet\"].apply(lambda x: x.split(\" \")).to_list()\n",
    "tokenization_matrix = tokenizer.encode_batch(input=all_stemmed_tweets,is_pretokenized=True)\n",
    "tokenization_matrix = list(map(lambda x:x.ids, tokenization_matrix))"
   ]
  },
  {
   "cell_type": "code",
   "execution_count": 50,
   "metadata": {
    "id": "EwhRJNqSSzob"
   },
   "outputs": [],
   "source": [
    "def manual_tokenization(tweet:str):\n",
    "  tokens = [vocab_to_index.get(word) if vocab_to_index.get(word) != None else 1 for word in tweet.split(\" \")]\n",
    "  tokens_length = len(tokens)\n",
    "  manual_tokenized_tweet = [0]*uesd_max_length\n",
    "  for index in range(uesd_max_length):\n",
    "    if(tokens_length - index - 1 >= 0):\n",
    "      manual_tokenized_tweet[(uesd_max_length - index - 1)] = tokens[tokens_length - index - 1]\n",
    "    else:\n",
    "      manual_tokenized_tweet[(uesd_max_length - index - 1)] = 0\n",
    "  print(\"tokenized tweet manually is\",manual_tokenized_tweet)"
   ]
  },
  {
   "cell_type": "code",
   "execution_count": 51,
   "metadata": {
    "colab": {
     "base_uri": "https://localhost:8080/"
    },
    "id": "NNxY0vL8S4bO",
    "outputId": "2eae726d-3580-495b-96a6-c4c193de7cd8"
   },
   "outputs": [
    {
     "name": "stdout",
     "output_type": "stream",
     "text": [
      "train tokenization length 44861\n",
      "tokenization length for train single tweet 26\n",
      "train tweet is حبب قنع فات عمر نظر 🙈\n",
      "tokenized tweet manually is [0, 0, 0, 0, 0, 0, 0, 0, 0, 0, 0, 0, 0, 0, 0, 0, 0, 0, 0, 0, 105, 857, 1469, 79, 64, 156]\n",
      "tokenized tweet by tokenizer is [0, 0, 0, 0, 0, 0, 0, 0, 0, 0, 0, 0, 0, 0, 0, 0, 0, 0, 0, 0, 105, 857, 1469, 79, 64, 156]\n",
      "test tokenization length 11426\n",
      "tokenization length for test single tweet 26\n",
      "test tweet is اذا لطف كوبل مر علي 😭 😭 💛 💛 حظ جني سمء ليح 😔 وحظ اثي ليح وقي جني\n",
      "tokenized tweet manually is [0, 0, 0, 0, 0, 0, 0, 148, 453, 1, 1459, 17, 8, 8, 35, 35, 1467, 1677, 561, 4126, 29, 4155, 1, 4126, 2501, 1677]\n",
      "tokenized tweet by tokenizer is [0, 0, 0, 0, 0, 0, 0, 148, 453, 1, 1459, 17, 8, 8, 35, 35, 1467, 1677, 561, 4126, 29, 4155, 1, 4126, 2501, 1677]\n",
      "all tokenization length 56287\n",
      "tokenization length for a single tweet in all tweets 26\n",
      "tweet is حبب قنع فات عمر نظر 🙈\n",
      "tokenized tweet manually is [0, 0, 0, 0, 0, 0, 0, 0, 0, 0, 0, 0, 0, 0, 0, 0, 0, 0, 0, 0, 105, 857, 1469, 79, 64, 156]\n",
      "tokenized tweet by tokenizer is [0, 0, 0, 0, 0, 0, 0, 0, 0, 0, 0, 0, 0, 0, 0, 0, 0, 0, 0, 0, 105, 857, 1469, 79, 64, 156]\n"
     ]
    }
   ],
   "source": [
    "index = 5\n",
    "# train tweets dataset tokenization\n",
    "print(\"train tokenization length\",len(train_data_tokenization_matrix))\n",
    "print(\"tokenization length for train single tweet\",len(train_data_tokenization_matrix[index]))\n",
    "tweet = selected_train_data[\"stemmed tweet\"].iloc[index]\n",
    "print(\"train tweet is\",tweet)\n",
    "manual_tokenization(tweet)\n",
    "print(\"tokenized tweet by tokenizer is\",train_data_tokenization_matrix[index])\n",
    "\n",
    "# test tweets dataset tokenization\n",
    "print(\"test tokenization length\",len(test_data_tokenization_matrix))\n",
    "print(\"tokenization length for test single tweet\",len(test_data_tokenization_matrix[index]))\n",
    "tweet = selected_test_data[\"stemmed tweet\"].iloc[index]\n",
    "print(\"test tweet is\",tweet)\n",
    "manual_tokenization(tweet)\n",
    "print(\"tokenized tweet by tokenizer is\",test_data_tokenization_matrix[index])\n",
    "\n",
    "# all tweets dataset tokenization\n",
    "print(\"all tokenization length\",len(tokenization_matrix))\n",
    "print(\"tokenization length for a single tweet in all tweets\",len(tokenization_matrix[index]))\n",
    "tweet = all_stemmed[\"stemmed tweet\"].iloc[index]\n",
    "print(\"tweet is\",tweet)\n",
    "manual_tokenization(tweet)\n",
    "print(\"tokenized tweet by tokenizer is\",tokenization_matrix[index])"
   ]
  },
  {
   "cell_type": "code",
   "execution_count": 52,
   "metadata": {
    "id": "tHTHBzHZJdKX"
   },
   "outputs": [],
   "source": [
    "tokenization_list = dict({\n",
    "    'tokenization_matrix':tokenization_matrix,\n",
    "    'test_data_tokenization_matrix':test_data_tokenization_matrix,\n",
    "    'train_data_tokenization_matrix':train_data_tokenization_matrix\n",
    "})"
   ]
  },
  {
   "cell_type": "markdown",
   "metadata": {
    "id": "xloko_YkuY2v"
   },
   "source": [
    "### save tokenization matrix, vocabs and stemmed tweets"
   ]
  },
  {
   "cell_type": "code",
   "execution_count": 53,
   "metadata": {
    "id": "6i5DxISUueWx"
   },
   "outputs": [],
   "source": [
    "stemmed_tweets_path = os.path.join(data_folder,'stemmed_tweets.json')\n",
    "vocab_path = os.path.join(data_folder,'vocabs.json')\n",
    "tokenization_path = os.path.join(data_folder,'tokenization_matrix.json')\n",
    "\n",
    "with open(stemmed_tweets_path, \"wt+\") as f:\n",
    "    json.dump(obj=stemmed_tweets_data, fp=f, ensure_ascii=False)\n",
    "  \n",
    "with open(vocab_path, \"wt+\") as f:\n",
    "    json.dump(obj=vocabs, fp=f, ensure_ascii=False)\n",
    "\n",
    "with open(tokenization_path, \"wt+\") as f:\n",
    "    json.dump(obj=tokenization_list, fp=f)"
   ]
  }
 ],
 "metadata": {
  "colab": {
   "collapsed_sections": [
    "CcLK-WbLP_1r",
    "ceJTKAc7QLdr",
    "pEo6anrJQNzP",
    "fS0gErDAQrZ9",
    "75-_5XIZRCfv",
    "44AlWUud06_b",
    "fSAxCYhy6bph",
    "5fL5YJD8PQmy",
    "i8U5-Q_XUD_0",
    "2ypOQoqxXXkB",
    "UcN1qYjiLmCV",
    "XwCM27VdMy15",
    "bOFnzssjNVYI",
    "PteC-K0KVQxx",
    "5OO7PMWIAswJ",
    "7O6fZHluyr55",
    "ud4065umBUU6",
    "X43Mw5VYCgx0",
    "jZjvWFNn0B9X",
    "h9CaryOmuOnK",
    "QWX-gz1S2jmF",
    "2j3ba0ZZ2zuZ",
    "R08Re_dL26N9",
    "xloko_YkuY2v"
   ],
   "provenance": []
  },
  "kernelspec": {
   "display_name": "Python 3 (ipykernel)",
   "language": "python",
   "name": "python3"
  },
  "language_info": {
   "codemirror_mode": {
    "name": "ipython",
    "version": 3
   },
   "file_extension": ".py",
   "mimetype": "text/x-python",
   "name": "python",
   "nbconvert_exporter": "python",
   "pygments_lexer": "ipython3",
   "version": "3.10.8"
  }
 },
 "nbformat": 4,
 "nbformat_minor": 4
}
