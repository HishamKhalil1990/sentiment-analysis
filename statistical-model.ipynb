{
 "cells": [
  {
   "cell_type": "markdown",
   "metadata": {
    "id": "5k9rM5Yf1TJN"
   },
   "source": [
    "# Packages"
   ]
  },
  {
   "cell_type": "markdown",
   "metadata": {
    "id": "tn9Icyds1oAK",
    "tags": []
   },
   "source": [
    "### install packages"
   ]
  },
  {
   "cell_type": "code",
   "execution_count": 1,
   "metadata": {
    "colab": {
     "base_uri": "https://localhost:8080/"
    },
    "id": "ubXT6YD01uR7",
    "outputId": "e9d387d0-f38b-402d-948f-ee373130caf1"
   },
   "outputs": [],
   "source": [
    "# !pip install numpy as np\n",
    "# !pip install sklearn\n",
    "# !pip install nltk\n",
    "# !pip install matplotlib"
   ]
  },
  {
   "cell_type": "markdown",
   "metadata": {
    "id": "bBtPP_Oi1y7S"
   },
   "source": [
    "### import packages"
   ]
  },
  {
   "cell_type": "code",
   "execution_count": 2,
   "metadata": {
    "colab": {
     "base_uri": "https://localhost:8080/"
    },
    "id": "9pWhuv5712bL",
    "outputId": "1e18b251-dc74-4d68-87ea-1d1ad7fd57bb"
   },
   "outputs": [
    {
     "name": "stderr",
     "output_type": "stream",
     "text": [
      "[nltk_data] Downloading collection 'popular'\n",
      "[nltk_data]    | \n",
      "[nltk_data]    | Downloading package cmudict to\n",
      "[nltk_data]    |     /home/hisham/nltk_data...\n",
      "[nltk_data]    |   Unzipping corpora/cmudict.zip.\n",
      "[nltk_data]    | Downloading package gazetteers to\n",
      "[nltk_data]    |     /home/hisham/nltk_data...\n",
      "[nltk_data]    |   Unzipping corpora/gazetteers.zip.\n",
      "[nltk_data]    | Downloading package genesis to\n",
      "[nltk_data]    |     /home/hisham/nltk_data...\n",
      "[nltk_data]    |   Unzipping corpora/genesis.zip.\n",
      "[nltk_data]    | Downloading package gutenberg to\n",
      "[nltk_data]    |     /home/hisham/nltk_data...\n",
      "[nltk_data]    |   Unzipping corpora/gutenberg.zip.\n",
      "[nltk_data]    | Downloading package inaugural to\n",
      "[nltk_data]    |     /home/hisham/nltk_data...\n",
      "[nltk_data]    |   Unzipping corpora/inaugural.zip.\n",
      "[nltk_data]    | Downloading package movie_reviews to\n",
      "[nltk_data]    |     /home/hisham/nltk_data...\n",
      "[nltk_data]    |   Unzipping corpora/movie_reviews.zip.\n",
      "[nltk_data]    | Downloading package names to\n",
      "[nltk_data]    |     /home/hisham/nltk_data...\n",
      "[nltk_data]    |   Unzipping corpora/names.zip.\n",
      "[nltk_data]    | Downloading package shakespeare to\n",
      "[nltk_data]    |     /home/hisham/nltk_data...\n",
      "[nltk_data]    |   Unzipping corpora/shakespeare.zip.\n",
      "[nltk_data]    | Downloading package stopwords to\n",
      "[nltk_data]    |     /home/hisham/nltk_data...\n",
      "[nltk_data]    |   Unzipping corpora/stopwords.zip.\n",
      "[nltk_data]    | Downloading package treebank to\n",
      "[nltk_data]    |     /home/hisham/nltk_data...\n",
      "[nltk_data]    |   Unzipping corpora/treebank.zip.\n",
      "[nltk_data]    | Downloading package twitter_samples to\n",
      "[nltk_data]    |     /home/hisham/nltk_data...\n",
      "[nltk_data]    |   Unzipping corpora/twitter_samples.zip.\n",
      "[nltk_data]    | Downloading package omw to /home/hisham/nltk_data...\n",
      "[nltk_data]    | Downloading package omw-1.4 to\n",
      "[nltk_data]    |     /home/hisham/nltk_data...\n",
      "[nltk_data]    | Downloading package wordnet to\n",
      "[nltk_data]    |     /home/hisham/nltk_data...\n",
      "[nltk_data]    | Downloading package wordnet2021 to\n",
      "[nltk_data]    |     /home/hisham/nltk_data...\n",
      "[nltk_data]    | Downloading package wordnet31 to\n",
      "[nltk_data]    |     /home/hisham/nltk_data...\n",
      "[nltk_data]    | Downloading package wordnet_ic to\n",
      "[nltk_data]    |     /home/hisham/nltk_data...\n",
      "[nltk_data]    |   Unzipping corpora/wordnet_ic.zip.\n",
      "[nltk_data]    | Downloading package words to\n",
      "[nltk_data]    |     /home/hisham/nltk_data...\n",
      "[nltk_data]    |   Unzipping corpora/words.zip.\n",
      "[nltk_data]    | Downloading package maxent_ne_chunker to\n",
      "[nltk_data]    |     /home/hisham/nltk_data...\n",
      "[nltk_data]    |   Unzipping chunkers/maxent_ne_chunker.zip.\n",
      "[nltk_data]    | Downloading package punkt to\n",
      "[nltk_data]    |     /home/hisham/nltk_data...\n",
      "[nltk_data]    |   Unzipping tokenizers/punkt.zip.\n",
      "[nltk_data]    | Downloading package snowball_data to\n",
      "[nltk_data]    |     /home/hisham/nltk_data...\n",
      "[nltk_data]    | Downloading package averaged_perceptron_tagger to\n",
      "[nltk_data]    |     /home/hisham/nltk_data...\n",
      "[nltk_data]    |   Unzipping taggers/averaged_perceptron_tagger.zip.\n",
      "[nltk_data]    | \n",
      "[nltk_data]  Done downloading collection popular\n"
     ]
    },
    {
     "data": {
      "text/plain": [
       "True"
      ]
     },
     "execution_count": 2,
     "metadata": {},
     "output_type": "execute_result"
    }
   ],
   "source": [
    "import os\n",
    "import json\n",
    "import collections\n",
    "\n",
    "import numpy as np\n",
    "import sklearn\n",
    "from sklearn.preprocessing import StandardScaler\n",
    "from  sklearn.neighbors import KNeighborsClassifier\n",
    "from sklearn.metrics import classification_report, confusion_matrix, f1_score\n",
    "\n",
    "import nltk\n",
    "from nltk import NaiveBayesClassifier\n",
    "from nltk import f_measure, precision\n",
    "\n",
    "nltk.download('popular')"
   ]
  },
  {
   "cell_type": "markdown",
   "metadata": {
    "id": "qbYA6sMt2kmC"
   },
   "source": [
    "# Uploading Data"
   ]
  },
  {
   "cell_type": "markdown",
   "metadata": {
    "id": "OfCYvd2P27KG",
    "tags": []
   },
   "source": [
    "### uploading tfidf-encoded datasets, stemmed tweets (target datasets) and vocabs"
   ]
  },
  {
   "cell_type": "code",
   "execution_count": 4,
   "metadata": {
    "id": "QGxuthZn2yus"
   },
   "outputs": [],
   "source": [
    "data_folder = 'sample_data'\n",
    "data_folder = os.path.join(os.curdir,data_folder)\n",
    "tfidf_encoded_datasets_path = os.path.join(data_folder,'encoding_matrix.json')\n",
    "stemmed_tweets_path = os.path.join(data_folder,'stemmed_tweets.json')\n",
    "vocabs_path = os.path.join(data_folder,'vocabs.json')\n",
    "\n",
    "tfidf_encoded_matrix = {}\n",
    "stemmed_tweets = {}\n",
    "vocabs = {}\n",
    "\n",
    "with open(tfidf_encoded_datasets_path, 'r') as f:\n",
    "  tfidf_encoded_matrix = json.load(f)\n",
    "\n",
    "with open(stemmed_tweets_path,encoding='utf-8') as f:\n",
    "  stemmed_tweets = json.load(f)\n",
    "\n",
    "with open(vocabs_path,encoding='utf-8') as f:\n",
    "  vocabs = json.load(f)\n",
    "\n",
    "# input dataset for k-neighbors\n",
    "train_encoded_input = tfidf_encoded_matrix[\"train_data_encoding_matrix\"]\n",
    "test_encoded_input = tfidf_encoded_matrix[\"test_data_encoding_matrix\"]\n",
    "\n",
    "# input dataset for naive bayes\n",
    "all_vocab_words = vocabs['vocab_to_index'].keys()\n",
    "train_tweet_input = stemmed_tweets[\"train_input\"]\n",
    "test_tweet_input = stemmed_tweets[\"test_input\"]\n",
    "\n",
    "# outputs for both\n",
    "train_output = stemmed_tweets[\"train_output\"]\n",
    "test_output = stemmed_tweets[\"test_output\"]"
   ]
  },
  {
   "cell_type": "markdown",
   "metadata": {
    "id": "30fiIBpx3wWx",
    "tags": []
   },
   "source": [
    "# K-nearset neighbors"
   ]
  },
  {
   "cell_type": "markdown",
   "metadata": {
    "id": "8e1DOaJ_sxUR"
   },
   "source": [
    "### Modeling"
   ]
  },
  {
   "cell_type": "code",
   "execution_count": 5,
   "metadata": {
    "colab": {
     "base_uri": "https://localhost:8080/"
    },
    "id": "F_FJu275s-JB",
    "outputId": "52cd5009-80c9-452a-b54e-360a920009ce"
   },
   "outputs": [
    {
     "data": {
      "text/html": [
       "<style>#sk-container-id-1 {color: black;background-color: white;}#sk-container-id-1 pre{padding: 0;}#sk-container-id-1 div.sk-toggleable {background-color: white;}#sk-container-id-1 label.sk-toggleable__label {cursor: pointer;display: block;width: 100%;margin-bottom: 0;padding: 0.3em;box-sizing: border-box;text-align: center;}#sk-container-id-1 label.sk-toggleable__label-arrow:before {content: \"▸\";float: left;margin-right: 0.25em;color: #696969;}#sk-container-id-1 label.sk-toggleable__label-arrow:hover:before {color: black;}#sk-container-id-1 div.sk-estimator:hover label.sk-toggleable__label-arrow:before {color: black;}#sk-container-id-1 div.sk-toggleable__content {max-height: 0;max-width: 0;overflow: hidden;text-align: left;background-color: #f0f8ff;}#sk-container-id-1 div.sk-toggleable__content pre {margin: 0.2em;color: black;border-radius: 0.25em;background-color: #f0f8ff;}#sk-container-id-1 input.sk-toggleable__control:checked~div.sk-toggleable__content {max-height: 200px;max-width: 100%;overflow: auto;}#sk-container-id-1 input.sk-toggleable__control:checked~label.sk-toggleable__label-arrow:before {content: \"▾\";}#sk-container-id-1 div.sk-estimator input.sk-toggleable__control:checked~label.sk-toggleable__label {background-color: #d4ebff;}#sk-container-id-1 div.sk-label input.sk-toggleable__control:checked~label.sk-toggleable__label {background-color: #d4ebff;}#sk-container-id-1 input.sk-hidden--visually {border: 0;clip: rect(1px 1px 1px 1px);clip: rect(1px, 1px, 1px, 1px);height: 1px;margin: -1px;overflow: hidden;padding: 0;position: absolute;width: 1px;}#sk-container-id-1 div.sk-estimator {font-family: monospace;background-color: #f0f8ff;border: 1px dotted black;border-radius: 0.25em;box-sizing: border-box;margin-bottom: 0.5em;}#sk-container-id-1 div.sk-estimator:hover {background-color: #d4ebff;}#sk-container-id-1 div.sk-parallel-item::after {content: \"\";width: 100%;border-bottom: 1px solid gray;flex-grow: 1;}#sk-container-id-1 div.sk-label:hover label.sk-toggleable__label {background-color: #d4ebff;}#sk-container-id-1 div.sk-serial::before {content: \"\";position: absolute;border-left: 1px solid gray;box-sizing: border-box;top: 0;bottom: 0;left: 50%;z-index: 0;}#sk-container-id-1 div.sk-serial {display: flex;flex-direction: column;align-items: center;background-color: white;padding-right: 0.2em;padding-left: 0.2em;position: relative;}#sk-container-id-1 div.sk-item {position: relative;z-index: 1;}#sk-container-id-1 div.sk-parallel {display: flex;align-items: stretch;justify-content: center;background-color: white;position: relative;}#sk-container-id-1 div.sk-item::before, #sk-container-id-1 div.sk-parallel-item::before {content: \"\";position: absolute;border-left: 1px solid gray;box-sizing: border-box;top: 0;bottom: 0;left: 50%;z-index: -1;}#sk-container-id-1 div.sk-parallel-item {display: flex;flex-direction: column;z-index: 1;position: relative;background-color: white;}#sk-container-id-1 div.sk-parallel-item:first-child::after {align-self: flex-end;width: 50%;}#sk-container-id-1 div.sk-parallel-item:last-child::after {align-self: flex-start;width: 50%;}#sk-container-id-1 div.sk-parallel-item:only-child::after {width: 0;}#sk-container-id-1 div.sk-dashed-wrapped {border: 1px dashed gray;margin: 0 0.4em 0.5em 0.4em;box-sizing: border-box;padding-bottom: 0.4em;background-color: white;}#sk-container-id-1 div.sk-label label {font-family: monospace;font-weight: bold;display: inline-block;line-height: 1.2em;}#sk-container-id-1 div.sk-label-container {text-align: center;}#sk-container-id-1 div.sk-container {/* jupyter's `normalize.less` sets `[hidden] { display: none; }` but bootstrap.min.css set `[hidden] { display: none !important; }` so we also need the `!important` here to be able to override the default hidden behavior on the sphinx rendered scikit-learn.org. See: https://github.com/scikit-learn/scikit-learn/issues/21755 */display: inline-block !important;position: relative;}#sk-container-id-1 div.sk-text-repr-fallback {display: none;}</style><div id=\"sk-container-id-1\" class=\"sk-top-container\"><div class=\"sk-text-repr-fallback\"><pre>KNeighborsClassifier()</pre><b>In a Jupyter environment, please rerun this cell to show the HTML representation or trust the notebook. <br />On GitHub, the HTML representation is unable to render, please try loading this page with nbviewer.org.</b></div><div class=\"sk-container\" hidden><div class=\"sk-item\"><div class=\"sk-estimator sk-toggleable\"><input class=\"sk-toggleable__control sk-hidden--visually\" id=\"sk-estimator-id-1\" type=\"checkbox\" checked><label for=\"sk-estimator-id-1\" class=\"sk-toggleable__label sk-toggleable__label-arrow\">KNeighborsClassifier</label><div class=\"sk-toggleable__content\"><pre>KNeighborsClassifier()</pre></div></div></div></div></div>"
      ],
      "text/plain": [
       "KNeighborsClassifier()"
      ]
     },
     "execution_count": 5,
     "metadata": {},
     "output_type": "execute_result"
    }
   ],
   "source": [
    "scaler = StandardScaler()\n",
    "scaler.fit(train_encoded_input)\n",
    "x_train = scaler.transform(train_encoded_input)\n",
    "x_test = scaler.transform(test_encoded_input)\n",
    "n_neigbors = 5\n",
    "k_neighbors_classifier = KNeighborsClassifier(n_neighbors=n_neigbors)\n",
    "k_neighbors_classifier.fit(x_train,train_output)"
   ]
  },
  {
   "cell_type": "markdown",
   "metadata": {
    "id": "B9AUsEgyuGo0"
   },
   "source": [
    "### Evaluation"
   ]
  },
  {
   "cell_type": "markdown",
   "metadata": {
    "id": "rT7N_xsKwk_7"
   },
   "source": [
    "##### predection"
   ]
  },
  {
   "cell_type": "code",
   "execution_count": 6,
   "metadata": {
    "id": "ewWHFdRWuUs8"
   },
   "outputs": [],
   "source": [
    "test_pred = k_neighbors_classifier.predict(x_test)"
   ]
  },
  {
   "cell_type": "markdown",
   "metadata": {
    "id": "KVDT6HY2woOq"
   },
   "source": [
    "##### classification report"
   ]
  },
  {
   "cell_type": "code",
   "execution_count": 7,
   "metadata": {
    "colab": {
     "base_uri": "https://localhost:8080/"
    },
    "id": "_VwxUb1lwWJL",
    "outputId": "97f9373a-064a-43a3-c296-c28f6850bd3e"
   },
   "outputs": [
    {
     "name": "stdout",
     "output_type": "stream",
     "text": [
      "              precision    recall  f1-score   support\n",
      "\n",
      "         neg       0.69      0.71      0.70      5735\n",
      "         pos       0.70      0.67      0.69      5691\n",
      "\n",
      "    accuracy                           0.69     11426\n",
      "   macro avg       0.69      0.69      0.69     11426\n",
      "weighted avg       0.69      0.69      0.69     11426\n",
      "\n"
     ]
    }
   ],
   "source": [
    "print(classification_report(test_output,test_pred))"
   ]
  },
  {
   "cell_type": "markdown",
   "metadata": {
    "id": "xgL3C3fswtLD"
   },
   "source": [
    "##### confusion matrix"
   ]
  },
  {
   "cell_type": "code",
   "execution_count": 8,
   "metadata": {
    "colab": {
     "base_uri": "https://localhost:8080/"
    },
    "id": "GyoYpsGDwYCt",
    "outputId": "8a993a91-0c00-4dae-9b46-933887ca0701"
   },
   "outputs": [
    {
     "name": "stdout",
     "output_type": "stream",
     "text": [
      "[[4089 1646]\n",
      " [1862 3829]]\n"
     ]
    }
   ],
   "source": [
    "print(confusion_matrix(test_output,test_pred))"
   ]
  },
  {
   "cell_type": "markdown",
   "metadata": {
    "id": "Pusg7qTQwzsw"
   },
   "source": [
    "##### f1 score"
   ]
  },
  {
   "cell_type": "code",
   "execution_count": 9,
   "metadata": {
    "colab": {
     "base_uri": "https://localhost:8080/"
    },
    "id": "A9_fTcjewbSt",
    "outputId": "c308b1cd-3723-4047-bec2-df2c4649f284"
   },
   "outputs": [
    {
     "name": "stdout",
     "output_type": "stream",
     "text": [
      "f1 score for neg is 0.699811740544241\n",
      "f1 score for pos is 0.6858319899695503\n"
     ]
    }
   ],
   "source": [
    "print(\"f1 score for neg is\",f1_score(test_output,test_pred, pos_label='neg'))\n",
    "print(\"f1 score for pos is\",f1_score(test_output,test_pred, pos_label='pos'))"
   ]
  },
  {
   "cell_type": "markdown",
   "metadata": {
    "id": "LQ66wD5N4P5r"
   },
   "source": [
    "# Naive Bayes"
   ]
  },
  {
   "cell_type": "markdown",
   "metadata": {
    "id": "dXIPEBox4ZDY"
   },
   "source": [
    "### Modeling"
   ]
  },
  {
   "cell_type": "code",
   "execution_count": 10,
   "metadata": {
    "id": "_m61bnf54dVh"
   },
   "outputs": [],
   "source": [
    "def find_features(tweet:str, index:int):\n",
    "  words = set(tweet.split(\" \"))\n",
    "  features = {}\n",
    "  for vocab in all_vocab_words:\n",
    "    features.update({vocab:(vocab in words)})\n",
    "  return features\n",
    "train_feature_set_list = [(find_features(train_tweet_input[index],index),train_output[index]) for index in range(len(train_tweet_input))]\n",
    "naive_bayes_classifier = NaiveBayesClassifier.train(train_feature_set_list)"
   ]
  },
  {
   "cell_type": "markdown",
   "metadata": {
    "id": "qyWTnP6I63nV"
   },
   "source": [
    "### Evaluation"
   ]
  },
  {
   "cell_type": "code",
   "execution_count": 11,
   "metadata": {
    "id": "FBv0shrV6_VE"
   },
   "outputs": [],
   "source": [
    "test_feature_list = [find_features(test_tweet_input[index],index) for index in range(len(test_tweet_input))]\n",
    "test_pred = naive_bayes_classifier.classify_many(test_feature_list)"
   ]
  },
  {
   "cell_type": "code",
   "execution_count": 19,
   "metadata": {},
   "outputs": [],
   "source": [
    "ref_sets = collections.defaultdict(set)\n",
    "test_sets = collections.defaultdict(set)\n",
    "\n",
    "for i,label in enumerate(test_output):\n",
    "    ref_sets[label].add(i)\n",
    "    observed = test_pred[i]\n",
    "    test_sets[observed].add(i)"
   ]
  },
  {
   "cell_type": "markdown",
   "metadata": {
    "id": "4KHugkUb9bct"
   },
   "source": [
    "##### precision"
   ]
  },
  {
   "cell_type": "code",
   "execution_count": 20,
   "metadata": {
    "id": "FyOzUPjR8zXk"
   },
   "outputs": [
    {
     "name": "stdout",
     "output_type": "stream",
     "text": [
      "pos precision:  0.9047171584288668\n",
      "neg precision:  0.8563472563472564\n"
     ]
    }
   ],
   "source": [
    "print('pos precision: ', precision(ref_sets['pos'], test_sets['pos']))\n",
    "print('neg precision: ', precision(ref_sets['neg'], test_sets['neg']))"
   ]
  },
  {
   "cell_type": "markdown",
   "metadata": {
    "id": "i5E1X_7_9hJT"
   },
   "source": [
    "##### f1 score"
   ]
  },
  {
   "cell_type": "code",
   "execution_count": 21,
   "metadata": {
    "id": "XjseUFBL9NcF"
   },
   "outputs": [
    {
     "name": "stdout",
     "output_type": "stream",
     "text": [
      "positive f-score: 0.874318924809299\n",
      "negative f-score: 0.8831081081081081\n"
     ]
    }
   ],
   "source": [
    "print('positive f-score:', f_measure(ref_sets['pos'], test_sets['pos']))\n",
    "print('negative f-score:', f_measure(ref_sets['neg'], test_sets['neg']))"
   ]
  }
 ],
 "metadata": {
  "colab": {
   "collapsed_sections": [
    "tn9Icyds1oAK",
    "bBtPP_Oi1y7S",
    "OfCYvd2P27KG",
    "8e1DOaJ_sxUR",
    "rT7N_xsKwk_7",
    "KVDT6HY2woOq",
    "xgL3C3fswtLD",
    "Pusg7qTQwzsw"
   ],
   "provenance": []
  },
  "kernelspec": {
   "display_name": "Python 3 (ipykernel)",
   "language": "python",
   "name": "python3"
  },
  "language_info": {
   "codemirror_mode": {
    "name": "ipython",
    "version": 3
   },
   "file_extension": ".py",
   "mimetype": "text/x-python",
   "name": "python",
   "nbconvert_exporter": "python",
   "pygments_lexer": "ipython3",
   "version": "3.10.8"
  }
 },
 "nbformat": 4,
 "nbformat_minor": 4
}
